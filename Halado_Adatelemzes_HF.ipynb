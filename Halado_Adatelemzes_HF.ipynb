{
  "nbformat": 4,
  "nbformat_minor": 0,
  "metadata": {
    "colab": {
      "provenance": [],
      "collapsed_sections": [
        "pH4ZEfSkUqWR",
        "jN49-nlbUsqp",
        "86yuE0ipcNKd",
        "PC7liPi5UvNq",
        "9EMbpCqDcFvd",
        "UWf9OPy6cUtM",
        "S3jM_Y2FU3en",
        "WbcyRCXbcPAA",
        "0m3MLZ3ocRmS"
      ]
    },
    "kernelspec": {
      "name": "python3",
      "display_name": "Python 3"
    },
    "language_info": {
      "name": "python"
    }
  },
  "cells": [
    {
      "cell_type": "code",
      "source": [
        "!wget https://www.dropbox.com/scl/fi/x77x88yfhnsjrfgn20b15/titanic_test.csv?rlkey=xrk50r09fcys0qkz0soay4q49&st=4s9z7rtf&dl=0\n",
        "!wget https://www.dropbox.com/scl/fi/2t3qxsju9knmad46ayv0e/titanic_train.csv?rlkey=t0tectfva29pdxfhqrzdfph8x&st=rkhxbm8u&dl=0"
      ],
      "metadata": {
        "colab": {
          "base_uri": "https://localhost:8080/"
        },
        "collapsed": true,
        "id": "mPw56uWGWI2T",
        "outputId": "28972deb-16a9-40ec-e1ca-16fde035577a"
      },
      "execution_count": null,
      "outputs": [
        {
          "output_type": "stream",
          "name": "stdout",
          "text": [
            "--2025-05-07 09:24:53--  https://www.dropbox.com/scl/fi/x77x88yfhnsjrfgn20b15/titanic_test.csv?rlkey=xrk50r09fcys0qkz0soay4q49\n",
            "Resolving www.dropbox.com (www.dropbox.com)... 162.125.5.18, 2620:100:601d:18::a27d:512\n",
            "Connecting to www.dropbox.com (www.dropbox.com)|162.125.5.18|:443... connected.\n",
            "HTTP request sent, awaiting response... 302 Found\n",
            "Location: https://ucd0577a7a53bdb7200ee436c5f7.dl.dropboxusercontent.com/cd/0/inline/CpOaThsJm93ZKCCdP773cWFgIPZZ-i2jmAczM6-22KFHgJThoHyPSSEUQdn9qGIiEuVxgZIh0wNxxCWGs6C-hnJyWC9BIDgeeeXrZsehYcVS80c8yJNttTURR-fD3ANd3kc1yRqI3XyBmxXgwM0kpPWe/file# [following]\n",
            "--2025-05-07 09:24:53--  https://ucd0577a7a53bdb7200ee436c5f7.dl.dropboxusercontent.com/cd/0/inline/CpOaThsJm93ZKCCdP773cWFgIPZZ-i2jmAczM6-22KFHgJThoHyPSSEUQdn9qGIiEuVxgZIh0wNxxCWGs6C-hnJyWC9BIDgeeeXrZsehYcVS80c8yJNttTURR-fD3ANd3kc1yRqI3XyBmxXgwM0kpPWe/file\n",
            "Resolving ucd0577a7a53bdb7200ee436c5f7.dl.dropboxusercontent.com (ucd0577a7a53bdb7200ee436c5f7.dl.dropboxusercontent.com)... 162.125.5.15, 2620:100:601d:15::a27d:50f\n",
            "Connecting to ucd0577a7a53bdb7200ee436c5f7.dl.dropboxusercontent.com (ucd0577a7a53bdb7200ee436c5f7.dl.dropboxusercontent.com)|162.125.5.15|:443... connected.\n",
            "HTTP request sent, awaiting response... 200 OK\n",
            "Length: 28629 (28K) [text/plain]\n",
            "Saving to: ‘titanic_test.csv?rlkey=xrk50r09fcys0qkz0soay4q49.1’\n",
            "\n",
            "titanic_test.csv?rl 100%[===================>]  27.96K  --.-KB/s    in 0.04s   \n",
            "\n",
            "2025-05-07 09:24:54 (781 KB/s) - ‘titanic_test.csv?rlkey=xrk50r09fcys0qkz0soay4q49.1’ saved [28629/28629]\n",
            "\n",
            "--2025-05-07 09:24:54--  https://www.dropbox.com/scl/fi/2t3qxsju9knmad46ayv0e/titanic_train.csv?rlkey=t0tectfva29pdxfhqrzdfph8x\n",
            "Resolving www.dropbox.com (www.dropbox.com)... 162.125.5.18, 2620:100:601d:18::a27d:512\n",
            "Connecting to www.dropbox.com (www.dropbox.com)|162.125.5.18|:443... connected.\n",
            "HTTP request sent, awaiting response... 302 Found\n",
            "Location: https://uc387be2b4e2932491eeff517ecc.dl.dropboxusercontent.com/cd/0/inline/CpNnil2epS_-uHDyagaf_9CDfY-d6QfYWfR72kAp0I446mAoNzEVA8JE1VIdxyyD6TteuQYl0lxAeGExl8Y36e-sj8wFfjB-OzLfcwuiW49YkcSfKAaBPGAspVm5Dtp88xKAocoDKATtN5EJ-uPs4szg/file# [following]\n",
            "--2025-05-07 09:24:54--  https://uc387be2b4e2932491eeff517ecc.dl.dropboxusercontent.com/cd/0/inline/CpNnil2epS_-uHDyagaf_9CDfY-d6QfYWfR72kAp0I446mAoNzEVA8JE1VIdxyyD6TteuQYl0lxAeGExl8Y36e-sj8wFfjB-OzLfcwuiW49YkcSfKAaBPGAspVm5Dtp88xKAocoDKATtN5EJ-uPs4szg/file\n",
            "Resolving uc387be2b4e2932491eeff517ecc.dl.dropboxusercontent.com (uc387be2b4e2932491eeff517ecc.dl.dropboxusercontent.com)... 162.125.5.15, 2620:100:601d:15::a27d:50f\n",
            "Connecting to uc387be2b4e2932491eeff517ecc.dl.dropboxusercontent.com (uc387be2b4e2932491eeff517ecc.dl.dropboxusercontent.com)|162.125.5.15|:443... connected.\n",
            "HTTP request sent, awaiting response... 200 OK\n",
            "Length: 61194 (60K) [text/plain]\n",
            "Saving to: ‘titanic_train.csv?rlkey=t0tectfva29pdxfhqrzdfph8x.1’\n",
            "\n",
            "titanic_train.csv?r 100%[===================>]  59.76K  --.-KB/s    in 0.03s   \n",
            "\n",
            "2025-05-07 09:24:55 (1.73 MB/s) - ‘titanic_train.csv?rlkey=t0tectfva29pdxfhqrzdfph8x.1’ saved [61194/61194]\n",
            "\n"
          ]
        }
      ]
    },
    {
      "cell_type": "code",
      "execution_count": null,
      "metadata": {
        "id": "cGMGfoa21bF2"
      },
      "outputs": [],
      "source": [
        "import os\n",
        "\n",
        "os.rename(\"titanic_train.csv?rlkey=t0tectfva29pdxfhqrzdfph8x\", \"train.csv\")\n",
        "os.rename(\"titanic_test.csv?rlkey=xrk50r09fcys0qkz0soay4q49\", \"test.csv\")"
      ]
    },
    {
      "cell_type": "code",
      "source": [
        "import pandas as pd\n",
        "\n",
        "train_data = pd.read_csv('train.csv')\n",
        "test_data = pd.read_csv('test.csv')\n",
        "df = pd.concat([train_data, test_data], axis=0)"
      ],
      "metadata": {
        "id": "6YMdxTDyJ5Pa"
      },
      "execution_count": null,
      "outputs": []
    },
    {
      "cell_type": "markdown",
      "source": [
        "# Adatok megfigyelése"
      ],
      "metadata": {
        "id": "nfvcVeEpTKnx"
      }
    },
    {
      "cell_type": "code",
      "source": [
        "df"
      ],
      "metadata": {
        "colab": {
          "base_uri": "https://localhost:8080/",
          "height": 423
        },
        "id": "A4gIbUANOjVh",
        "outputId": "8f6928f7-924f-4f1c-a007-21e64439df73",
        "collapsed": true
      },
      "execution_count": null,
      "outputs": [
        {
          "output_type": "execute_result",
          "data": {
            "text/plain": [
              "     PassengerId  Survived  Pclass  \\\n",
              "0              1      0.00       3   \n",
              "1              2      1.00       1   \n",
              "2              3      1.00       3   \n",
              "3              4      1.00       1   \n",
              "4              5      0.00       3   \n",
              "..           ...       ...     ...   \n",
              "413         1305       NaN       3   \n",
              "414         1306       NaN       1   \n",
              "415         1307       NaN       3   \n",
              "416         1308       NaN       3   \n",
              "417         1309       NaN       3   \n",
              "\n",
              "                                                  Name     Sex   Age  SibSp  \\\n",
              "0                              Braund, Mr. Owen Harris    male 22.00      1   \n",
              "1    Cumings, Mrs. John Bradley (Florence Briggs Th...  female 38.00      1   \n",
              "2                               Heikkinen, Miss. Laina  female 26.00      0   \n",
              "3         Futrelle, Mrs. Jacques Heath (Lily May Peel)  female 35.00      1   \n",
              "4                             Allen, Mr. William Henry    male 35.00      0   \n",
              "..                                                 ...     ...   ...    ...   \n",
              "413                                 Spector, Mr. Woolf    male   NaN      0   \n",
              "414                       Oliva y Ocana, Dona. Fermina  female 39.00      0   \n",
              "415                       Saether, Mr. Simon Sivertsen    male 38.50      0   \n",
              "416                                Ware, Mr. Frederick    male   NaN      0   \n",
              "417                           Peter, Master. Michael J    male   NaN      1   \n",
              "\n",
              "     Parch              Ticket   Fare Cabin Embarked  \n",
              "0        0           A/5 21171   7.25   NaN        S  \n",
              "1        0            PC 17599  71.28   C85        C  \n",
              "2        0    STON/O2. 3101282   7.92   NaN        S  \n",
              "3        0              113803  53.10  C123        S  \n",
              "4        0              373450   8.05   NaN        S  \n",
              "..     ...                 ...    ...   ...      ...  \n",
              "413      0           A.5. 3236   8.05   NaN        S  \n",
              "414      0            PC 17758 108.90  C105        C  \n",
              "415      0  SOTON/O.Q. 3101262   7.25   NaN        S  \n",
              "416      0              359309   8.05   NaN        S  \n",
              "417      1                2668  22.36   NaN        C  \n",
              "\n",
              "[1309 rows x 12 columns]"
            ],
            "text/html": [
              "\n",
              "  <div id=\"df-806adca8-d1ea-4f09-a1da-d7091a24a424\" class=\"colab-df-container\">\n",
              "    <div>\n",
              "<style scoped>\n",
              "    .dataframe tbody tr th:only-of-type {\n",
              "        vertical-align: middle;\n",
              "    }\n",
              "\n",
              "    .dataframe tbody tr th {\n",
              "        vertical-align: top;\n",
              "    }\n",
              "\n",
              "    .dataframe thead th {\n",
              "        text-align: right;\n",
              "    }\n",
              "</style>\n",
              "<table border=\"1\" class=\"dataframe\">\n",
              "  <thead>\n",
              "    <tr style=\"text-align: right;\">\n",
              "      <th></th>\n",
              "      <th>PassengerId</th>\n",
              "      <th>Survived</th>\n",
              "      <th>Pclass</th>\n",
              "      <th>Name</th>\n",
              "      <th>Sex</th>\n",
              "      <th>Age</th>\n",
              "      <th>SibSp</th>\n",
              "      <th>Parch</th>\n",
              "      <th>Ticket</th>\n",
              "      <th>Fare</th>\n",
              "      <th>Cabin</th>\n",
              "      <th>Embarked</th>\n",
              "    </tr>\n",
              "  </thead>\n",
              "  <tbody>\n",
              "    <tr>\n",
              "      <th>0</th>\n",
              "      <td>1</td>\n",
              "      <td>0.00</td>\n",
              "      <td>3</td>\n",
              "      <td>Braund, Mr. Owen Harris</td>\n",
              "      <td>male</td>\n",
              "      <td>22.00</td>\n",
              "      <td>1</td>\n",
              "      <td>0</td>\n",
              "      <td>A/5 21171</td>\n",
              "      <td>7.25</td>\n",
              "      <td>NaN</td>\n",
              "      <td>S</td>\n",
              "    </tr>\n",
              "    <tr>\n",
              "      <th>1</th>\n",
              "      <td>2</td>\n",
              "      <td>1.00</td>\n",
              "      <td>1</td>\n",
              "      <td>Cumings, Mrs. John Bradley (Florence Briggs Th...</td>\n",
              "      <td>female</td>\n",
              "      <td>38.00</td>\n",
              "      <td>1</td>\n",
              "      <td>0</td>\n",
              "      <td>PC 17599</td>\n",
              "      <td>71.28</td>\n",
              "      <td>C85</td>\n",
              "      <td>C</td>\n",
              "    </tr>\n",
              "    <tr>\n",
              "      <th>2</th>\n",
              "      <td>3</td>\n",
              "      <td>1.00</td>\n",
              "      <td>3</td>\n",
              "      <td>Heikkinen, Miss. Laina</td>\n",
              "      <td>female</td>\n",
              "      <td>26.00</td>\n",
              "      <td>0</td>\n",
              "      <td>0</td>\n",
              "      <td>STON/O2. 3101282</td>\n",
              "      <td>7.92</td>\n",
              "      <td>NaN</td>\n",
              "      <td>S</td>\n",
              "    </tr>\n",
              "    <tr>\n",
              "      <th>3</th>\n",
              "      <td>4</td>\n",
              "      <td>1.00</td>\n",
              "      <td>1</td>\n",
              "      <td>Futrelle, Mrs. Jacques Heath (Lily May Peel)</td>\n",
              "      <td>female</td>\n",
              "      <td>35.00</td>\n",
              "      <td>1</td>\n",
              "      <td>0</td>\n",
              "      <td>113803</td>\n",
              "      <td>53.10</td>\n",
              "      <td>C123</td>\n",
              "      <td>S</td>\n",
              "    </tr>\n",
              "    <tr>\n",
              "      <th>4</th>\n",
              "      <td>5</td>\n",
              "      <td>0.00</td>\n",
              "      <td>3</td>\n",
              "      <td>Allen, Mr. William Henry</td>\n",
              "      <td>male</td>\n",
              "      <td>35.00</td>\n",
              "      <td>0</td>\n",
              "      <td>0</td>\n",
              "      <td>373450</td>\n",
              "      <td>8.05</td>\n",
              "      <td>NaN</td>\n",
              "      <td>S</td>\n",
              "    </tr>\n",
              "    <tr>\n",
              "      <th>...</th>\n",
              "      <td>...</td>\n",
              "      <td>...</td>\n",
              "      <td>...</td>\n",
              "      <td>...</td>\n",
              "      <td>...</td>\n",
              "      <td>...</td>\n",
              "      <td>...</td>\n",
              "      <td>...</td>\n",
              "      <td>...</td>\n",
              "      <td>...</td>\n",
              "      <td>...</td>\n",
              "      <td>...</td>\n",
              "    </tr>\n",
              "    <tr>\n",
              "      <th>413</th>\n",
              "      <td>1305</td>\n",
              "      <td>NaN</td>\n",
              "      <td>3</td>\n",
              "      <td>Spector, Mr. Woolf</td>\n",
              "      <td>male</td>\n",
              "      <td>NaN</td>\n",
              "      <td>0</td>\n",
              "      <td>0</td>\n",
              "      <td>A.5. 3236</td>\n",
              "      <td>8.05</td>\n",
              "      <td>NaN</td>\n",
              "      <td>S</td>\n",
              "    </tr>\n",
              "    <tr>\n",
              "      <th>414</th>\n",
              "      <td>1306</td>\n",
              "      <td>NaN</td>\n",
              "      <td>1</td>\n",
              "      <td>Oliva y Ocana, Dona. Fermina</td>\n",
              "      <td>female</td>\n",
              "      <td>39.00</td>\n",
              "      <td>0</td>\n",
              "      <td>0</td>\n",
              "      <td>PC 17758</td>\n",
              "      <td>108.90</td>\n",
              "      <td>C105</td>\n",
              "      <td>C</td>\n",
              "    </tr>\n",
              "    <tr>\n",
              "      <th>415</th>\n",
              "      <td>1307</td>\n",
              "      <td>NaN</td>\n",
              "      <td>3</td>\n",
              "      <td>Saether, Mr. Simon Sivertsen</td>\n",
              "      <td>male</td>\n",
              "      <td>38.50</td>\n",
              "      <td>0</td>\n",
              "      <td>0</td>\n",
              "      <td>SOTON/O.Q. 3101262</td>\n",
              "      <td>7.25</td>\n",
              "      <td>NaN</td>\n",
              "      <td>S</td>\n",
              "    </tr>\n",
              "    <tr>\n",
              "      <th>416</th>\n",
              "      <td>1308</td>\n",
              "      <td>NaN</td>\n",
              "      <td>3</td>\n",
              "      <td>Ware, Mr. Frederick</td>\n",
              "      <td>male</td>\n",
              "      <td>NaN</td>\n",
              "      <td>0</td>\n",
              "      <td>0</td>\n",
              "      <td>359309</td>\n",
              "      <td>8.05</td>\n",
              "      <td>NaN</td>\n",
              "      <td>S</td>\n",
              "    </tr>\n",
              "    <tr>\n",
              "      <th>417</th>\n",
              "      <td>1309</td>\n",
              "      <td>NaN</td>\n",
              "      <td>3</td>\n",
              "      <td>Peter, Master. Michael J</td>\n",
              "      <td>male</td>\n",
              "      <td>NaN</td>\n",
              "      <td>1</td>\n",
              "      <td>1</td>\n",
              "      <td>2668</td>\n",
              "      <td>22.36</td>\n",
              "      <td>NaN</td>\n",
              "      <td>C</td>\n",
              "    </tr>\n",
              "  </tbody>\n",
              "</table>\n",
              "<p>1309 rows × 12 columns</p>\n",
              "</div>\n",
              "    <div class=\"colab-df-buttons\">\n",
              "\n",
              "  <div class=\"colab-df-container\">\n",
              "    <button class=\"colab-df-convert\" onclick=\"convertToInteractive('df-806adca8-d1ea-4f09-a1da-d7091a24a424')\"\n",
              "            title=\"Convert this dataframe to an interactive table.\"\n",
              "            style=\"display:none;\">\n",
              "\n",
              "  <svg xmlns=\"http://www.w3.org/2000/svg\" height=\"24px\" viewBox=\"0 -960 960 960\">\n",
              "    <path d=\"M120-120v-720h720v720H120Zm60-500h600v-160H180v160Zm220 220h160v-160H400v160Zm0 220h160v-160H400v160ZM180-400h160v-160H180v160Zm440 0h160v-160H620v160ZM180-180h160v-160H180v160Zm440 0h160v-160H620v160Z\"/>\n",
              "  </svg>\n",
              "    </button>\n",
              "\n",
              "  <style>\n",
              "    .colab-df-container {\n",
              "      display:flex;\n",
              "      gap: 12px;\n",
              "    }\n",
              "\n",
              "    .colab-df-convert {\n",
              "      background-color: #E8F0FE;\n",
              "      border: none;\n",
              "      border-radius: 50%;\n",
              "      cursor: pointer;\n",
              "      display: none;\n",
              "      fill: #1967D2;\n",
              "      height: 32px;\n",
              "      padding: 0 0 0 0;\n",
              "      width: 32px;\n",
              "    }\n",
              "\n",
              "    .colab-df-convert:hover {\n",
              "      background-color: #E2EBFA;\n",
              "      box-shadow: 0px 1px 2px rgba(60, 64, 67, 0.3), 0px 1px 3px 1px rgba(60, 64, 67, 0.15);\n",
              "      fill: #174EA6;\n",
              "    }\n",
              "\n",
              "    .colab-df-buttons div {\n",
              "      margin-bottom: 4px;\n",
              "    }\n",
              "\n",
              "    [theme=dark] .colab-df-convert {\n",
              "      background-color: #3B4455;\n",
              "      fill: #D2E3FC;\n",
              "    }\n",
              "\n",
              "    [theme=dark] .colab-df-convert:hover {\n",
              "      background-color: #434B5C;\n",
              "      box-shadow: 0px 1px 3px 1px rgba(0, 0, 0, 0.15);\n",
              "      filter: drop-shadow(0px 1px 2px rgba(0, 0, 0, 0.3));\n",
              "      fill: #FFFFFF;\n",
              "    }\n",
              "  </style>\n",
              "\n",
              "    <script>\n",
              "      const buttonEl =\n",
              "        document.querySelector('#df-806adca8-d1ea-4f09-a1da-d7091a24a424 button.colab-df-convert');\n",
              "      buttonEl.style.display =\n",
              "        google.colab.kernel.accessAllowed ? 'block' : 'none';\n",
              "\n",
              "      async function convertToInteractive(key) {\n",
              "        const element = document.querySelector('#df-806adca8-d1ea-4f09-a1da-d7091a24a424');\n",
              "        const dataTable =\n",
              "          await google.colab.kernel.invokeFunction('convertToInteractive',\n",
              "                                                    [key], {});\n",
              "        if (!dataTable) return;\n",
              "\n",
              "        const docLinkHtml = 'Like what you see? Visit the ' +\n",
              "          '<a target=\"_blank\" href=https://colab.research.google.com/notebooks/data_table.ipynb>data table notebook</a>'\n",
              "          + ' to learn more about interactive tables.';\n",
              "        element.innerHTML = '';\n",
              "        dataTable['output_type'] = 'display_data';\n",
              "        await google.colab.output.renderOutput(dataTable, element);\n",
              "        const docLink = document.createElement('div');\n",
              "        docLink.innerHTML = docLinkHtml;\n",
              "        element.appendChild(docLink);\n",
              "      }\n",
              "    </script>\n",
              "  </div>\n",
              "\n",
              "\n",
              "    <div id=\"df-edc35e7c-2625-454a-89b5-c197884c4927\">\n",
              "      <button class=\"colab-df-quickchart\" onclick=\"quickchart('df-edc35e7c-2625-454a-89b5-c197884c4927')\"\n",
              "                title=\"Suggest charts\"\n",
              "                style=\"display:none;\">\n",
              "\n",
              "<svg xmlns=\"http://www.w3.org/2000/svg\" height=\"24px\"viewBox=\"0 0 24 24\"\n",
              "     width=\"24px\">\n",
              "    <g>\n",
              "        <path d=\"M19 3H5c-1.1 0-2 .9-2 2v14c0 1.1.9 2 2 2h14c1.1 0 2-.9 2-2V5c0-1.1-.9-2-2-2zM9 17H7v-7h2v7zm4 0h-2V7h2v10zm4 0h-2v-4h2v4z\"/>\n",
              "    </g>\n",
              "</svg>\n",
              "      </button>\n",
              "\n",
              "<style>\n",
              "  .colab-df-quickchart {\n",
              "      --bg-color: #E8F0FE;\n",
              "      --fill-color: #1967D2;\n",
              "      --hover-bg-color: #E2EBFA;\n",
              "      --hover-fill-color: #174EA6;\n",
              "      --disabled-fill-color: #AAA;\n",
              "      --disabled-bg-color: #DDD;\n",
              "  }\n",
              "\n",
              "  [theme=dark] .colab-df-quickchart {\n",
              "      --bg-color: #3B4455;\n",
              "      --fill-color: #D2E3FC;\n",
              "      --hover-bg-color: #434B5C;\n",
              "      --hover-fill-color: #FFFFFF;\n",
              "      --disabled-bg-color: #3B4455;\n",
              "      --disabled-fill-color: #666;\n",
              "  }\n",
              "\n",
              "  .colab-df-quickchart {\n",
              "    background-color: var(--bg-color);\n",
              "    border: none;\n",
              "    border-radius: 50%;\n",
              "    cursor: pointer;\n",
              "    display: none;\n",
              "    fill: var(--fill-color);\n",
              "    height: 32px;\n",
              "    padding: 0;\n",
              "    width: 32px;\n",
              "  }\n",
              "\n",
              "  .colab-df-quickchart:hover {\n",
              "    background-color: var(--hover-bg-color);\n",
              "    box-shadow: 0 1px 2px rgba(60, 64, 67, 0.3), 0 1px 3px 1px rgba(60, 64, 67, 0.15);\n",
              "    fill: var(--button-hover-fill-color);\n",
              "  }\n",
              "\n",
              "  .colab-df-quickchart-complete:disabled,\n",
              "  .colab-df-quickchart-complete:disabled:hover {\n",
              "    background-color: var(--disabled-bg-color);\n",
              "    fill: var(--disabled-fill-color);\n",
              "    box-shadow: none;\n",
              "  }\n",
              "\n",
              "  .colab-df-spinner {\n",
              "    border: 2px solid var(--fill-color);\n",
              "    border-color: transparent;\n",
              "    border-bottom-color: var(--fill-color);\n",
              "    animation:\n",
              "      spin 1s steps(1) infinite;\n",
              "  }\n",
              "\n",
              "  @keyframes spin {\n",
              "    0% {\n",
              "      border-color: transparent;\n",
              "      border-bottom-color: var(--fill-color);\n",
              "      border-left-color: var(--fill-color);\n",
              "    }\n",
              "    20% {\n",
              "      border-color: transparent;\n",
              "      border-left-color: var(--fill-color);\n",
              "      border-top-color: var(--fill-color);\n",
              "    }\n",
              "    30% {\n",
              "      border-color: transparent;\n",
              "      border-left-color: var(--fill-color);\n",
              "      border-top-color: var(--fill-color);\n",
              "      border-right-color: var(--fill-color);\n",
              "    }\n",
              "    40% {\n",
              "      border-color: transparent;\n",
              "      border-right-color: var(--fill-color);\n",
              "      border-top-color: var(--fill-color);\n",
              "    }\n",
              "    60% {\n",
              "      border-color: transparent;\n",
              "      border-right-color: var(--fill-color);\n",
              "    }\n",
              "    80% {\n",
              "      border-color: transparent;\n",
              "      border-right-color: var(--fill-color);\n",
              "      border-bottom-color: var(--fill-color);\n",
              "    }\n",
              "    90% {\n",
              "      border-color: transparent;\n",
              "      border-bottom-color: var(--fill-color);\n",
              "    }\n",
              "  }\n",
              "</style>\n",
              "\n",
              "      <script>\n",
              "        async function quickchart(key) {\n",
              "          const quickchartButtonEl =\n",
              "            document.querySelector('#' + key + ' button');\n",
              "          quickchartButtonEl.disabled = true;  // To prevent multiple clicks.\n",
              "          quickchartButtonEl.classList.add('colab-df-spinner');\n",
              "          try {\n",
              "            const charts = await google.colab.kernel.invokeFunction(\n",
              "                'suggestCharts', [key], {});\n",
              "          } catch (error) {\n",
              "            console.error('Error during call to suggestCharts:', error);\n",
              "          }\n",
              "          quickchartButtonEl.classList.remove('colab-df-spinner');\n",
              "          quickchartButtonEl.classList.add('colab-df-quickchart-complete');\n",
              "        }\n",
              "        (() => {\n",
              "          let quickchartButtonEl =\n",
              "            document.querySelector('#df-edc35e7c-2625-454a-89b5-c197884c4927 button');\n",
              "          quickchartButtonEl.style.display =\n",
              "            google.colab.kernel.accessAllowed ? 'block' : 'none';\n",
              "        })();\n",
              "      </script>\n",
              "    </div>\n",
              "\n",
              "  <div id=\"id_aee4b985-c8dd-42db-8cf9-9767d172fe5c\">\n",
              "    <style>\n",
              "      .colab-df-generate {\n",
              "        background-color: #E8F0FE;\n",
              "        border: none;\n",
              "        border-radius: 50%;\n",
              "        cursor: pointer;\n",
              "        display: none;\n",
              "        fill: #1967D2;\n",
              "        height: 32px;\n",
              "        padding: 0 0 0 0;\n",
              "        width: 32px;\n",
              "      }\n",
              "\n",
              "      .colab-df-generate:hover {\n",
              "        background-color: #E2EBFA;\n",
              "        box-shadow: 0px 1px 2px rgba(60, 64, 67, 0.3), 0px 1px 3px 1px rgba(60, 64, 67, 0.15);\n",
              "        fill: #174EA6;\n",
              "      }\n",
              "\n",
              "      [theme=dark] .colab-df-generate {\n",
              "        background-color: #3B4455;\n",
              "        fill: #D2E3FC;\n",
              "      }\n",
              "\n",
              "      [theme=dark] .colab-df-generate:hover {\n",
              "        background-color: #434B5C;\n",
              "        box-shadow: 0px 1px 3px 1px rgba(0, 0, 0, 0.15);\n",
              "        filter: drop-shadow(0px 1px 2px rgba(0, 0, 0, 0.3));\n",
              "        fill: #FFFFFF;\n",
              "      }\n",
              "    </style>\n",
              "    <button class=\"colab-df-generate\" onclick=\"generateWithVariable('df')\"\n",
              "            title=\"Generate code using this dataframe.\"\n",
              "            style=\"display:none;\">\n",
              "\n",
              "  <svg xmlns=\"http://www.w3.org/2000/svg\" height=\"24px\"viewBox=\"0 0 24 24\"\n",
              "       width=\"24px\">\n",
              "    <path d=\"M7,19H8.4L18.45,9,17,7.55,7,17.6ZM5,21V16.75L18.45,3.32a2,2,0,0,1,2.83,0l1.4,1.43a1.91,1.91,0,0,1,.58,1.4,1.91,1.91,0,0,1-.58,1.4L9.25,21ZM18.45,9,17,7.55Zm-12,3A5.31,5.31,0,0,0,4.9,8.1,5.31,5.31,0,0,0,1,6.5,5.31,5.31,0,0,0,4.9,4.9,5.31,5.31,0,0,0,6.5,1,5.31,5.31,0,0,0,8.1,4.9,5.31,5.31,0,0,0,12,6.5,5.46,5.46,0,0,0,6.5,12Z\"/>\n",
              "  </svg>\n",
              "    </button>\n",
              "    <script>\n",
              "      (() => {\n",
              "      const buttonEl =\n",
              "        document.querySelector('#id_aee4b985-c8dd-42db-8cf9-9767d172fe5c button.colab-df-generate');\n",
              "      buttonEl.style.display =\n",
              "        google.colab.kernel.accessAllowed ? 'block' : 'none';\n",
              "\n",
              "      buttonEl.onclick = () => {\n",
              "        google.colab.notebook.generateWithVariable('df');\n",
              "      }\n",
              "      })();\n",
              "    </script>\n",
              "  </div>\n",
              "\n",
              "    </div>\n",
              "  </div>\n"
            ],
            "application/vnd.google.colaboratory.intrinsic+json": {
              "type": "dataframe",
              "variable_name": "df",
              "summary": "{\n  \"name\": \"df\",\n  \"rows\": 1309,\n  \"fields\": [\n    {\n      \"column\": \"PassengerId\",\n      \"properties\": {\n        \"dtype\": \"number\",\n        \"std\": 378,\n        \"min\": 1,\n        \"max\": 1309,\n        \"num_unique_values\": 1309,\n        \"samples\": [\n          1149,\n          1050,\n          983\n        ],\n        \"semantic_type\": \"\",\n        \"description\": \"\"\n      }\n    },\n    {\n      \"column\": \"Survived\",\n      \"properties\": {\n        \"dtype\": \"number\",\n        \"std\": 0.4865924542648585,\n        \"min\": 0.0,\n        \"max\": 1.0,\n        \"num_unique_values\": 2,\n        \"samples\": [\n          1.0,\n          0.0\n        ],\n        \"semantic_type\": \"\",\n        \"description\": \"\"\n      }\n    },\n    {\n      \"column\": \"Pclass\",\n      \"properties\": {\n        \"dtype\": \"number\",\n        \"std\": 0,\n        \"min\": 1,\n        \"max\": 3,\n        \"num_unique_values\": 3,\n        \"samples\": [\n          3,\n          1\n        ],\n        \"semantic_type\": \"\",\n        \"description\": \"\"\n      }\n    },\n    {\n      \"column\": \"Name\",\n      \"properties\": {\n        \"dtype\": \"string\",\n        \"num_unique_values\": 1307,\n        \"samples\": [\n          \"Bryhl, Miss. Dagmar Jenny Ingeborg \",\n          \"Borebank, Mr. John James\"\n        ],\n        \"semantic_type\": \"\",\n        \"description\": \"\"\n      }\n    },\n    {\n      \"column\": \"Sex\",\n      \"properties\": {\n        \"dtype\": \"category\",\n        \"num_unique_values\": 2,\n        \"samples\": [\n          \"female\",\n          \"male\"\n        ],\n        \"semantic_type\": \"\",\n        \"description\": \"\"\n      }\n    },\n    {\n      \"column\": \"Age\",\n      \"properties\": {\n        \"dtype\": \"number\",\n        \"std\": 14.413493211271334,\n        \"min\": 0.17,\n        \"max\": 80.0,\n        \"num_unique_values\": 98,\n        \"samples\": [\n          45.5,\n          23.0\n        ],\n        \"semantic_type\": \"\",\n        \"description\": \"\"\n      }\n    },\n    {\n      \"column\": \"SibSp\",\n      \"properties\": {\n        \"dtype\": \"number\",\n        \"std\": 1,\n        \"min\": 0,\n        \"max\": 8,\n        \"num_unique_values\": 7,\n        \"samples\": [\n          1,\n          0\n        ],\n        \"semantic_type\": \"\",\n        \"description\": \"\"\n      }\n    },\n    {\n      \"column\": \"Parch\",\n      \"properties\": {\n        \"dtype\": \"number\",\n        \"std\": 0,\n        \"min\": 0,\n        \"max\": 9,\n        \"num_unique_values\": 8,\n        \"samples\": [\n          1,\n          4\n        ],\n        \"semantic_type\": \"\",\n        \"description\": \"\"\n      }\n    },\n    {\n      \"column\": \"Ticket\",\n      \"properties\": {\n        \"dtype\": \"string\",\n        \"num_unique_values\": 929,\n        \"samples\": [\n          \"PC 17531\",\n          \"345765\"\n        ],\n        \"semantic_type\": \"\",\n        \"description\": \"\"\n      }\n    },\n    {\n      \"column\": \"Fare\",\n      \"properties\": {\n        \"dtype\": \"number\",\n        \"std\": 51.75866823917414,\n        \"min\": 0.0,\n        \"max\": 512.3292,\n        \"num_unique_values\": 281,\n        \"samples\": [\n          11.2417,\n          35.0\n        ],\n        \"semantic_type\": \"\",\n        \"description\": \"\"\n      }\n    },\n    {\n      \"column\": \"Cabin\",\n      \"properties\": {\n        \"dtype\": \"category\",\n        \"num_unique_values\": 186,\n        \"samples\": [\n          \"B71\",\n          \"C51\"\n        ],\n        \"semantic_type\": \"\",\n        \"description\": \"\"\n      }\n    },\n    {\n      \"column\": \"Embarked\",\n      \"properties\": {\n        \"dtype\": \"category\",\n        \"num_unique_values\": 3,\n        \"samples\": [\n          \"S\",\n          \"C\"\n        ],\n        \"semantic_type\": \"\",\n        \"description\": \"\"\n      }\n    }\n  ]\n}"
            }
          },
          "metadata": {},
          "execution_count": 59
        }
      ]
    },
    {
      "cell_type": "code",
      "source": [
        "# Látható, hogy az Age hiányos több sorban is\n",
        "# Látható, hogy vannak kiugró értékek a Fair-ben, valószínüleg azért, mert több embernek fizette\n",
        "# Látható, hogy a SibSp és Parch értékek is általánosságban alacsonyak,\n",
        "# csak a felső 25%-ban jelennek meg nagyobb értékek, az alatt 0 vagy 1\n",
        "# Egy Fare érték hiányzik, ezt valahogy meg kell oldani\n",
        "\n",
        "pd.options.display.float_format = '{:.2f}'.format\n",
        "df.describe()"
      ],
      "metadata": {
        "colab": {
          "base_uri": "https://localhost:8080/",
          "height": 300
        },
        "id": "BhewM2dwML8H",
        "outputId": "cc85bc86-9055-496e-c413-3334d1cccae5",
        "collapsed": true
      },
      "execution_count": null,
      "outputs": [
        {
          "output_type": "execute_result",
          "data": {
            "text/plain": [
              "       PassengerId  Survived  Pclass     Age   SibSp   Parch    Fare\n",
              "count      1309.00    891.00 1309.00 1046.00 1309.00 1309.00 1308.00\n",
              "mean        655.00      0.38    2.29   29.88    0.50    0.39   33.30\n",
              "std         378.02      0.49    0.84   14.41    1.04    0.87   51.76\n",
              "min           1.00      0.00    1.00    0.17    0.00    0.00    0.00\n",
              "25%         328.00      0.00    2.00   21.00    0.00    0.00    7.90\n",
              "50%         655.00      0.00    3.00   28.00    0.00    0.00   14.45\n",
              "75%         982.00      1.00    3.00   39.00    1.00    0.00   31.27\n",
              "max        1309.00      1.00    3.00   80.00    8.00    9.00  512.33"
            ],
            "text/html": [
              "\n",
              "  <div id=\"df-4858a20f-7d15-4bd6-b125-c570513948fb\" class=\"colab-df-container\">\n",
              "    <div>\n",
              "<style scoped>\n",
              "    .dataframe tbody tr th:only-of-type {\n",
              "        vertical-align: middle;\n",
              "    }\n",
              "\n",
              "    .dataframe tbody tr th {\n",
              "        vertical-align: top;\n",
              "    }\n",
              "\n",
              "    .dataframe thead th {\n",
              "        text-align: right;\n",
              "    }\n",
              "</style>\n",
              "<table border=\"1\" class=\"dataframe\">\n",
              "  <thead>\n",
              "    <tr style=\"text-align: right;\">\n",
              "      <th></th>\n",
              "      <th>PassengerId</th>\n",
              "      <th>Survived</th>\n",
              "      <th>Pclass</th>\n",
              "      <th>Age</th>\n",
              "      <th>SibSp</th>\n",
              "      <th>Parch</th>\n",
              "      <th>Fare</th>\n",
              "    </tr>\n",
              "  </thead>\n",
              "  <tbody>\n",
              "    <tr>\n",
              "      <th>count</th>\n",
              "      <td>1309.00</td>\n",
              "      <td>891.00</td>\n",
              "      <td>1309.00</td>\n",
              "      <td>1046.00</td>\n",
              "      <td>1309.00</td>\n",
              "      <td>1309.00</td>\n",
              "      <td>1308.00</td>\n",
              "    </tr>\n",
              "    <tr>\n",
              "      <th>mean</th>\n",
              "      <td>655.00</td>\n",
              "      <td>0.38</td>\n",
              "      <td>2.29</td>\n",
              "      <td>29.88</td>\n",
              "      <td>0.50</td>\n",
              "      <td>0.39</td>\n",
              "      <td>33.30</td>\n",
              "    </tr>\n",
              "    <tr>\n",
              "      <th>std</th>\n",
              "      <td>378.02</td>\n",
              "      <td>0.49</td>\n",
              "      <td>0.84</td>\n",
              "      <td>14.41</td>\n",
              "      <td>1.04</td>\n",
              "      <td>0.87</td>\n",
              "      <td>51.76</td>\n",
              "    </tr>\n",
              "    <tr>\n",
              "      <th>min</th>\n",
              "      <td>1.00</td>\n",
              "      <td>0.00</td>\n",
              "      <td>1.00</td>\n",
              "      <td>0.17</td>\n",
              "      <td>0.00</td>\n",
              "      <td>0.00</td>\n",
              "      <td>0.00</td>\n",
              "    </tr>\n",
              "    <tr>\n",
              "      <th>25%</th>\n",
              "      <td>328.00</td>\n",
              "      <td>0.00</td>\n",
              "      <td>2.00</td>\n",
              "      <td>21.00</td>\n",
              "      <td>0.00</td>\n",
              "      <td>0.00</td>\n",
              "      <td>7.90</td>\n",
              "    </tr>\n",
              "    <tr>\n",
              "      <th>50%</th>\n",
              "      <td>655.00</td>\n",
              "      <td>0.00</td>\n",
              "      <td>3.00</td>\n",
              "      <td>28.00</td>\n",
              "      <td>0.00</td>\n",
              "      <td>0.00</td>\n",
              "      <td>14.45</td>\n",
              "    </tr>\n",
              "    <tr>\n",
              "      <th>75%</th>\n",
              "      <td>982.00</td>\n",
              "      <td>1.00</td>\n",
              "      <td>3.00</td>\n",
              "      <td>39.00</td>\n",
              "      <td>1.00</td>\n",
              "      <td>0.00</td>\n",
              "      <td>31.27</td>\n",
              "    </tr>\n",
              "    <tr>\n",
              "      <th>max</th>\n",
              "      <td>1309.00</td>\n",
              "      <td>1.00</td>\n",
              "      <td>3.00</td>\n",
              "      <td>80.00</td>\n",
              "      <td>8.00</td>\n",
              "      <td>9.00</td>\n",
              "      <td>512.33</td>\n",
              "    </tr>\n",
              "  </tbody>\n",
              "</table>\n",
              "</div>\n",
              "    <div class=\"colab-df-buttons\">\n",
              "\n",
              "  <div class=\"colab-df-container\">\n",
              "    <button class=\"colab-df-convert\" onclick=\"convertToInteractive('df-4858a20f-7d15-4bd6-b125-c570513948fb')\"\n",
              "            title=\"Convert this dataframe to an interactive table.\"\n",
              "            style=\"display:none;\">\n",
              "\n",
              "  <svg xmlns=\"http://www.w3.org/2000/svg\" height=\"24px\" viewBox=\"0 -960 960 960\">\n",
              "    <path d=\"M120-120v-720h720v720H120Zm60-500h600v-160H180v160Zm220 220h160v-160H400v160Zm0 220h160v-160H400v160ZM180-400h160v-160H180v160Zm440 0h160v-160H620v160ZM180-180h160v-160H180v160Zm440 0h160v-160H620v160Z\"/>\n",
              "  </svg>\n",
              "    </button>\n",
              "\n",
              "  <style>\n",
              "    .colab-df-container {\n",
              "      display:flex;\n",
              "      gap: 12px;\n",
              "    }\n",
              "\n",
              "    .colab-df-convert {\n",
              "      background-color: #E8F0FE;\n",
              "      border: none;\n",
              "      border-radius: 50%;\n",
              "      cursor: pointer;\n",
              "      display: none;\n",
              "      fill: #1967D2;\n",
              "      height: 32px;\n",
              "      padding: 0 0 0 0;\n",
              "      width: 32px;\n",
              "    }\n",
              "\n",
              "    .colab-df-convert:hover {\n",
              "      background-color: #E2EBFA;\n",
              "      box-shadow: 0px 1px 2px rgba(60, 64, 67, 0.3), 0px 1px 3px 1px rgba(60, 64, 67, 0.15);\n",
              "      fill: #174EA6;\n",
              "    }\n",
              "\n",
              "    .colab-df-buttons div {\n",
              "      margin-bottom: 4px;\n",
              "    }\n",
              "\n",
              "    [theme=dark] .colab-df-convert {\n",
              "      background-color: #3B4455;\n",
              "      fill: #D2E3FC;\n",
              "    }\n",
              "\n",
              "    [theme=dark] .colab-df-convert:hover {\n",
              "      background-color: #434B5C;\n",
              "      box-shadow: 0px 1px 3px 1px rgba(0, 0, 0, 0.15);\n",
              "      filter: drop-shadow(0px 1px 2px rgba(0, 0, 0, 0.3));\n",
              "      fill: #FFFFFF;\n",
              "    }\n",
              "  </style>\n",
              "\n",
              "    <script>\n",
              "      const buttonEl =\n",
              "        document.querySelector('#df-4858a20f-7d15-4bd6-b125-c570513948fb button.colab-df-convert');\n",
              "      buttonEl.style.display =\n",
              "        google.colab.kernel.accessAllowed ? 'block' : 'none';\n",
              "\n",
              "      async function convertToInteractive(key) {\n",
              "        const element = document.querySelector('#df-4858a20f-7d15-4bd6-b125-c570513948fb');\n",
              "        const dataTable =\n",
              "          await google.colab.kernel.invokeFunction('convertToInteractive',\n",
              "                                                    [key], {});\n",
              "        if (!dataTable) return;\n",
              "\n",
              "        const docLinkHtml = 'Like what you see? Visit the ' +\n",
              "          '<a target=\"_blank\" href=https://colab.research.google.com/notebooks/data_table.ipynb>data table notebook</a>'\n",
              "          + ' to learn more about interactive tables.';\n",
              "        element.innerHTML = '';\n",
              "        dataTable['output_type'] = 'display_data';\n",
              "        await google.colab.output.renderOutput(dataTable, element);\n",
              "        const docLink = document.createElement('div');\n",
              "        docLink.innerHTML = docLinkHtml;\n",
              "        element.appendChild(docLink);\n",
              "      }\n",
              "    </script>\n",
              "  </div>\n",
              "\n",
              "\n",
              "    <div id=\"df-03be3e8d-8dff-48e3-bad1-5a753b9b272f\">\n",
              "      <button class=\"colab-df-quickchart\" onclick=\"quickchart('df-03be3e8d-8dff-48e3-bad1-5a753b9b272f')\"\n",
              "                title=\"Suggest charts\"\n",
              "                style=\"display:none;\">\n",
              "\n",
              "<svg xmlns=\"http://www.w3.org/2000/svg\" height=\"24px\"viewBox=\"0 0 24 24\"\n",
              "     width=\"24px\">\n",
              "    <g>\n",
              "        <path d=\"M19 3H5c-1.1 0-2 .9-2 2v14c0 1.1.9 2 2 2h14c1.1 0 2-.9 2-2V5c0-1.1-.9-2-2-2zM9 17H7v-7h2v7zm4 0h-2V7h2v10zm4 0h-2v-4h2v4z\"/>\n",
              "    </g>\n",
              "</svg>\n",
              "      </button>\n",
              "\n",
              "<style>\n",
              "  .colab-df-quickchart {\n",
              "      --bg-color: #E8F0FE;\n",
              "      --fill-color: #1967D2;\n",
              "      --hover-bg-color: #E2EBFA;\n",
              "      --hover-fill-color: #174EA6;\n",
              "      --disabled-fill-color: #AAA;\n",
              "      --disabled-bg-color: #DDD;\n",
              "  }\n",
              "\n",
              "  [theme=dark] .colab-df-quickchart {\n",
              "      --bg-color: #3B4455;\n",
              "      --fill-color: #D2E3FC;\n",
              "      --hover-bg-color: #434B5C;\n",
              "      --hover-fill-color: #FFFFFF;\n",
              "      --disabled-bg-color: #3B4455;\n",
              "      --disabled-fill-color: #666;\n",
              "  }\n",
              "\n",
              "  .colab-df-quickchart {\n",
              "    background-color: var(--bg-color);\n",
              "    border: none;\n",
              "    border-radius: 50%;\n",
              "    cursor: pointer;\n",
              "    display: none;\n",
              "    fill: var(--fill-color);\n",
              "    height: 32px;\n",
              "    padding: 0;\n",
              "    width: 32px;\n",
              "  }\n",
              "\n",
              "  .colab-df-quickchart:hover {\n",
              "    background-color: var(--hover-bg-color);\n",
              "    box-shadow: 0 1px 2px rgba(60, 64, 67, 0.3), 0 1px 3px 1px rgba(60, 64, 67, 0.15);\n",
              "    fill: var(--button-hover-fill-color);\n",
              "  }\n",
              "\n",
              "  .colab-df-quickchart-complete:disabled,\n",
              "  .colab-df-quickchart-complete:disabled:hover {\n",
              "    background-color: var(--disabled-bg-color);\n",
              "    fill: var(--disabled-fill-color);\n",
              "    box-shadow: none;\n",
              "  }\n",
              "\n",
              "  .colab-df-spinner {\n",
              "    border: 2px solid var(--fill-color);\n",
              "    border-color: transparent;\n",
              "    border-bottom-color: var(--fill-color);\n",
              "    animation:\n",
              "      spin 1s steps(1) infinite;\n",
              "  }\n",
              "\n",
              "  @keyframes spin {\n",
              "    0% {\n",
              "      border-color: transparent;\n",
              "      border-bottom-color: var(--fill-color);\n",
              "      border-left-color: var(--fill-color);\n",
              "    }\n",
              "    20% {\n",
              "      border-color: transparent;\n",
              "      border-left-color: var(--fill-color);\n",
              "      border-top-color: var(--fill-color);\n",
              "    }\n",
              "    30% {\n",
              "      border-color: transparent;\n",
              "      border-left-color: var(--fill-color);\n",
              "      border-top-color: var(--fill-color);\n",
              "      border-right-color: var(--fill-color);\n",
              "    }\n",
              "    40% {\n",
              "      border-color: transparent;\n",
              "      border-right-color: var(--fill-color);\n",
              "      border-top-color: var(--fill-color);\n",
              "    }\n",
              "    60% {\n",
              "      border-color: transparent;\n",
              "      border-right-color: var(--fill-color);\n",
              "    }\n",
              "    80% {\n",
              "      border-color: transparent;\n",
              "      border-right-color: var(--fill-color);\n",
              "      border-bottom-color: var(--fill-color);\n",
              "    }\n",
              "    90% {\n",
              "      border-color: transparent;\n",
              "      border-bottom-color: var(--fill-color);\n",
              "    }\n",
              "  }\n",
              "</style>\n",
              "\n",
              "      <script>\n",
              "        async function quickchart(key) {\n",
              "          const quickchartButtonEl =\n",
              "            document.querySelector('#' + key + ' button');\n",
              "          quickchartButtonEl.disabled = true;  // To prevent multiple clicks.\n",
              "          quickchartButtonEl.classList.add('colab-df-spinner');\n",
              "          try {\n",
              "            const charts = await google.colab.kernel.invokeFunction(\n",
              "                'suggestCharts', [key], {});\n",
              "          } catch (error) {\n",
              "            console.error('Error during call to suggestCharts:', error);\n",
              "          }\n",
              "          quickchartButtonEl.classList.remove('colab-df-spinner');\n",
              "          quickchartButtonEl.classList.add('colab-df-quickchart-complete');\n",
              "        }\n",
              "        (() => {\n",
              "          let quickchartButtonEl =\n",
              "            document.querySelector('#df-03be3e8d-8dff-48e3-bad1-5a753b9b272f button');\n",
              "          quickchartButtonEl.style.display =\n",
              "            google.colab.kernel.accessAllowed ? 'block' : 'none';\n",
              "        })();\n",
              "      </script>\n",
              "    </div>\n",
              "\n",
              "    </div>\n",
              "  </div>\n"
            ],
            "application/vnd.google.colaboratory.intrinsic+json": {
              "type": "dataframe",
              "summary": "{\n  \"name\": \"df\",\n  \"rows\": 8,\n  \"fields\": [\n    {\n      \"column\": \"PassengerId\",\n      \"properties\": {\n        \"dtype\": \"number\",\n        \"std\": 471.4651737906,\n        \"min\": 1.0,\n        \"max\": 1309.0,\n        \"num_unique_values\": 6,\n        \"samples\": [\n          1309.0,\n          655.0,\n          982.0\n        ],\n        \"semantic_type\": \"\",\n        \"description\": \"\"\n      }\n    },\n    {\n      \"column\": \"Survived\",\n      \"properties\": {\n        \"dtype\": \"number\",\n        \"std\": 314.8713661874558,\n        \"min\": 0.0,\n        \"max\": 891.0,\n        \"num_unique_values\": 5,\n        \"samples\": [\n          0.3838383838383838,\n          1.0,\n          0.4865924542648585\n        ],\n        \"semantic_type\": \"\",\n        \"description\": \"\"\n      }\n    },\n    {\n      \"column\": \"Pclass\",\n      \"properties\": {\n        \"dtype\": \"number\",\n        \"std\": 462.03788291201505,\n        \"min\": 0.8378360189701319,\n        \"max\": 1309.0,\n        \"num_unique_values\": 6,\n        \"samples\": [\n          1309.0,\n          2.294881588999236,\n          3.0\n        ],\n        \"semantic_type\": \"\",\n        \"description\": \"\"\n      }\n    },\n    {\n      \"column\": \"Age\",\n      \"properties\": {\n        \"dtype\": \"number\",\n        \"std\": 359.84044215622254,\n        \"min\": 0.17,\n        \"max\": 1046.0,\n        \"num_unique_values\": 8,\n        \"samples\": [\n          29.881137667304014,\n          28.0,\n          1046.0\n        ],\n        \"semantic_type\": \"\",\n        \"description\": \"\"\n      }\n    },\n    {\n      \"column\": \"SibSp\",\n      \"properties\": {\n        \"dtype\": \"number\",\n        \"std\": 462.27680922007715,\n        \"min\": 0.0,\n        \"max\": 1309.0,\n        \"num_unique_values\": 6,\n        \"samples\": [\n          1309.0,\n          0.4988540870893812,\n          8.0\n        ],\n        \"semantic_type\": \"\",\n        \"description\": \"\"\n      }\n    },\n    {\n      \"column\": \"Parch\",\n      \"properties\": {\n        \"dtype\": \"number\",\n        \"std\": 462.29399018424664,\n        \"min\": 0.0,\n        \"max\": 1309.0,\n        \"num_unique_values\": 5,\n        \"samples\": [\n          0.3850267379679144,\n          9.0,\n          0.8655602753495125\n        ],\n        \"semantic_type\": \"\",\n        \"description\": \"\"\n      }\n    },\n    {\n      \"column\": \"Fare\",\n      \"properties\": {\n        \"dtype\": \"number\",\n        \"std\": 462.70446257758823,\n        \"min\": 0.0,\n        \"max\": 1308.0,\n        \"num_unique_values\": 8,\n        \"samples\": [\n          33.29547928134557,\n          14.4542,\n          1308.0\n        ],\n        \"semantic_type\": \"\",\n        \"description\": \"\"\n      }\n    }\n  ]\n}"
            }
          },
          "metadata": {},
          "execution_count": 60
        }
      ]
    },
    {
      "cell_type": "code",
      "source": [
        "# Látható, hogy az Age, Cabin és Embarked tartalmaznak NaN értékeket\n",
        "# A Survived NaN értékei a Test adatnak tudhatóak be, az adatkezelés egyszerűsége végett kerültek egy dataframebe\n",
        "df.isnull().sum()"
      ],
      "metadata": {
        "colab": {
          "base_uri": "https://localhost:8080/",
          "height": 460
        },
        "id": "Y4j5NnFeQnFl",
        "outputId": "b4d4f491-1963-4a00-9fb5-6f6f7a816277",
        "collapsed": true
      },
      "execution_count": null,
      "outputs": [
        {
          "output_type": "execute_result",
          "data": {
            "text/plain": [
              "PassengerId       0\n",
              "Survived        418\n",
              "Pclass            0\n",
              "Name              0\n",
              "Sex               0\n",
              "Age             263\n",
              "SibSp             0\n",
              "Parch             0\n",
              "Ticket            0\n",
              "Fare              1\n",
              "Cabin          1014\n",
              "Embarked          2\n",
              "dtype: int64"
            ],
            "text/html": [
              "<div>\n",
              "<style scoped>\n",
              "    .dataframe tbody tr th:only-of-type {\n",
              "        vertical-align: middle;\n",
              "    }\n",
              "\n",
              "    .dataframe tbody tr th {\n",
              "        vertical-align: top;\n",
              "    }\n",
              "\n",
              "    .dataframe thead th {\n",
              "        text-align: right;\n",
              "    }\n",
              "</style>\n",
              "<table border=\"1\" class=\"dataframe\">\n",
              "  <thead>\n",
              "    <tr style=\"text-align: right;\">\n",
              "      <th></th>\n",
              "      <th>0</th>\n",
              "    </tr>\n",
              "  </thead>\n",
              "  <tbody>\n",
              "    <tr>\n",
              "      <th>PassengerId</th>\n",
              "      <td>0</td>\n",
              "    </tr>\n",
              "    <tr>\n",
              "      <th>Survived</th>\n",
              "      <td>418</td>\n",
              "    </tr>\n",
              "    <tr>\n",
              "      <th>Pclass</th>\n",
              "      <td>0</td>\n",
              "    </tr>\n",
              "    <tr>\n",
              "      <th>Name</th>\n",
              "      <td>0</td>\n",
              "    </tr>\n",
              "    <tr>\n",
              "      <th>Sex</th>\n",
              "      <td>0</td>\n",
              "    </tr>\n",
              "    <tr>\n",
              "      <th>Age</th>\n",
              "      <td>263</td>\n",
              "    </tr>\n",
              "    <tr>\n",
              "      <th>SibSp</th>\n",
              "      <td>0</td>\n",
              "    </tr>\n",
              "    <tr>\n",
              "      <th>Parch</th>\n",
              "      <td>0</td>\n",
              "    </tr>\n",
              "    <tr>\n",
              "      <th>Ticket</th>\n",
              "      <td>0</td>\n",
              "    </tr>\n",
              "    <tr>\n",
              "      <th>Fare</th>\n",
              "      <td>1</td>\n",
              "    </tr>\n",
              "    <tr>\n",
              "      <th>Cabin</th>\n",
              "      <td>1014</td>\n",
              "    </tr>\n",
              "    <tr>\n",
              "      <th>Embarked</th>\n",
              "      <td>2</td>\n",
              "    </tr>\n",
              "  </tbody>\n",
              "</table>\n",
              "</div><br><label><b>dtype:</b> int64</label>"
            ]
          },
          "metadata": {},
          "execution_count": 61
        }
      ]
    },
    {
      "cell_type": "code",
      "source": [
        "# Cabin esetében sok különböző érték van --> nehéz prediktálni, hogy mi lehetett a helyes érték\n",
        "# Ticketek értékei ismétlődnek, feltételezhetően a családok miatt, ebbe érdemes lehet belenézni\n",
        "# Embarked értékek közül 2 hiányzik, meg kell oldani\n",
        "\n",
        "df[[\"Cabin\", \"Ticket\", \"Embarked\"]].describe()"
      ],
      "metadata": {
        "colab": {
          "base_uri": "https://localhost:8080/",
          "height": 175
        },
        "id": "BPAux5ENMPpU",
        "outputId": "b20882f8-cbf1-474d-e0f6-f3d9e8d8b6a1",
        "collapsed": true
      },
      "execution_count": null,
      "outputs": [
        {
          "output_type": "execute_result",
          "data": {
            "text/plain": [
              "              Cabin    Ticket Embarked\n",
              "count           295      1309     1307\n",
              "unique          186       929        3\n",
              "top     C23 C25 C27  CA. 2343        S\n",
              "freq              6        11      914"
            ],
            "text/html": [
              "\n",
              "  <div id=\"df-eb0b2b6e-6987-4897-97d0-b504a0d37708\" class=\"colab-df-container\">\n",
              "    <div>\n",
              "<style scoped>\n",
              "    .dataframe tbody tr th:only-of-type {\n",
              "        vertical-align: middle;\n",
              "    }\n",
              "\n",
              "    .dataframe tbody tr th {\n",
              "        vertical-align: top;\n",
              "    }\n",
              "\n",
              "    .dataframe thead th {\n",
              "        text-align: right;\n",
              "    }\n",
              "</style>\n",
              "<table border=\"1\" class=\"dataframe\">\n",
              "  <thead>\n",
              "    <tr style=\"text-align: right;\">\n",
              "      <th></th>\n",
              "      <th>Cabin</th>\n",
              "      <th>Ticket</th>\n",
              "      <th>Embarked</th>\n",
              "    </tr>\n",
              "  </thead>\n",
              "  <tbody>\n",
              "    <tr>\n",
              "      <th>count</th>\n",
              "      <td>295</td>\n",
              "      <td>1309</td>\n",
              "      <td>1307</td>\n",
              "    </tr>\n",
              "    <tr>\n",
              "      <th>unique</th>\n",
              "      <td>186</td>\n",
              "      <td>929</td>\n",
              "      <td>3</td>\n",
              "    </tr>\n",
              "    <tr>\n",
              "      <th>top</th>\n",
              "      <td>C23 C25 C27</td>\n",
              "      <td>CA. 2343</td>\n",
              "      <td>S</td>\n",
              "    </tr>\n",
              "    <tr>\n",
              "      <th>freq</th>\n",
              "      <td>6</td>\n",
              "      <td>11</td>\n",
              "      <td>914</td>\n",
              "    </tr>\n",
              "  </tbody>\n",
              "</table>\n",
              "</div>\n",
              "    <div class=\"colab-df-buttons\">\n",
              "\n",
              "  <div class=\"colab-df-container\">\n",
              "    <button class=\"colab-df-convert\" onclick=\"convertToInteractive('df-eb0b2b6e-6987-4897-97d0-b504a0d37708')\"\n",
              "            title=\"Convert this dataframe to an interactive table.\"\n",
              "            style=\"display:none;\">\n",
              "\n",
              "  <svg xmlns=\"http://www.w3.org/2000/svg\" height=\"24px\" viewBox=\"0 -960 960 960\">\n",
              "    <path d=\"M120-120v-720h720v720H120Zm60-500h600v-160H180v160Zm220 220h160v-160H400v160Zm0 220h160v-160H400v160ZM180-400h160v-160H180v160Zm440 0h160v-160H620v160ZM180-180h160v-160H180v160Zm440 0h160v-160H620v160Z\"/>\n",
              "  </svg>\n",
              "    </button>\n",
              "\n",
              "  <style>\n",
              "    .colab-df-container {\n",
              "      display:flex;\n",
              "      gap: 12px;\n",
              "    }\n",
              "\n",
              "    .colab-df-convert {\n",
              "      background-color: #E8F0FE;\n",
              "      border: none;\n",
              "      border-radius: 50%;\n",
              "      cursor: pointer;\n",
              "      display: none;\n",
              "      fill: #1967D2;\n",
              "      height: 32px;\n",
              "      padding: 0 0 0 0;\n",
              "      width: 32px;\n",
              "    }\n",
              "\n",
              "    .colab-df-convert:hover {\n",
              "      background-color: #E2EBFA;\n",
              "      box-shadow: 0px 1px 2px rgba(60, 64, 67, 0.3), 0px 1px 3px 1px rgba(60, 64, 67, 0.15);\n",
              "      fill: #174EA6;\n",
              "    }\n",
              "\n",
              "    .colab-df-buttons div {\n",
              "      margin-bottom: 4px;\n",
              "    }\n",
              "\n",
              "    [theme=dark] .colab-df-convert {\n",
              "      background-color: #3B4455;\n",
              "      fill: #D2E3FC;\n",
              "    }\n",
              "\n",
              "    [theme=dark] .colab-df-convert:hover {\n",
              "      background-color: #434B5C;\n",
              "      box-shadow: 0px 1px 3px 1px rgba(0, 0, 0, 0.15);\n",
              "      filter: drop-shadow(0px 1px 2px rgba(0, 0, 0, 0.3));\n",
              "      fill: #FFFFFF;\n",
              "    }\n",
              "  </style>\n",
              "\n",
              "    <script>\n",
              "      const buttonEl =\n",
              "        document.querySelector('#df-eb0b2b6e-6987-4897-97d0-b504a0d37708 button.colab-df-convert');\n",
              "      buttonEl.style.display =\n",
              "        google.colab.kernel.accessAllowed ? 'block' : 'none';\n",
              "\n",
              "      async function convertToInteractive(key) {\n",
              "        const element = document.querySelector('#df-eb0b2b6e-6987-4897-97d0-b504a0d37708');\n",
              "        const dataTable =\n",
              "          await google.colab.kernel.invokeFunction('convertToInteractive',\n",
              "                                                    [key], {});\n",
              "        if (!dataTable) return;\n",
              "\n",
              "        const docLinkHtml = 'Like what you see? Visit the ' +\n",
              "          '<a target=\"_blank\" href=https://colab.research.google.com/notebooks/data_table.ipynb>data table notebook</a>'\n",
              "          + ' to learn more about interactive tables.';\n",
              "        element.innerHTML = '';\n",
              "        dataTable['output_type'] = 'display_data';\n",
              "        await google.colab.output.renderOutput(dataTable, element);\n",
              "        const docLink = document.createElement('div');\n",
              "        docLink.innerHTML = docLinkHtml;\n",
              "        element.appendChild(docLink);\n",
              "      }\n",
              "    </script>\n",
              "  </div>\n",
              "\n",
              "\n",
              "    <div id=\"df-e0cd8d8b-5f55-43eb-86e8-ab0a4c317844\">\n",
              "      <button class=\"colab-df-quickchart\" onclick=\"quickchart('df-e0cd8d8b-5f55-43eb-86e8-ab0a4c317844')\"\n",
              "                title=\"Suggest charts\"\n",
              "                style=\"display:none;\">\n",
              "\n",
              "<svg xmlns=\"http://www.w3.org/2000/svg\" height=\"24px\"viewBox=\"0 0 24 24\"\n",
              "     width=\"24px\">\n",
              "    <g>\n",
              "        <path d=\"M19 3H5c-1.1 0-2 .9-2 2v14c0 1.1.9 2 2 2h14c1.1 0 2-.9 2-2V5c0-1.1-.9-2-2-2zM9 17H7v-7h2v7zm4 0h-2V7h2v10zm4 0h-2v-4h2v4z\"/>\n",
              "    </g>\n",
              "</svg>\n",
              "      </button>\n",
              "\n",
              "<style>\n",
              "  .colab-df-quickchart {\n",
              "      --bg-color: #E8F0FE;\n",
              "      --fill-color: #1967D2;\n",
              "      --hover-bg-color: #E2EBFA;\n",
              "      --hover-fill-color: #174EA6;\n",
              "      --disabled-fill-color: #AAA;\n",
              "      --disabled-bg-color: #DDD;\n",
              "  }\n",
              "\n",
              "  [theme=dark] .colab-df-quickchart {\n",
              "      --bg-color: #3B4455;\n",
              "      --fill-color: #D2E3FC;\n",
              "      --hover-bg-color: #434B5C;\n",
              "      --hover-fill-color: #FFFFFF;\n",
              "      --disabled-bg-color: #3B4455;\n",
              "      --disabled-fill-color: #666;\n",
              "  }\n",
              "\n",
              "  .colab-df-quickchart {\n",
              "    background-color: var(--bg-color);\n",
              "    border: none;\n",
              "    border-radius: 50%;\n",
              "    cursor: pointer;\n",
              "    display: none;\n",
              "    fill: var(--fill-color);\n",
              "    height: 32px;\n",
              "    padding: 0;\n",
              "    width: 32px;\n",
              "  }\n",
              "\n",
              "  .colab-df-quickchart:hover {\n",
              "    background-color: var(--hover-bg-color);\n",
              "    box-shadow: 0 1px 2px rgba(60, 64, 67, 0.3), 0 1px 3px 1px rgba(60, 64, 67, 0.15);\n",
              "    fill: var(--button-hover-fill-color);\n",
              "  }\n",
              "\n",
              "  .colab-df-quickchart-complete:disabled,\n",
              "  .colab-df-quickchart-complete:disabled:hover {\n",
              "    background-color: var(--disabled-bg-color);\n",
              "    fill: var(--disabled-fill-color);\n",
              "    box-shadow: none;\n",
              "  }\n",
              "\n",
              "  .colab-df-spinner {\n",
              "    border: 2px solid var(--fill-color);\n",
              "    border-color: transparent;\n",
              "    border-bottom-color: var(--fill-color);\n",
              "    animation:\n",
              "      spin 1s steps(1) infinite;\n",
              "  }\n",
              "\n",
              "  @keyframes spin {\n",
              "    0% {\n",
              "      border-color: transparent;\n",
              "      border-bottom-color: var(--fill-color);\n",
              "      border-left-color: var(--fill-color);\n",
              "    }\n",
              "    20% {\n",
              "      border-color: transparent;\n",
              "      border-left-color: var(--fill-color);\n",
              "      border-top-color: var(--fill-color);\n",
              "    }\n",
              "    30% {\n",
              "      border-color: transparent;\n",
              "      border-left-color: var(--fill-color);\n",
              "      border-top-color: var(--fill-color);\n",
              "      border-right-color: var(--fill-color);\n",
              "    }\n",
              "    40% {\n",
              "      border-color: transparent;\n",
              "      border-right-color: var(--fill-color);\n",
              "      border-top-color: var(--fill-color);\n",
              "    }\n",
              "    60% {\n",
              "      border-color: transparent;\n",
              "      border-right-color: var(--fill-color);\n",
              "    }\n",
              "    80% {\n",
              "      border-color: transparent;\n",
              "      border-right-color: var(--fill-color);\n",
              "      border-bottom-color: var(--fill-color);\n",
              "    }\n",
              "    90% {\n",
              "      border-color: transparent;\n",
              "      border-bottom-color: var(--fill-color);\n",
              "    }\n",
              "  }\n",
              "</style>\n",
              "\n",
              "      <script>\n",
              "        async function quickchart(key) {\n",
              "          const quickchartButtonEl =\n",
              "            document.querySelector('#' + key + ' button');\n",
              "          quickchartButtonEl.disabled = true;  // To prevent multiple clicks.\n",
              "          quickchartButtonEl.classList.add('colab-df-spinner');\n",
              "          try {\n",
              "            const charts = await google.colab.kernel.invokeFunction(\n",
              "                'suggestCharts', [key], {});\n",
              "          } catch (error) {\n",
              "            console.error('Error during call to suggestCharts:', error);\n",
              "          }\n",
              "          quickchartButtonEl.classList.remove('colab-df-spinner');\n",
              "          quickchartButtonEl.classList.add('colab-df-quickchart-complete');\n",
              "        }\n",
              "        (() => {\n",
              "          let quickchartButtonEl =\n",
              "            document.querySelector('#df-e0cd8d8b-5f55-43eb-86e8-ab0a4c317844 button');\n",
              "          quickchartButtonEl.style.display =\n",
              "            google.colab.kernel.accessAllowed ? 'block' : 'none';\n",
              "        })();\n",
              "      </script>\n",
              "    </div>\n",
              "\n",
              "    </div>\n",
              "  </div>\n"
            ],
            "application/vnd.google.colaboratory.intrinsic+json": {
              "type": "dataframe",
              "summary": "{\n  \"name\": \"df[[\\\"Cabin\\\", \\\"Ticket\\\", \\\"Embarked\\\"]]\",\n  \"rows\": 4,\n  \"fields\": [\n    {\n      \"column\": \"Cabin\",\n      \"properties\": {\n        \"dtype\": \"string\",\n        \"num_unique_values\": 4,\n        \"samples\": [\n          186,\n          \"6\",\n          \"295\"\n        ],\n        \"semantic_type\": \"\",\n        \"description\": \"\"\n      }\n    },\n    {\n      \"column\": \"Ticket\",\n      \"properties\": {\n        \"dtype\": \"string\",\n        \"num_unique_values\": 4,\n        \"samples\": [\n          929,\n          \"11\",\n          \"1309\"\n        ],\n        \"semantic_type\": \"\",\n        \"description\": \"\"\n      }\n    },\n    {\n      \"column\": \"Embarked\",\n      \"properties\": {\n        \"dtype\": \"string\",\n        \"num_unique_values\": 4,\n        \"samples\": [\n          3,\n          \"914\",\n          \"1307\"\n        ],\n        \"semantic_type\": \"\",\n        \"description\": \"\"\n      }\n    }\n  ]\n}"
            }
          },
          "metadata": {},
          "execution_count": 62
        }
      ]
    },
    {
      "cell_type": "code",
      "source": [
        "# 7 tagú család pl. -- Ticket az előző táblázat top értéke\n",
        "\n",
        "filtered_data = df[df['Ticket'] == '347082']\n",
        "print(filtered_data[['Name', 'Parch', 'SibSp', 'Age']])"
      ],
      "metadata": {
        "colab": {
          "base_uri": "https://localhost:8080/"
        },
        "id": "a8Gy8-8EQZLX",
        "outputId": "7c71dc20-e8a7-4442-945f-ea7569ce64db",
        "collapsed": true
      },
      "execution_count": null,
      "outputs": [
        {
          "output_type": "stream",
          "name": "stdout",
          "text": [
            "                                                  Name  Parch  SibSp   Age\n",
            "13                         Andersson, Mr. Anders Johan      5      1 39.00\n",
            "119                  Andersson, Miss. Ellis Anna Maria      2      4  2.00\n",
            "541               Andersson, Miss. Ingeborg Constanzia      2      4  9.00\n",
            "542                  Andersson, Miss. Sigrid Elisabeth      2      4 11.00\n",
            "610  Andersson, Mrs. Anders Johan (Alfrida Konstant...      5      1 39.00\n",
            "813                 Andersson, Miss. Ebba Iris Alfrida      2      4  6.00\n",
            "850            Andersson, Master. Sigvard Harald Elias      2      4  4.00\n"
          ]
        }
      ]
    },
    {
      "cell_type": "markdown",
      "source": [
        "# Adat Feldolgozás, Takarítás"
      ],
      "metadata": {
        "id": "4EbllUU6Tt-5"
      }
    },
    {
      "cell_type": "markdown",
      "source": [
        "## Fölösleges Oszlopok eldobása"
      ],
      "metadata": {
        "id": "kjegaeHRX02h"
      }
    },
    {
      "cell_type": "code",
      "source": [
        "# A Ticketet és PassangerId-t törlöljük, mert nem fogunk tudni hasznos adatot kinyerni belőlük\n",
        "df = df.drop('Ticket', axis=1)\n",
        "df = df.drop('PassengerId', axis=1)\n",
        "\n",
        "# Nagyon sok féle értéket vesz fel, nehéz lehet pontosan meghatározni az ismeretlen értékeket\n",
        "print(df[\"Cabin\"].value_counts())\n",
        "print()\n",
        "\n",
        "# Látható, hogy a Cabin legtöbbször akkor ismert, ha 1. osztályon utaztak, de vannak kivételek\n",
        "print(df[df[\"Cabin\"].notnull()][\"Pclass\"].value_counts())\n",
        "\n",
        "# Mivel a hajó lassan süllyedt el, ezért a Cabin tulajdonságból nem vonható le következtetés abban a tekintetben, hogy valamely kabinokból\n",
        "# már nem lett volna idő kimenekülni. Illetve az is adott, hogy minél drágább osztályon utazik valaki, annál magasabb szinten lakott, ezt megadja a PClass\n",
        "# Ezért úgy értékeltük, hogy ennek az oszlopnak nincs információ értéke, ezért eldobjuk\n",
        "df = df.drop('Cabin', axis=1)"
      ],
      "metadata": {
        "id": "QstmzQmf3rj5",
        "colab": {
          "base_uri": "https://localhost:8080/"
        },
        "outputId": "c4b37c33-fa6b-4aca-c016-57c645657635"
      },
      "execution_count": null,
      "outputs": [
        {
          "output_type": "stream",
          "name": "stdout",
          "text": [
            "Cabin\n",
            "C23 C25 C27        6\n",
            "G6                 5\n",
            "B57 B59 B63 B66    5\n",
            "F33                4\n",
            "F4                 4\n",
            "                  ..\n",
            "C39                1\n",
            "B24                1\n",
            "D40                1\n",
            "D38                1\n",
            "C105               1\n",
            "Name: count, Length: 186, dtype: int64\n",
            "\n",
            "Pclass\n",
            "1    256\n",
            "2     23\n",
            "3     16\n",
            "Name: count, dtype: int64\n"
          ]
        }
      ]
    },
    {
      "cell_type": "markdown",
      "source": [
        "https://triangleinequality.wordpress.com/2013/09/08/basic-feature-engineering-with-the-titanic-data/\n",
        "\n",
        "We have a ‘Cabin’ column not doing much, only 1st class passengers have cabins, the rest are ‘Unknown’. A cabin number looks like ‘C123’. The letter refers to the deck, and so we’re going to extract these just like the titles.\n",
        "\n",
        "Turning cabin number into Deck\n",
        "\n",
        "cabin_list = ['A', 'B', 'C', 'D', 'E', 'F', 'T', 'G', 'Unknown']\n",
        "\n",
        "df['Deck']=df['Cabin'].map(lambda x: substrings_in_string(x, cabin_list))"
      ],
      "metadata": {
        "id": "ejrSWDNFSDiu"
      }
    },
    {
      "cell_type": "markdown",
      "source": [
        "## Age NaN értékek megoldása"
      ],
      "metadata": {
        "id": "8WbsCq56tTtD"
      }
    },
    {
      "cell_type": "code",
      "source": [
        "# Létrehozunk egy új oszlopot, amiben az utasok titulusai szerepelnek\n",
        "title = df['Name'].str.extract(' ([A-Za-z]+)\\.', expand=False)\n",
        "df['Title'] = title\n",
        "print(title.value_counts())\n",
        "print()\n",
        "\n",
        "# Megfigyeltem (manuálisan, mert nem sok), hogy minden címmel rendelkező (Age nélküli!) ember esetén van\n",
        "# legalább egy hasonló címmel rendelkező ember, akinek a korát fel lehet használni a pótláshoz\n",
        "df[df['Title'] == \"Jonkheer\"]"
      ],
      "metadata": {
        "colab": {
          "base_uri": "https://localhost:8080/",
          "height": 464
        },
        "id": "KjMVovKbg9xw",
        "outputId": "a993755d-8a6d-41a7-e279-595b9e65aff6",
        "collapsed": true
      },
      "execution_count": null,
      "outputs": [
        {
          "output_type": "stream",
          "name": "stdout",
          "text": [
            "Name\n",
            "Mr          757\n",
            "Miss        260\n",
            "Mrs         197\n",
            "Master       61\n",
            "Rev           8\n",
            "Dr            8\n",
            "Col           4\n",
            "Major         2\n",
            "Mlle          2\n",
            "Ms            2\n",
            "Mme           1\n",
            "Don           1\n",
            "Sir           1\n",
            "Lady          1\n",
            "Capt          1\n",
            "Countess      1\n",
            "Jonkheer      1\n",
            "Dona          1\n",
            "Name: count, dtype: int64\n",
            "\n"
          ]
        },
        {
          "output_type": "execute_result",
          "data": {
            "text/plain": [
              "     Survived  Pclass                             Name   Sex   Age  SibSp  \\\n",
              "822      0.00       1  Reuchlin, Jonkheer. John George  male 38.00      0   \n",
              "\n",
              "     Parch  Fare Embarked     Title  \n",
              "822      0  0.00        S  Jonkheer  "
            ],
            "text/html": [
              "\n",
              "  <div id=\"df-254cd2ed-1814-4035-9a61-85ee1a89bab3\" class=\"colab-df-container\">\n",
              "    <div>\n",
              "<style scoped>\n",
              "    .dataframe tbody tr th:only-of-type {\n",
              "        vertical-align: middle;\n",
              "    }\n",
              "\n",
              "    .dataframe tbody tr th {\n",
              "        vertical-align: top;\n",
              "    }\n",
              "\n",
              "    .dataframe thead th {\n",
              "        text-align: right;\n",
              "    }\n",
              "</style>\n",
              "<table border=\"1\" class=\"dataframe\">\n",
              "  <thead>\n",
              "    <tr style=\"text-align: right;\">\n",
              "      <th></th>\n",
              "      <th>Survived</th>\n",
              "      <th>Pclass</th>\n",
              "      <th>Name</th>\n",
              "      <th>Sex</th>\n",
              "      <th>Age</th>\n",
              "      <th>SibSp</th>\n",
              "      <th>Parch</th>\n",
              "      <th>Fare</th>\n",
              "      <th>Embarked</th>\n",
              "      <th>Title</th>\n",
              "    </tr>\n",
              "  </thead>\n",
              "  <tbody>\n",
              "    <tr>\n",
              "      <th>822</th>\n",
              "      <td>0.00</td>\n",
              "      <td>1</td>\n",
              "      <td>Reuchlin, Jonkheer. John George</td>\n",
              "      <td>male</td>\n",
              "      <td>38.00</td>\n",
              "      <td>0</td>\n",
              "      <td>0</td>\n",
              "      <td>0.00</td>\n",
              "      <td>S</td>\n",
              "      <td>Jonkheer</td>\n",
              "    </tr>\n",
              "  </tbody>\n",
              "</table>\n",
              "</div>\n",
              "    <div class=\"colab-df-buttons\">\n",
              "\n",
              "  <div class=\"colab-df-container\">\n",
              "    <button class=\"colab-df-convert\" onclick=\"convertToInteractive('df-254cd2ed-1814-4035-9a61-85ee1a89bab3')\"\n",
              "            title=\"Convert this dataframe to an interactive table.\"\n",
              "            style=\"display:none;\">\n",
              "\n",
              "  <svg xmlns=\"http://www.w3.org/2000/svg\" height=\"24px\" viewBox=\"0 -960 960 960\">\n",
              "    <path d=\"M120-120v-720h720v720H120Zm60-500h600v-160H180v160Zm220 220h160v-160H400v160Zm0 220h160v-160H400v160ZM180-400h160v-160H180v160Zm440 0h160v-160H620v160ZM180-180h160v-160H180v160Zm440 0h160v-160H620v160Z\"/>\n",
              "  </svg>\n",
              "    </button>\n",
              "\n",
              "  <style>\n",
              "    .colab-df-container {\n",
              "      display:flex;\n",
              "      gap: 12px;\n",
              "    }\n",
              "\n",
              "    .colab-df-convert {\n",
              "      background-color: #E8F0FE;\n",
              "      border: none;\n",
              "      border-radius: 50%;\n",
              "      cursor: pointer;\n",
              "      display: none;\n",
              "      fill: #1967D2;\n",
              "      height: 32px;\n",
              "      padding: 0 0 0 0;\n",
              "      width: 32px;\n",
              "    }\n",
              "\n",
              "    .colab-df-convert:hover {\n",
              "      background-color: #E2EBFA;\n",
              "      box-shadow: 0px 1px 2px rgba(60, 64, 67, 0.3), 0px 1px 3px 1px rgba(60, 64, 67, 0.15);\n",
              "      fill: #174EA6;\n",
              "    }\n",
              "\n",
              "    .colab-df-buttons div {\n",
              "      margin-bottom: 4px;\n",
              "    }\n",
              "\n",
              "    [theme=dark] .colab-df-convert {\n",
              "      background-color: #3B4455;\n",
              "      fill: #D2E3FC;\n",
              "    }\n",
              "\n",
              "    [theme=dark] .colab-df-convert:hover {\n",
              "      background-color: #434B5C;\n",
              "      box-shadow: 0px 1px 3px 1px rgba(0, 0, 0, 0.15);\n",
              "      filter: drop-shadow(0px 1px 2px rgba(0, 0, 0, 0.3));\n",
              "      fill: #FFFFFF;\n",
              "    }\n",
              "  </style>\n",
              "\n",
              "    <script>\n",
              "      const buttonEl =\n",
              "        document.querySelector('#df-254cd2ed-1814-4035-9a61-85ee1a89bab3 button.colab-df-convert');\n",
              "      buttonEl.style.display =\n",
              "        google.colab.kernel.accessAllowed ? 'block' : 'none';\n",
              "\n",
              "      async function convertToInteractive(key) {\n",
              "        const element = document.querySelector('#df-254cd2ed-1814-4035-9a61-85ee1a89bab3');\n",
              "        const dataTable =\n",
              "          await google.colab.kernel.invokeFunction('convertToInteractive',\n",
              "                                                    [key], {});\n",
              "        if (!dataTable) return;\n",
              "\n",
              "        const docLinkHtml = 'Like what you see? Visit the ' +\n",
              "          '<a target=\"_blank\" href=https://colab.research.google.com/notebooks/data_table.ipynb>data table notebook</a>'\n",
              "          + ' to learn more about interactive tables.';\n",
              "        element.innerHTML = '';\n",
              "        dataTable['output_type'] = 'display_data';\n",
              "        await google.colab.output.renderOutput(dataTable, element);\n",
              "        const docLink = document.createElement('div');\n",
              "        docLink.innerHTML = docLinkHtml;\n",
              "        element.appendChild(docLink);\n",
              "      }\n",
              "    </script>\n",
              "  </div>\n",
              "\n",
              "\n",
              "    </div>\n",
              "  </div>\n"
            ],
            "application/vnd.google.colaboratory.intrinsic+json": {
              "type": "dataframe",
              "summary": "{\n  \"name\": \"df[df['Title'] == \\\"Jonkheer\\\"]\",\n  \"rows\": 1,\n  \"fields\": [\n    {\n      \"column\": \"Survived\",\n      \"properties\": {\n        \"dtype\": \"number\",\n        \"std\": null,\n        \"min\": 0.0,\n        \"max\": 0.0,\n        \"num_unique_values\": 1,\n        \"samples\": [\n          0.0\n        ],\n        \"semantic_type\": \"\",\n        \"description\": \"\"\n      }\n    },\n    {\n      \"column\": \"Pclass\",\n      \"properties\": {\n        \"dtype\": \"number\",\n        \"std\": null,\n        \"min\": 1,\n        \"max\": 1,\n        \"num_unique_values\": 1,\n        \"samples\": [\n          1\n        ],\n        \"semantic_type\": \"\",\n        \"description\": \"\"\n      }\n    },\n    {\n      \"column\": \"Name\",\n      \"properties\": {\n        \"dtype\": \"string\",\n        \"num_unique_values\": 1,\n        \"samples\": [\n          \"Reuchlin, Jonkheer. John George\"\n        ],\n        \"semantic_type\": \"\",\n        \"description\": \"\"\n      }\n    },\n    {\n      \"column\": \"Sex\",\n      \"properties\": {\n        \"dtype\": \"string\",\n        \"num_unique_values\": 1,\n        \"samples\": [\n          \"male\"\n        ],\n        \"semantic_type\": \"\",\n        \"description\": \"\"\n      }\n    },\n    {\n      \"column\": \"Age\",\n      \"properties\": {\n        \"dtype\": \"number\",\n        \"std\": null,\n        \"min\": 38.0,\n        \"max\": 38.0,\n        \"num_unique_values\": 1,\n        \"samples\": [\n          38.0\n        ],\n        \"semantic_type\": \"\",\n        \"description\": \"\"\n      }\n    },\n    {\n      \"column\": \"SibSp\",\n      \"properties\": {\n        \"dtype\": \"number\",\n        \"std\": null,\n        \"min\": 0,\n        \"max\": 0,\n        \"num_unique_values\": 1,\n        \"samples\": [\n          0\n        ],\n        \"semantic_type\": \"\",\n        \"description\": \"\"\n      }\n    },\n    {\n      \"column\": \"Parch\",\n      \"properties\": {\n        \"dtype\": \"number\",\n        \"std\": null,\n        \"min\": 0,\n        \"max\": 0,\n        \"num_unique_values\": 1,\n        \"samples\": [\n          0\n        ],\n        \"semantic_type\": \"\",\n        \"description\": \"\"\n      }\n    },\n    {\n      \"column\": \"Fare\",\n      \"properties\": {\n        \"dtype\": \"number\",\n        \"std\": null,\n        \"min\": 0.0,\n        \"max\": 0.0,\n        \"num_unique_values\": 1,\n        \"samples\": [\n          0.0\n        ],\n        \"semantic_type\": \"\",\n        \"description\": \"\"\n      }\n    },\n    {\n      \"column\": \"Embarked\",\n      \"properties\": {\n        \"dtype\": \"string\",\n        \"num_unique_values\": 1,\n        \"samples\": [\n          \"S\"\n        ],\n        \"semantic_type\": \"\",\n        \"description\": \"\"\n      }\n    },\n    {\n      \"column\": \"Title\",\n      \"properties\": {\n        \"dtype\": \"string\",\n        \"num_unique_values\": 1,\n        \"samples\": [\n          \"Jonkheer\"\n        ],\n        \"semantic_type\": \"\",\n        \"description\": \"\"\n      }\n    }\n  ]\n}"
            }
          },
          "metadata": {},
          "execution_count": 65
        }
      ]
    },
    {
      "cell_type": "code",
      "source": [
        "# Age-ben NaN értékek kicserélése az ugyanolyan Title-el rendelkező utasok Age értékének mediánjával\n",
        "for title in df['Title'].unique():\n",
        "    median_age = df[df['Title'] == title]['Age'].median()\n",
        "    df.loc[(df['Title'] == title) & (df['Age'].isnull()), 'Age'] = median_age"
      ],
      "metadata": {
        "id": "DZEd62qypxY2"
      },
      "execution_count": null,
      "outputs": []
    },
    {
      "cell_type": "markdown",
      "source": [
        "##Family attribútum hozzáadása"
      ],
      "metadata": {
        "id": "FEgrjErUXQMs"
      }
    },
    {
      "cell_type": "code",
      "source": [
        "# Ez utólag nem bizonyult hasznosnak a korrelációra alapozva\n",
        "#train_df['Family'] = train_df['SibSp'] + train_df['Parch'] + 1\n",
        "#test_df['Family'] = test_df['SibSp'] + test_df['Parch'] + 1"
      ],
      "metadata": {
        "id": "ULA6s738XVNE"
      },
      "execution_count": null,
      "outputs": []
    },
    {
      "cell_type": "code",
      "source": [
        "# több tényezősnek érzem azt, hogy ki mennyit fizet, mint szimplán az Embarked mivolta,\n",
        "# de végülis ugyanazt az eredményt adja, mint lejjebb\n",
        "\n",
        "median_fares_by_family = df.groupby(['Sex','SibSp','Parch','Embarked'])['Fare'].median()\n",
        "median_fares_by_embarked = df.groupby('Embarked')['Fare'].median()\n",
        "print(median_fares_by_family)\n",
        "print()\n",
        "print(median_fares_by_embarked)"
      ],
      "metadata": {
        "colab": {
          "base_uri": "https://localhost:8080/"
        },
        "collapsed": true,
        "id": "Ug4sMf1GXWDN",
        "outputId": "47d2bb43-d579-491d-ef89-f2e5ab314da3"
      },
      "execution_count": null,
      "outputs": [
        {
          "output_type": "stream",
          "name": "stdout",
          "text": [
            "Sex     SibSp  Parch  Embarked\n",
            "female  0      0      C          63.11\n",
            "                      Q           7.75\n",
            "                      S          12.47\n",
            "               1      C          59.40\n",
            "                      S          24.50\n",
            "                                  ... \n",
            "male    4      1      Q          29.12\n",
            "                      S          39.69\n",
            "               2      S          31.39\n",
            "        5      2      S          46.90\n",
            "        8      2      S          69.55\n",
            "Name: Fare, Length: 75, dtype: float64\n",
            "\n",
            "Embarked\n",
            "C   28.52\n",
            "Q    7.75\n",
            "S   13.00\n",
            "Name: Fare, dtype: float64\n"
          ]
        }
      ]
    },
    {
      "cell_type": "markdown",
      "source": [
        "## Embarked NaN értékek megoldása"
      ],
      "metadata": {
        "id": "hUPN6WR0eQkb"
      }
    },
    {
      "cell_type": "code",
      "source": [
        "# Megfigyeltem, hogy a felszállás különböző helyein az átlagok és mediánok is jelentősen különböznek,\n",
        "# ezt használom ki a Embarked érték meghatározására\n",
        "print(df[df[\"Embarked\"] == \"Q\"][\"Fare\"].describe())\n",
        "\n",
        "# Feltöltöm az embarked üres értékeit medián fare alapján legvalószínűbb kikötővel\n",
        "for index, row in df[df['Embarked'].isnull()].iterrows():\n",
        "    distances = abs(median_fares_by_embarked - row['Fare'])\n",
        "    df.loc[index, 'Embarked'] = distances.idxmin()"
      ],
      "metadata": {
        "colab": {
          "base_uri": "https://localhost:8080/"
        },
        "collapsed": true,
        "id": "cMFqCl7neQHo",
        "outputId": "6a63a49a-8d29-4baf-8ec4-3fce4d0ac86c"
      },
      "execution_count": null,
      "outputs": [
        {
          "output_type": "stream",
          "name": "stdout",
          "text": [
            "count   123.00\n",
            "mean     12.41\n",
            "std      13.62\n",
            "min       6.75\n",
            "25%       7.75\n",
            "50%       7.75\n",
            "75%      10.20\n",
            "max      90.00\n",
            "Name: Fare, dtype: float64\n"
          ]
        }
      ]
    },
    {
      "cell_type": "markdown",
      "source": [
        "## Fare NaN értékek megoldása"
      ],
      "metadata": {
        "id": "3tlzrEbdzQFn"
      }
    },
    {
      "cell_type": "code",
      "source": [
        "# Feltöltöm a Fare üres értékeit az adott kikötőhöz tarzozó medián Fare értékkel\n",
        "df['Fare'] = df['Fare'].fillna(df.groupby('Embarked')['Fare'].transform('median'))\n",
        "\n",
        "# Hasonló megközelítés az Embarked-hoz, csak fordítva, Embarked alapján adom meg a Fair-t\n",
        "#for index, row in df[df['Fare'].isnull()].iterrows():\n",
        "#    df.loc[index, 'Fare'] = median_fares[row['Embarked']]\n",
        "#df[df[\"PassengerId\"] == 1044]\n",
        "\n",
        "# Minden értéket feltöltöttünk, a 418 NaN a Survived oszlopban a tanító adat miatt van\n",
        "df.isnull().sum()"
      ],
      "metadata": {
        "id": "QM_7Zj1wVfhQ",
        "colab": {
          "base_uri": "https://localhost:8080/",
          "height": 397
        },
        "outputId": "26bce956-d602-4f5b-b65f-e4c8d514d82d"
      },
      "execution_count": null,
      "outputs": [
        {
          "output_type": "execute_result",
          "data": {
            "text/plain": [
              "Survived    418\n",
              "Pclass        0\n",
              "Name          0\n",
              "Sex           0\n",
              "Age           0\n",
              "SibSp         0\n",
              "Parch         0\n",
              "Fare          0\n",
              "Embarked      0\n",
              "Title         0\n",
              "dtype: int64"
            ],
            "text/html": [
              "<div>\n",
              "<style scoped>\n",
              "    .dataframe tbody tr th:only-of-type {\n",
              "        vertical-align: middle;\n",
              "    }\n",
              "\n",
              "    .dataframe tbody tr th {\n",
              "        vertical-align: top;\n",
              "    }\n",
              "\n",
              "    .dataframe thead th {\n",
              "        text-align: right;\n",
              "    }\n",
              "</style>\n",
              "<table border=\"1\" class=\"dataframe\">\n",
              "  <thead>\n",
              "    <tr style=\"text-align: right;\">\n",
              "      <th></th>\n",
              "      <th>0</th>\n",
              "    </tr>\n",
              "  </thead>\n",
              "  <tbody>\n",
              "    <tr>\n",
              "      <th>Survived</th>\n",
              "      <td>418</td>\n",
              "    </tr>\n",
              "    <tr>\n",
              "      <th>Pclass</th>\n",
              "      <td>0</td>\n",
              "    </tr>\n",
              "    <tr>\n",
              "      <th>Name</th>\n",
              "      <td>0</td>\n",
              "    </tr>\n",
              "    <tr>\n",
              "      <th>Sex</th>\n",
              "      <td>0</td>\n",
              "    </tr>\n",
              "    <tr>\n",
              "      <th>Age</th>\n",
              "      <td>0</td>\n",
              "    </tr>\n",
              "    <tr>\n",
              "      <th>SibSp</th>\n",
              "      <td>0</td>\n",
              "    </tr>\n",
              "    <tr>\n",
              "      <th>Parch</th>\n",
              "      <td>0</td>\n",
              "    </tr>\n",
              "    <tr>\n",
              "      <th>Fare</th>\n",
              "      <td>0</td>\n",
              "    </tr>\n",
              "    <tr>\n",
              "      <th>Embarked</th>\n",
              "      <td>0</td>\n",
              "    </tr>\n",
              "    <tr>\n",
              "      <th>Title</th>\n",
              "      <td>0</td>\n",
              "    </tr>\n",
              "  </tbody>\n",
              "</table>\n",
              "</div><br><label><b>dtype:</b> int64</label>"
            ]
          },
          "metadata": {},
          "execution_count": 70
        }
      ]
    },
    {
      "cell_type": "markdown",
      "source": [
        "Ezzel minden NaN attribútumot feltöltöttünk"
      ],
      "metadata": {
        "id": "-o5tPc82Xsw7"
      }
    },
    {
      "cell_type": "markdown",
      "source": [
        "## Sex True/False értékre átállítása"
      ],
      "metadata": {
        "id": "hhovIU2J3PAQ"
      }
    },
    {
      "cell_type": "code",
      "source": [
        "# Nemet True/False értékre állítom\n",
        "def genderToBool(string):\n",
        "    return string == 'male'"
      ],
      "metadata": {
        "id": "Q_z1NGDHRPY_"
      },
      "execution_count": null,
      "outputs": []
    },
    {
      "cell_type": "code",
      "source": [
        "df[\"Sex_male\"] = df[\"Sex\"].apply(genderToBool)"
      ],
      "metadata": {
        "id": "guzvx1JXUhcV"
      },
      "execution_count": null,
      "outputs": []
    },
    {
      "cell_type": "markdown",
      "source": [
        "## Embarked one-hot enkódolás"
      ],
      "metadata": {
        "id": "-rhuFMyo3Wm8"
      }
    },
    {
      "cell_type": "code",
      "source": [
        "# Felszállási helyet one-hot enkódolással oldom meg, hogy könnyebben felhasználható legyen\n",
        "dummies = pd.get_dummies(df[\"Embarked\"], prefix='Embarked')\n",
        "df = pd.concat([df, dummies], axis=1)"
      ],
      "metadata": {
        "id": "82T4eMv0Y1Xy"
      },
      "execution_count": null,
      "outputs": []
    },
    {
      "cell_type": "markdown",
      "source": [
        "# Végső DataFrame-k"
      ],
      "metadata": {
        "id": "l8_TWLH83I3d"
      }
    },
    {
      "cell_type": "code",
      "source": [
        "train_df = df[df['Survived'].notna()]\n",
        "test_df = df[df['Survived'].isna()]"
      ],
      "metadata": {
        "id": "GQYYMTsD1_6T"
      },
      "execution_count": null,
      "outputs": []
    },
    {
      "cell_type": "code",
      "source": [
        "x_cols = ['Pclass', 'Age', 'Fare','SibSp', 'Parch', 'Sex_male', 'Embarked_C', 'Embarked_Q', 'Embarked_S']\n",
        "y_cols = ['Survived']"
      ],
      "metadata": {
        "id": "036CjIi42rvB"
      },
      "execution_count": null,
      "outputs": []
    },
    {
      "cell_type": "code",
      "source": [
        "# Látható, hogy a túlélés jobban korrelál az utas jegyének osztályával, nemével, a jegyének árával, illetve azzal, hogy C vagy S-nél szállt fel.\n",
        "# Látható, hogy nőknek és gazdagabbaknak nagyobb esélye volt túlélni\n",
        "train_df[x_cols + y_cols].corr()['Survived']"
      ],
      "metadata": {
        "colab": {
          "base_uri": "https://localhost:8080/",
          "height": 397
        },
        "id": "s1xT-cDz5r-S",
        "outputId": "b25dc2cf-2e73-40fa-ccb9-086620214e38"
      },
      "execution_count": null,
      "outputs": [
        {
          "output_type": "execute_result",
          "data": {
            "text/plain": [
              "Pclass       -0.34\n",
              "Age          -0.07\n",
              "Fare          0.26\n",
              "SibSp        -0.04\n",
              "Parch         0.08\n",
              "Sex_male     -0.54\n",
              "Embarked_C    0.17\n",
              "Embarked_Q    0.00\n",
              "Embarked_S   -0.16\n",
              "Survived      1.00\n",
              "Name: Survived, dtype: float64"
            ],
            "text/html": [
              "<div>\n",
              "<style scoped>\n",
              "    .dataframe tbody tr th:only-of-type {\n",
              "        vertical-align: middle;\n",
              "    }\n",
              "\n",
              "    .dataframe tbody tr th {\n",
              "        vertical-align: top;\n",
              "    }\n",
              "\n",
              "    .dataframe thead th {\n",
              "        text-align: right;\n",
              "    }\n",
              "</style>\n",
              "<table border=\"1\" class=\"dataframe\">\n",
              "  <thead>\n",
              "    <tr style=\"text-align: right;\">\n",
              "      <th></th>\n",
              "      <th>Survived</th>\n",
              "    </tr>\n",
              "  </thead>\n",
              "  <tbody>\n",
              "    <tr>\n",
              "      <th>Pclass</th>\n",
              "      <td>-0.34</td>\n",
              "    </tr>\n",
              "    <tr>\n",
              "      <th>Age</th>\n",
              "      <td>-0.07</td>\n",
              "    </tr>\n",
              "    <tr>\n",
              "      <th>Fare</th>\n",
              "      <td>0.26</td>\n",
              "    </tr>\n",
              "    <tr>\n",
              "      <th>SibSp</th>\n",
              "      <td>-0.04</td>\n",
              "    </tr>\n",
              "    <tr>\n",
              "      <th>Parch</th>\n",
              "      <td>0.08</td>\n",
              "    </tr>\n",
              "    <tr>\n",
              "      <th>Sex_male</th>\n",
              "      <td>-0.54</td>\n",
              "    </tr>\n",
              "    <tr>\n",
              "      <th>Embarked_C</th>\n",
              "      <td>0.17</td>\n",
              "    </tr>\n",
              "    <tr>\n",
              "      <th>Embarked_Q</th>\n",
              "      <td>0.00</td>\n",
              "    </tr>\n",
              "    <tr>\n",
              "      <th>Embarked_S</th>\n",
              "      <td>-0.16</td>\n",
              "    </tr>\n",
              "    <tr>\n",
              "      <th>Survived</th>\n",
              "      <td>1.00</td>\n",
              "    </tr>\n",
              "  </tbody>\n",
              "</table>\n",
              "</div><br><label><b>dtype:</b> float64</label>"
            ]
          },
          "metadata": {},
          "execution_count": 76
        }
      ]
    },
    {
      "cell_type": "code",
      "source": [
        "# Q értéke azért nem számít annyira valószínűleg, mert Q-nál kevesebb gazdagabb utas szállt fel, ami könnyítené ennek eldöntését\n",
        "train_df[x_cols + y_cols].corr()"
      ],
      "metadata": {
        "colab": {
          "base_uri": "https://localhost:8080/",
          "height": 363
        },
        "id": "_SNJ9XzC6jZC",
        "outputId": "a28e8451-d2b1-4a1e-afc5-f56dadaad68e"
      },
      "execution_count": null,
      "outputs": [
        {
          "output_type": "execute_result",
          "data": {
            "text/plain": [
              "            Pclass   Age  Fare  SibSp  Parch  Sex_male  Embarked_C  \\\n",
              "Pclass        1.00 -0.36 -0.55   0.08   0.02      0.13       -0.25   \n",
              "Age          -0.36  1.00  0.10  -0.26  -0.18      0.09        0.05   \n",
              "Fare         -0.55  0.10  1.00   0.16   0.22     -0.18        0.27   \n",
              "SibSp         0.08 -0.26  0.16   1.00   0.41     -0.11       -0.06   \n",
              "Parch         0.02 -0.18  0.22   0.41   1.00     -0.25       -0.01   \n",
              "Sex_male      0.13  0.09 -0.18  -0.11  -0.25      1.00       -0.09   \n",
              "Embarked_C   -0.25  0.05  0.27  -0.06  -0.01     -0.09        1.00   \n",
              "Embarked_Q    0.22 -0.06 -0.12  -0.03  -0.08     -0.07       -0.15   \n",
              "Embarked_S    0.08 -0.01 -0.17   0.07   0.06      0.13       -0.78   \n",
              "Survived     -0.34 -0.07  0.26  -0.04   0.08     -0.54        0.17   \n",
              "\n",
              "            Embarked_Q  Embarked_S  Survived  \n",
              "Pclass            0.22        0.08     -0.34  \n",
              "Age              -0.06       -0.01     -0.07  \n",
              "Fare             -0.12       -0.17      0.26  \n",
              "SibSp            -0.03        0.07     -0.04  \n",
              "Parch            -0.08        0.06      0.08  \n",
              "Sex_male         -0.07        0.13     -0.54  \n",
              "Embarked_C       -0.15       -0.78      0.17  \n",
              "Embarked_Q        1.00       -0.50      0.00  \n",
              "Embarked_S       -0.50        1.00     -0.16  \n",
              "Survived          0.00       -0.16      1.00  "
            ],
            "text/html": [
              "\n",
              "  <div id=\"df-9a59ef6e-36b2-447e-96ec-848acb0fdfb4\" class=\"colab-df-container\">\n",
              "    <div>\n",
              "<style scoped>\n",
              "    .dataframe tbody tr th:only-of-type {\n",
              "        vertical-align: middle;\n",
              "    }\n",
              "\n",
              "    .dataframe tbody tr th {\n",
              "        vertical-align: top;\n",
              "    }\n",
              "\n",
              "    .dataframe thead th {\n",
              "        text-align: right;\n",
              "    }\n",
              "</style>\n",
              "<table border=\"1\" class=\"dataframe\">\n",
              "  <thead>\n",
              "    <tr style=\"text-align: right;\">\n",
              "      <th></th>\n",
              "      <th>Pclass</th>\n",
              "      <th>Age</th>\n",
              "      <th>Fare</th>\n",
              "      <th>SibSp</th>\n",
              "      <th>Parch</th>\n",
              "      <th>Sex_male</th>\n",
              "      <th>Embarked_C</th>\n",
              "      <th>Embarked_Q</th>\n",
              "      <th>Embarked_S</th>\n",
              "      <th>Survived</th>\n",
              "    </tr>\n",
              "  </thead>\n",
              "  <tbody>\n",
              "    <tr>\n",
              "      <th>Pclass</th>\n",
              "      <td>1.00</td>\n",
              "      <td>-0.36</td>\n",
              "      <td>-0.55</td>\n",
              "      <td>0.08</td>\n",
              "      <td>0.02</td>\n",
              "      <td>0.13</td>\n",
              "      <td>-0.25</td>\n",
              "      <td>0.22</td>\n",
              "      <td>0.08</td>\n",
              "      <td>-0.34</td>\n",
              "    </tr>\n",
              "    <tr>\n",
              "      <th>Age</th>\n",
              "      <td>-0.36</td>\n",
              "      <td>1.00</td>\n",
              "      <td>0.10</td>\n",
              "      <td>-0.26</td>\n",
              "      <td>-0.18</td>\n",
              "      <td>0.09</td>\n",
              "      <td>0.05</td>\n",
              "      <td>-0.06</td>\n",
              "      <td>-0.01</td>\n",
              "      <td>-0.07</td>\n",
              "    </tr>\n",
              "    <tr>\n",
              "      <th>Fare</th>\n",
              "      <td>-0.55</td>\n",
              "      <td>0.10</td>\n",
              "      <td>1.00</td>\n",
              "      <td>0.16</td>\n",
              "      <td>0.22</td>\n",
              "      <td>-0.18</td>\n",
              "      <td>0.27</td>\n",
              "      <td>-0.12</td>\n",
              "      <td>-0.17</td>\n",
              "      <td>0.26</td>\n",
              "    </tr>\n",
              "    <tr>\n",
              "      <th>SibSp</th>\n",
              "      <td>0.08</td>\n",
              "      <td>-0.26</td>\n",
              "      <td>0.16</td>\n",
              "      <td>1.00</td>\n",
              "      <td>0.41</td>\n",
              "      <td>-0.11</td>\n",
              "      <td>-0.06</td>\n",
              "      <td>-0.03</td>\n",
              "      <td>0.07</td>\n",
              "      <td>-0.04</td>\n",
              "    </tr>\n",
              "    <tr>\n",
              "      <th>Parch</th>\n",
              "      <td>0.02</td>\n",
              "      <td>-0.18</td>\n",
              "      <td>0.22</td>\n",
              "      <td>0.41</td>\n",
              "      <td>1.00</td>\n",
              "      <td>-0.25</td>\n",
              "      <td>-0.01</td>\n",
              "      <td>-0.08</td>\n",
              "      <td>0.06</td>\n",
              "      <td>0.08</td>\n",
              "    </tr>\n",
              "    <tr>\n",
              "      <th>Sex_male</th>\n",
              "      <td>0.13</td>\n",
              "      <td>0.09</td>\n",
              "      <td>-0.18</td>\n",
              "      <td>-0.11</td>\n",
              "      <td>-0.25</td>\n",
              "      <td>1.00</td>\n",
              "      <td>-0.09</td>\n",
              "      <td>-0.07</td>\n",
              "      <td>0.13</td>\n",
              "      <td>-0.54</td>\n",
              "    </tr>\n",
              "    <tr>\n",
              "      <th>Embarked_C</th>\n",
              "      <td>-0.25</td>\n",
              "      <td>0.05</td>\n",
              "      <td>0.27</td>\n",
              "      <td>-0.06</td>\n",
              "      <td>-0.01</td>\n",
              "      <td>-0.09</td>\n",
              "      <td>1.00</td>\n",
              "      <td>-0.15</td>\n",
              "      <td>-0.78</td>\n",
              "      <td>0.17</td>\n",
              "    </tr>\n",
              "    <tr>\n",
              "      <th>Embarked_Q</th>\n",
              "      <td>0.22</td>\n",
              "      <td>-0.06</td>\n",
              "      <td>-0.12</td>\n",
              "      <td>-0.03</td>\n",
              "      <td>-0.08</td>\n",
              "      <td>-0.07</td>\n",
              "      <td>-0.15</td>\n",
              "      <td>1.00</td>\n",
              "      <td>-0.50</td>\n",
              "      <td>0.00</td>\n",
              "    </tr>\n",
              "    <tr>\n",
              "      <th>Embarked_S</th>\n",
              "      <td>0.08</td>\n",
              "      <td>-0.01</td>\n",
              "      <td>-0.17</td>\n",
              "      <td>0.07</td>\n",
              "      <td>0.06</td>\n",
              "      <td>0.13</td>\n",
              "      <td>-0.78</td>\n",
              "      <td>-0.50</td>\n",
              "      <td>1.00</td>\n",
              "      <td>-0.16</td>\n",
              "    </tr>\n",
              "    <tr>\n",
              "      <th>Survived</th>\n",
              "      <td>-0.34</td>\n",
              "      <td>-0.07</td>\n",
              "      <td>0.26</td>\n",
              "      <td>-0.04</td>\n",
              "      <td>0.08</td>\n",
              "      <td>-0.54</td>\n",
              "      <td>0.17</td>\n",
              "      <td>0.00</td>\n",
              "      <td>-0.16</td>\n",
              "      <td>1.00</td>\n",
              "    </tr>\n",
              "  </tbody>\n",
              "</table>\n",
              "</div>\n",
              "    <div class=\"colab-df-buttons\">\n",
              "\n",
              "  <div class=\"colab-df-container\">\n",
              "    <button class=\"colab-df-convert\" onclick=\"convertToInteractive('df-9a59ef6e-36b2-447e-96ec-848acb0fdfb4')\"\n",
              "            title=\"Convert this dataframe to an interactive table.\"\n",
              "            style=\"display:none;\">\n",
              "\n",
              "  <svg xmlns=\"http://www.w3.org/2000/svg\" height=\"24px\" viewBox=\"0 -960 960 960\">\n",
              "    <path d=\"M120-120v-720h720v720H120Zm60-500h600v-160H180v160Zm220 220h160v-160H400v160Zm0 220h160v-160H400v160ZM180-400h160v-160H180v160Zm440 0h160v-160H620v160ZM180-180h160v-160H180v160Zm440 0h160v-160H620v160Z\"/>\n",
              "  </svg>\n",
              "    </button>\n",
              "\n",
              "  <style>\n",
              "    .colab-df-container {\n",
              "      display:flex;\n",
              "      gap: 12px;\n",
              "    }\n",
              "\n",
              "    .colab-df-convert {\n",
              "      background-color: #E8F0FE;\n",
              "      border: none;\n",
              "      border-radius: 50%;\n",
              "      cursor: pointer;\n",
              "      display: none;\n",
              "      fill: #1967D2;\n",
              "      height: 32px;\n",
              "      padding: 0 0 0 0;\n",
              "      width: 32px;\n",
              "    }\n",
              "\n",
              "    .colab-df-convert:hover {\n",
              "      background-color: #E2EBFA;\n",
              "      box-shadow: 0px 1px 2px rgba(60, 64, 67, 0.3), 0px 1px 3px 1px rgba(60, 64, 67, 0.15);\n",
              "      fill: #174EA6;\n",
              "    }\n",
              "\n",
              "    .colab-df-buttons div {\n",
              "      margin-bottom: 4px;\n",
              "    }\n",
              "\n",
              "    [theme=dark] .colab-df-convert {\n",
              "      background-color: #3B4455;\n",
              "      fill: #D2E3FC;\n",
              "    }\n",
              "\n",
              "    [theme=dark] .colab-df-convert:hover {\n",
              "      background-color: #434B5C;\n",
              "      box-shadow: 0px 1px 3px 1px rgba(0, 0, 0, 0.15);\n",
              "      filter: drop-shadow(0px 1px 2px rgba(0, 0, 0, 0.3));\n",
              "      fill: #FFFFFF;\n",
              "    }\n",
              "  </style>\n",
              "\n",
              "    <script>\n",
              "      const buttonEl =\n",
              "        document.querySelector('#df-9a59ef6e-36b2-447e-96ec-848acb0fdfb4 button.colab-df-convert');\n",
              "      buttonEl.style.display =\n",
              "        google.colab.kernel.accessAllowed ? 'block' : 'none';\n",
              "\n",
              "      async function convertToInteractive(key) {\n",
              "        const element = document.querySelector('#df-9a59ef6e-36b2-447e-96ec-848acb0fdfb4');\n",
              "        const dataTable =\n",
              "          await google.colab.kernel.invokeFunction('convertToInteractive',\n",
              "                                                    [key], {});\n",
              "        if (!dataTable) return;\n",
              "\n",
              "        const docLinkHtml = 'Like what you see? Visit the ' +\n",
              "          '<a target=\"_blank\" href=https://colab.research.google.com/notebooks/data_table.ipynb>data table notebook</a>'\n",
              "          + ' to learn more about interactive tables.';\n",
              "        element.innerHTML = '';\n",
              "        dataTable['output_type'] = 'display_data';\n",
              "        await google.colab.output.renderOutput(dataTable, element);\n",
              "        const docLink = document.createElement('div');\n",
              "        docLink.innerHTML = docLinkHtml;\n",
              "        element.appendChild(docLink);\n",
              "      }\n",
              "    </script>\n",
              "  </div>\n",
              "\n",
              "\n",
              "    <div id=\"df-bfc55cc2-5495-4353-b28a-479fd8f31bc3\">\n",
              "      <button class=\"colab-df-quickchart\" onclick=\"quickchart('df-bfc55cc2-5495-4353-b28a-479fd8f31bc3')\"\n",
              "                title=\"Suggest charts\"\n",
              "                style=\"display:none;\">\n",
              "\n",
              "<svg xmlns=\"http://www.w3.org/2000/svg\" height=\"24px\"viewBox=\"0 0 24 24\"\n",
              "     width=\"24px\">\n",
              "    <g>\n",
              "        <path d=\"M19 3H5c-1.1 0-2 .9-2 2v14c0 1.1.9 2 2 2h14c1.1 0 2-.9 2-2V5c0-1.1-.9-2-2-2zM9 17H7v-7h2v7zm4 0h-2V7h2v10zm4 0h-2v-4h2v4z\"/>\n",
              "    </g>\n",
              "</svg>\n",
              "      </button>\n",
              "\n",
              "<style>\n",
              "  .colab-df-quickchart {\n",
              "      --bg-color: #E8F0FE;\n",
              "      --fill-color: #1967D2;\n",
              "      --hover-bg-color: #E2EBFA;\n",
              "      --hover-fill-color: #174EA6;\n",
              "      --disabled-fill-color: #AAA;\n",
              "      --disabled-bg-color: #DDD;\n",
              "  }\n",
              "\n",
              "  [theme=dark] .colab-df-quickchart {\n",
              "      --bg-color: #3B4455;\n",
              "      --fill-color: #D2E3FC;\n",
              "      --hover-bg-color: #434B5C;\n",
              "      --hover-fill-color: #FFFFFF;\n",
              "      --disabled-bg-color: #3B4455;\n",
              "      --disabled-fill-color: #666;\n",
              "  }\n",
              "\n",
              "  .colab-df-quickchart {\n",
              "    background-color: var(--bg-color);\n",
              "    border: none;\n",
              "    border-radius: 50%;\n",
              "    cursor: pointer;\n",
              "    display: none;\n",
              "    fill: var(--fill-color);\n",
              "    height: 32px;\n",
              "    padding: 0;\n",
              "    width: 32px;\n",
              "  }\n",
              "\n",
              "  .colab-df-quickchart:hover {\n",
              "    background-color: var(--hover-bg-color);\n",
              "    box-shadow: 0 1px 2px rgba(60, 64, 67, 0.3), 0 1px 3px 1px rgba(60, 64, 67, 0.15);\n",
              "    fill: var(--button-hover-fill-color);\n",
              "  }\n",
              "\n",
              "  .colab-df-quickchart-complete:disabled,\n",
              "  .colab-df-quickchart-complete:disabled:hover {\n",
              "    background-color: var(--disabled-bg-color);\n",
              "    fill: var(--disabled-fill-color);\n",
              "    box-shadow: none;\n",
              "  }\n",
              "\n",
              "  .colab-df-spinner {\n",
              "    border: 2px solid var(--fill-color);\n",
              "    border-color: transparent;\n",
              "    border-bottom-color: var(--fill-color);\n",
              "    animation:\n",
              "      spin 1s steps(1) infinite;\n",
              "  }\n",
              "\n",
              "  @keyframes spin {\n",
              "    0% {\n",
              "      border-color: transparent;\n",
              "      border-bottom-color: var(--fill-color);\n",
              "      border-left-color: var(--fill-color);\n",
              "    }\n",
              "    20% {\n",
              "      border-color: transparent;\n",
              "      border-left-color: var(--fill-color);\n",
              "      border-top-color: var(--fill-color);\n",
              "    }\n",
              "    30% {\n",
              "      border-color: transparent;\n",
              "      border-left-color: var(--fill-color);\n",
              "      border-top-color: var(--fill-color);\n",
              "      border-right-color: var(--fill-color);\n",
              "    }\n",
              "    40% {\n",
              "      border-color: transparent;\n",
              "      border-right-color: var(--fill-color);\n",
              "      border-top-color: var(--fill-color);\n",
              "    }\n",
              "    60% {\n",
              "      border-color: transparent;\n",
              "      border-right-color: var(--fill-color);\n",
              "    }\n",
              "    80% {\n",
              "      border-color: transparent;\n",
              "      border-right-color: var(--fill-color);\n",
              "      border-bottom-color: var(--fill-color);\n",
              "    }\n",
              "    90% {\n",
              "      border-color: transparent;\n",
              "      border-bottom-color: var(--fill-color);\n",
              "    }\n",
              "  }\n",
              "</style>\n",
              "\n",
              "      <script>\n",
              "        async function quickchart(key) {\n",
              "          const quickchartButtonEl =\n",
              "            document.querySelector('#' + key + ' button');\n",
              "          quickchartButtonEl.disabled = true;  // To prevent multiple clicks.\n",
              "          quickchartButtonEl.classList.add('colab-df-spinner');\n",
              "          try {\n",
              "            const charts = await google.colab.kernel.invokeFunction(\n",
              "                'suggestCharts', [key], {});\n",
              "          } catch (error) {\n",
              "            console.error('Error during call to suggestCharts:', error);\n",
              "          }\n",
              "          quickchartButtonEl.classList.remove('colab-df-spinner');\n",
              "          quickchartButtonEl.classList.add('colab-df-quickchart-complete');\n",
              "        }\n",
              "        (() => {\n",
              "          let quickchartButtonEl =\n",
              "            document.querySelector('#df-bfc55cc2-5495-4353-b28a-479fd8f31bc3 button');\n",
              "          quickchartButtonEl.style.display =\n",
              "            google.colab.kernel.accessAllowed ? 'block' : 'none';\n",
              "        })();\n",
              "      </script>\n",
              "    </div>\n",
              "\n",
              "    </div>\n",
              "  </div>\n"
            ],
            "application/vnd.google.colaboratory.intrinsic+json": {
              "type": "dataframe",
              "summary": "{\n  \"name\": \"train_df[x_cols + y_cols]\",\n  \"rows\": 10,\n  \"fields\": [\n    {\n      \"column\": \"Pclass\",\n      \"properties\": {\n        \"dtype\": \"number\",\n        \"std\": 0.43288431774444813,\n        \"min\": -0.5494996199439076,\n        \"max\": 1.0,\n        \"num_unique_values\": 10,\n        \"samples\": [\n          0.08172024174677432,\n          -0.35624780998709493,\n          0.13190049060473924\n        ],\n        \"semantic_type\": \"\",\n        \"description\": \"\"\n      }\n    },\n    {\n      \"column\": \"Age\",\n      \"properties\": {\n        \"dtype\": \"number\",\n        \"std\": 0.3727590308872017,\n        \"min\": -0.35624780998709493,\n        \"max\": 1.0,\n        \"num_unique_values\": 10,\n        \"samples\": [\n          -0.005388328969426364,\n          1.0,\n          0.09271461021054962\n        ],\n        \"semantic_type\": \"\",\n        \"description\": \"\"\n      }\n    },\n    {\n      \"column\": \"Fare\",\n      \"properties\": {\n        \"dtype\": \"number\",\n        \"std\": 0.4084888400854269,\n        \"min\": -0.5494996199439076,\n        \"max\": 1.0,\n        \"num_unique_values\": 10,\n        \"samples\": [\n          -0.16660270235034266,\n          0.10040636261970842,\n          -0.18233283380287008\n        ],\n        \"semantic_type\": \"\",\n        \"description\": \"\"\n      }\n    },\n    {\n      \"column\": \"SibSp\",\n      \"properties\": {\n        \"dtype\": \"number\",\n        \"std\": 0.3568670252781382,\n        \"min\": -0.26195052729322665,\n        \"max\": 1.0,\n        \"num_unique_values\": 10,\n        \"samples\": [\n          0.0709406273509937,\n          -0.26195052729322665,\n          -0.1146308103894224\n        ],\n        \"semantic_type\": \"\",\n        \"description\": \"\"\n      }\n    },\n    {\n      \"column\": \"Parch\",\n      \"properties\": {\n        \"dtype\": \"number\",\n        \"std\": 0.36052324396717783,\n        \"min\": -0.24548896009069898,\n        \"max\": 1.0,\n        \"num_unique_values\": 10,\n        \"samples\": [\n          0.0630361694630459,\n          -0.18446035775752861,\n          -0.24548896009069898\n        ],\n        \"semantic_type\": \"\",\n        \"description\": \"\"\n      }\n    },\n    {\n      \"column\": \"Sex_male\",\n      \"properties\": {\n        \"dtype\": \"number\",\n        \"std\": 0.40225891109908163,\n        \"min\": -0.543351380657755,\n        \"max\": 1.0,\n        \"num_unique_values\": 10,\n        \"samples\": [\n          0.12572201223032886,\n          0.09271461021054962,\n          1.0\n        ],\n        \"semantic_type\": \"\",\n        \"description\": \"\"\n      }\n    },\n    {\n      \"column\": \"Embarked_C\",\n      \"properties\": {\n        \"dtype\": \"number\",\n        \"std\": 0.4494459292837244,\n        \"min\": -0.784063587528561,\n        \"max\": 1.0,\n        \"num_unique_values\": 10,\n        \"samples\": [\n          -0.784063587528561,\n          0.05015993969609764,\n          -0.09022273391755062\n        ],\n        \"semantic_type\": \"\",\n        \"description\": \"\"\n      }\n    },\n    {\n      \"column\": \"Embarked_Q\",\n      \"properties\": {\n        \"dtype\": \"number\",\n        \"std\": 0.38634330708493464,\n        \"min\": -0.4966239012239317,\n        \"max\": 1.0,\n        \"num_unique_values\": 10,\n        \"samples\": [\n          -0.4966239012239317,\n          -0.0615601972252034,\n          -0.07411512301074041\n        ],\n        \"semantic_type\": \"\",\n        \"description\": \"\"\n      }\n    },\n    {\n      \"column\": \"Embarked_S\",\n      \"properties\": {\n        \"dtype\": \"number\",\n        \"std\": 0.46401297424716187,\n        \"min\": -0.784063587528561,\n        \"max\": 1.0,\n        \"num_unique_values\": 10,\n        \"samples\": [\n          1.0,\n          -0.005388328969426364,\n          0.12572201223032886\n        ],\n        \"semantic_type\": \"\",\n        \"description\": \"\"\n      }\n    },\n    {\n      \"column\": \"Survived\",\n      \"properties\": {\n        \"dtype\": \"number\",\n        \"std\": 0.4122945555360901,\n        \"min\": -0.543351380657755,\n        \"max\": 1.0,\n        \"num_unique_values\": 10,\n        \"samples\": [\n          -0.15566027340439345,\n          -0.07147024386845911,\n          -0.543351380657755\n        ],\n        \"semantic_type\": \"\",\n        \"description\": \"\"\n      }\n    }\n  ]\n}"
            }
          },
          "metadata": {},
          "execution_count": 77
        }
      ]
    },
    {
      "cell_type": "markdown",
      "source": [
        "# Adatvizualizáció (ötletek)"
      ],
      "metadata": {
        "id": "t8mz31mzCJ2z"
      }
    },
    {
      "cell_type": "code",
      "source": [
        "# Korreláció a jellemzők között\n",
        "train_df[x_cols + y_cols].corr().style.background_gradient(cmap='coolwarm', axis=None)"
      ],
      "metadata": {
        "colab": {
          "base_uri": "https://localhost:8080/",
          "height": 363
        },
        "id": "NzC_dJ1MCQXE",
        "outputId": "045c97e1-c4f8-4a05-da64-f20c3c8a061b"
      },
      "execution_count": null,
      "outputs": [
        {
          "output_type": "execute_result",
          "data": {
            "text/plain": [
              "<pandas.io.formats.style.Styler at 0x7b2d5564a890>"
            ],
            "text/html": [
              "<style type=\"text/css\">\n",
              "#T_790f5_row0_col0, #T_790f5_row1_col1, #T_790f5_row2_col2, #T_790f5_row3_col3, #T_790f5_row4_col4, #T_790f5_row5_col5, #T_790f5_row6_col6, #T_790f5_row7_col7, #T_790f5_row8_col8, #T_790f5_row9_col9 {\n",
              "  background-color: #b40426;\n",
              "  color: #f1f1f1;\n",
              "}\n",
              "#T_790f5_row0_col1, #T_790f5_row1_col0 {\n",
              "  background-color: #89acfd;\n",
              "  color: #000000;\n",
              "}\n",
              "#T_790f5_row0_col2, #T_790f5_row2_col0 {\n",
              "  background-color: #6384eb;\n",
              "  color: #f1f1f1;\n",
              "}\n",
              "#T_790f5_row0_col3, #T_790f5_row0_col8, #T_790f5_row3_col0, #T_790f5_row4_col9, #T_790f5_row8_col0, #T_790f5_row9_col4 {\n",
              "  background-color: #d9dce1;\n",
              "  color: #000000;\n",
              "}\n",
              "#T_790f5_row0_col4, #T_790f5_row4_col0 {\n",
              "  background-color: #cfdaea;\n",
              "  color: #000000;\n",
              "}\n",
              "#T_790f5_row0_col5, #T_790f5_row5_col0 {\n",
              "  background-color: #e0dbd8;\n",
              "  color: #000000;\n",
              "}\n",
              "#T_790f5_row0_col6, #T_790f5_row6_col0 {\n",
              "  background-color: #9ebeff;\n",
              "  color: #000000;\n",
              "}\n",
              "#T_790f5_row0_col7, #T_790f5_row7_col0 {\n",
              "  background-color: #ecd3c5;\n",
              "  color: #000000;\n",
              "}\n",
              "#T_790f5_row0_col9, #T_790f5_row9_col0 {\n",
              "  background-color: #8caffe;\n",
              "  color: #000000;\n",
              "}\n",
              "#T_790f5_row1_col2, #T_790f5_row2_col1 {\n",
              "  background-color: #dbdcde;\n",
              "  color: #000000;\n",
              "}\n",
              "#T_790f5_row1_col3, #T_790f5_row3_col1 {\n",
              "  background-color: #9bbcff;\n",
              "  color: #000000;\n",
              "}\n",
              "#T_790f5_row1_col4, #T_790f5_row2_col5, #T_790f5_row4_col1, #T_790f5_row5_col2 {\n",
              "  background-color: #abc8fd;\n",
              "  color: #000000;\n",
              "}\n",
              "#T_790f5_row1_col5, #T_790f5_row5_col1 {\n",
              "  background-color: #dadce0;\n",
              "  color: #000000;\n",
              "}\n",
              "#T_790f5_row1_col6, #T_790f5_row6_col1 {\n",
              "  background-color: #d4dbe6;\n",
              "  color: #000000;\n",
              "}\n",
              "#T_790f5_row1_col7, #T_790f5_row3_col6, #T_790f5_row6_col3, #T_790f5_row7_col1 {\n",
              "  background-color: #c1d4f4;\n",
              "  color: #000000;\n",
              "}\n",
              "#T_790f5_row1_col8, #T_790f5_row8_col1 {\n",
              "  background-color: #cbd8ee;\n",
              "  color: #000000;\n",
              "}\n",
              "#T_790f5_row1_col9, #T_790f5_row9_col1 {\n",
              "  background-color: #c0d4f5;\n",
              "  color: #000000;\n",
              "}\n",
              "#T_790f5_row2_col3, #T_790f5_row3_col2 {\n",
              "  background-color: #e4d9d2;\n",
              "  color: #000000;\n",
              "}\n",
              "#T_790f5_row2_col4, #T_790f5_row4_col2 {\n",
              "  background-color: #ebd3c6;\n",
              "  color: #000000;\n",
              "}\n",
              "#T_790f5_row2_col6, #T_790f5_row6_col2 {\n",
              "  background-color: #f1cdba;\n",
              "  color: #000000;\n",
              "}\n",
              "#T_790f5_row2_col7, #T_790f5_row7_col2 {\n",
              "  background-color: #b7cff9;\n",
              "  color: #000000;\n",
              "}\n",
              "#T_790f5_row2_col8, #T_790f5_row8_col2 {\n",
              "  background-color: #aec9fc;\n",
              "  color: #000000;\n",
              "}\n",
              "#T_790f5_row2_col9, #T_790f5_row9_col2 {\n",
              "  background-color: #efcebd;\n",
              "  color: #000000;\n",
              "}\n",
              "#T_790f5_row3_col4, #T_790f5_row4_col3 {\n",
              "  background-color: #f7b599;\n",
              "  color: #000000;\n",
              "}\n",
              "#T_790f5_row3_col5, #T_790f5_row5_col3 {\n",
              "  background-color: #b9d0f9;\n",
              "  color: #000000;\n",
              "}\n",
              "#T_790f5_row3_col7, #T_790f5_row7_col3 {\n",
              "  background-color: #c7d7f0;\n",
              "  color: #000000;\n",
              "}\n",
              "#T_790f5_row3_col8, #T_790f5_row8_col3 {\n",
              "  background-color: #d7dce3;\n",
              "  color: #000000;\n",
              "}\n",
              "#T_790f5_row3_col9, #T_790f5_row9_col3 {\n",
              "  background-color: #c6d6f1;\n",
              "  color: #000000;\n",
              "}\n",
              "#T_790f5_row4_col5, #T_790f5_row5_col4 {\n",
              "  background-color: #9fbfff;\n",
              "  color: #000000;\n",
              "}\n",
              "#T_790f5_row4_col6, #T_790f5_row6_col4 {\n",
              "  background-color: #cad8ef;\n",
              "  color: #000000;\n",
              "}\n",
              "#T_790f5_row4_col7, #T_790f5_row7_col4 {\n",
              "  background-color: #bed2f6;\n",
              "  color: #000000;\n",
              "}\n",
              "#T_790f5_row4_col8, #T_790f5_row8_col4 {\n",
              "  background-color: #d6dce4;\n",
              "  color: #000000;\n",
              "}\n",
              "#T_790f5_row5_col6, #T_790f5_row6_col5 {\n",
              "  background-color: #bcd2f7;\n",
              "  color: #000000;\n",
              "}\n",
              "#T_790f5_row5_col7, #T_790f5_row7_col5 {\n",
              "  background-color: #bfd3f6;\n",
              "  color: #000000;\n",
              "}\n",
              "#T_790f5_row5_col8, #T_790f5_row8_col5 {\n",
              "  background-color: #dfdbd9;\n",
              "  color: #000000;\n",
              "}\n",
              "#T_790f5_row5_col9, #T_790f5_row9_col5 {\n",
              "  background-color: #6485ec;\n",
              "  color: #f1f1f1;\n",
              "}\n",
              "#T_790f5_row6_col7, #T_790f5_row7_col6 {\n",
              "  background-color: #b2ccfb;\n",
              "  color: #000000;\n",
              "}\n",
              "#T_790f5_row6_col8, #T_790f5_row8_col6 {\n",
              "  background-color: #3b4cc0;\n",
              "  color: #f1f1f1;\n",
              "}\n",
              "#T_790f5_row6_col9, #T_790f5_row9_col6 {\n",
              "  background-color: #e6d7cf;\n",
              "  color: #000000;\n",
              "}\n",
              "#T_790f5_row7_col8, #T_790f5_row8_col7 {\n",
              "  background-color: #6e90f2;\n",
              "  color: #f1f1f1;\n",
              "}\n",
              "#T_790f5_row7_col9, #T_790f5_row9_col7 {\n",
              "  background-color: #cdd9ec;\n",
              "  color: #000000;\n",
              "}\n",
              "#T_790f5_row8_col9, #T_790f5_row9_col8 {\n",
              "  background-color: #b1cbfc;\n",
              "  color: #000000;\n",
              "}\n",
              "</style>\n",
              "<table id=\"T_790f5\" class=\"dataframe\">\n",
              "  <thead>\n",
              "    <tr>\n",
              "      <th class=\"blank level0\" >&nbsp;</th>\n",
              "      <th id=\"T_790f5_level0_col0\" class=\"col_heading level0 col0\" >Pclass</th>\n",
              "      <th id=\"T_790f5_level0_col1\" class=\"col_heading level0 col1\" >Age</th>\n",
              "      <th id=\"T_790f5_level0_col2\" class=\"col_heading level0 col2\" >Fare</th>\n",
              "      <th id=\"T_790f5_level0_col3\" class=\"col_heading level0 col3\" >SibSp</th>\n",
              "      <th id=\"T_790f5_level0_col4\" class=\"col_heading level0 col4\" >Parch</th>\n",
              "      <th id=\"T_790f5_level0_col5\" class=\"col_heading level0 col5\" >Sex_male</th>\n",
              "      <th id=\"T_790f5_level0_col6\" class=\"col_heading level0 col6\" >Embarked_C</th>\n",
              "      <th id=\"T_790f5_level0_col7\" class=\"col_heading level0 col7\" >Embarked_Q</th>\n",
              "      <th id=\"T_790f5_level0_col8\" class=\"col_heading level0 col8\" >Embarked_S</th>\n",
              "      <th id=\"T_790f5_level0_col9\" class=\"col_heading level0 col9\" >Survived</th>\n",
              "    </tr>\n",
              "  </thead>\n",
              "  <tbody>\n",
              "    <tr>\n",
              "      <th id=\"T_790f5_level0_row0\" class=\"row_heading level0 row0\" >Pclass</th>\n",
              "      <td id=\"T_790f5_row0_col0\" class=\"data row0 col0\" >1.000000</td>\n",
              "      <td id=\"T_790f5_row0_col1\" class=\"data row0 col1\" >-0.356248</td>\n",
              "      <td id=\"T_790f5_row0_col2\" class=\"data row0 col2\" >-0.549500</td>\n",
              "      <td id=\"T_790f5_row0_col3\" class=\"data row0 col3\" >0.083081</td>\n",
              "      <td id=\"T_790f5_row0_col4\" class=\"data row0 col4\" >0.018443</td>\n",
              "      <td id=\"T_790f5_row0_col5\" class=\"data row0 col5\" >0.131900</td>\n",
              "      <td id=\"T_790f5_row0_col6\" class=\"data row0 col6\" >-0.251139</td>\n",
              "      <td id=\"T_790f5_row0_col7\" class=\"data row0 col7\" >0.221009</td>\n",
              "      <td id=\"T_790f5_row0_col8\" class=\"data row0 col8\" >0.081720</td>\n",
              "      <td id=\"T_790f5_row0_col9\" class=\"data row0 col9\" >-0.338481</td>\n",
              "    </tr>\n",
              "    <tr>\n",
              "      <th id=\"T_790f5_level0_row1\" class=\"row_heading level0 row1\" >Age</th>\n",
              "      <td id=\"T_790f5_row1_col0\" class=\"data row1 col0\" >-0.356248</td>\n",
              "      <td id=\"T_790f5_row1_col1\" class=\"data row1 col1\" >1.000000</td>\n",
              "      <td id=\"T_790f5_row1_col2\" class=\"data row1 col2\" >0.100406</td>\n",
              "      <td id=\"T_790f5_row1_col3\" class=\"data row1 col3\" >-0.261951</td>\n",
              "      <td id=\"T_790f5_row1_col4\" class=\"data row1 col4\" >-0.184460</td>\n",
              "      <td id=\"T_790f5_row1_col5\" class=\"data row1 col5\" >0.092715</td>\n",
              "      <td id=\"T_790f5_row1_col6\" class=\"data row1 col6\" >0.050160</td>\n",
              "      <td id=\"T_790f5_row1_col7\" class=\"data row1 col7\" >-0.061560</td>\n",
              "      <td id=\"T_790f5_row1_col8\" class=\"data row1 col8\" >-0.005388</td>\n",
              "      <td id=\"T_790f5_row1_col9\" class=\"data row1 col9\" >-0.071470</td>\n",
              "    </tr>\n",
              "    <tr>\n",
              "      <th id=\"T_790f5_level0_row2\" class=\"row_heading level0 row2\" >Fare</th>\n",
              "      <td id=\"T_790f5_row2_col0\" class=\"data row2 col0\" >-0.549500</td>\n",
              "      <td id=\"T_790f5_row2_col1\" class=\"data row2 col1\" >0.100406</td>\n",
              "      <td id=\"T_790f5_row2_col2\" class=\"data row2 col2\" >1.000000</td>\n",
              "      <td id=\"T_790f5_row2_col3\" class=\"data row2 col3\" >0.159651</td>\n",
              "      <td id=\"T_790f5_row2_col4\" class=\"data row2 col4\" >0.216225</td>\n",
              "      <td id=\"T_790f5_row2_col5\" class=\"data row2 col5\" >-0.182333</td>\n",
              "      <td id=\"T_790f5_row2_col6\" class=\"data row2 col6\" >0.273614</td>\n",
              "      <td id=\"T_790f5_row2_col7\" class=\"data row2 col7\" >-0.117216</td>\n",
              "      <td id=\"T_790f5_row2_col8\" class=\"data row2 col8\" >-0.166603</td>\n",
              "      <td id=\"T_790f5_row2_col9\" class=\"data row2 col9\" >0.257307</td>\n",
              "    </tr>\n",
              "    <tr>\n",
              "      <th id=\"T_790f5_level0_row3\" class=\"row_heading level0 row3\" >SibSp</th>\n",
              "      <td id=\"T_790f5_row3_col0\" class=\"data row3 col0\" >0.083081</td>\n",
              "      <td id=\"T_790f5_row3_col1\" class=\"data row3 col1\" >-0.261951</td>\n",
              "      <td id=\"T_790f5_row3_col2\" class=\"data row3 col2\" >0.159651</td>\n",
              "      <td id=\"T_790f5_row3_col3\" class=\"data row3 col3\" >1.000000</td>\n",
              "      <td id=\"T_790f5_row3_col4\" class=\"data row3 col4\" >0.414838</td>\n",
              "      <td id=\"T_790f5_row3_col5\" class=\"data row3 col5\" >-0.114631</td>\n",
              "      <td id=\"T_790f5_row3_col6\" class=\"data row3 col6\" >-0.061970</td>\n",
              "      <td id=\"T_790f5_row3_col7\" class=\"data row3 col7\" >-0.026354</td>\n",
              "      <td id=\"T_790f5_row3_col8\" class=\"data row3 col8\" >0.070941</td>\n",
              "      <td id=\"T_790f5_row3_col9\" class=\"data row3 col9\" >-0.035322</td>\n",
              "    </tr>\n",
              "    <tr>\n",
              "      <th id=\"T_790f5_level0_row4\" class=\"row_heading level0 row4\" >Parch</th>\n",
              "      <td id=\"T_790f5_row4_col0\" class=\"data row4 col0\" >0.018443</td>\n",
              "      <td id=\"T_790f5_row4_col1\" class=\"data row4 col1\" >-0.184460</td>\n",
              "      <td id=\"T_790f5_row4_col2\" class=\"data row4 col2\" >0.216225</td>\n",
              "      <td id=\"T_790f5_row4_col3\" class=\"data row4 col3\" >0.414838</td>\n",
              "      <td id=\"T_790f5_row4_col4\" class=\"data row4 col4\" >1.000000</td>\n",
              "      <td id=\"T_790f5_row4_col5\" class=\"data row4 col5\" >-0.245489</td>\n",
              "      <td id=\"T_790f5_row4_col6\" class=\"data row4 col6\" >-0.013725</td>\n",
              "      <td id=\"T_790f5_row4_col7\" class=\"data row4 col7\" >-0.081228</td>\n",
              "      <td id=\"T_790f5_row4_col8\" class=\"data row4 col8\" >0.063036</td>\n",
              "      <td id=\"T_790f5_row4_col9\" class=\"data row4 col9\" >0.081629</td>\n",
              "    </tr>\n",
              "    <tr>\n",
              "      <th id=\"T_790f5_level0_row5\" class=\"row_heading level0 row5\" >Sex_male</th>\n",
              "      <td id=\"T_790f5_row5_col0\" class=\"data row5 col0\" >0.131900</td>\n",
              "      <td id=\"T_790f5_row5_col1\" class=\"data row5 col1\" >0.092715</td>\n",
              "      <td id=\"T_790f5_row5_col2\" class=\"data row5 col2\" >-0.182333</td>\n",
              "      <td id=\"T_790f5_row5_col3\" class=\"data row5 col3\" >-0.114631</td>\n",
              "      <td id=\"T_790f5_row5_col4\" class=\"data row5 col4\" >-0.245489</td>\n",
              "      <td id=\"T_790f5_row5_col5\" class=\"data row5 col5\" >1.000000</td>\n",
              "      <td id=\"T_790f5_row5_col6\" class=\"data row5 col6\" >-0.090223</td>\n",
              "      <td id=\"T_790f5_row5_col7\" class=\"data row5 col7\" >-0.074115</td>\n",
              "      <td id=\"T_790f5_row5_col8\" class=\"data row5 col8\" >0.125722</td>\n",
              "      <td id=\"T_790f5_row5_col9\" class=\"data row5 col9\" >-0.543351</td>\n",
              "    </tr>\n",
              "    <tr>\n",
              "      <th id=\"T_790f5_level0_row6\" class=\"row_heading level0 row6\" >Embarked_C</th>\n",
              "      <td id=\"T_790f5_row6_col0\" class=\"data row6 col0\" >-0.251139</td>\n",
              "      <td id=\"T_790f5_row6_col1\" class=\"data row6 col1\" >0.050160</td>\n",
              "      <td id=\"T_790f5_row6_col2\" class=\"data row6 col2\" >0.273614</td>\n",
              "      <td id=\"T_790f5_row6_col3\" class=\"data row6 col3\" >-0.061970</td>\n",
              "      <td id=\"T_790f5_row6_col4\" class=\"data row6 col4\" >-0.013725</td>\n",
              "      <td id=\"T_790f5_row6_col5\" class=\"data row6 col5\" >-0.090223</td>\n",
              "      <td id=\"T_790f5_row6_col6\" class=\"data row6 col6\" >1.000000</td>\n",
              "      <td id=\"T_790f5_row6_col7\" class=\"data row6 col7\" >-0.149345</td>\n",
              "      <td id=\"T_790f5_row6_col8\" class=\"data row6 col8\" >-0.784064</td>\n",
              "      <td id=\"T_790f5_row6_col9\" class=\"data row6 col9\" >0.174718</td>\n",
              "    </tr>\n",
              "    <tr>\n",
              "      <th id=\"T_790f5_level0_row7\" class=\"row_heading level0 row7\" >Embarked_Q</th>\n",
              "      <td id=\"T_790f5_row7_col0\" class=\"data row7 col0\" >0.221009</td>\n",
              "      <td id=\"T_790f5_row7_col1\" class=\"data row7 col1\" >-0.061560</td>\n",
              "      <td id=\"T_790f5_row7_col2\" class=\"data row7 col2\" >-0.117216</td>\n",
              "      <td id=\"T_790f5_row7_col3\" class=\"data row7 col3\" >-0.026354</td>\n",
              "      <td id=\"T_790f5_row7_col4\" class=\"data row7 col4\" >-0.081228</td>\n",
              "      <td id=\"T_790f5_row7_col5\" class=\"data row7 col5\" >-0.074115</td>\n",
              "      <td id=\"T_790f5_row7_col6\" class=\"data row7 col6\" >-0.149345</td>\n",
              "      <td id=\"T_790f5_row7_col7\" class=\"data row7 col7\" >1.000000</td>\n",
              "      <td id=\"T_790f5_row7_col8\" class=\"data row7 col8\" >-0.496624</td>\n",
              "      <td id=\"T_790f5_row7_col9\" class=\"data row7 col9\" >0.003650</td>\n",
              "    </tr>\n",
              "    <tr>\n",
              "      <th id=\"T_790f5_level0_row8\" class=\"row_heading level0 row8\" >Embarked_S</th>\n",
              "      <td id=\"T_790f5_row8_col0\" class=\"data row8 col0\" >0.081720</td>\n",
              "      <td id=\"T_790f5_row8_col1\" class=\"data row8 col1\" >-0.005388</td>\n",
              "      <td id=\"T_790f5_row8_col2\" class=\"data row8 col2\" >-0.166603</td>\n",
              "      <td id=\"T_790f5_row8_col3\" class=\"data row8 col3\" >0.070941</td>\n",
              "      <td id=\"T_790f5_row8_col4\" class=\"data row8 col4\" >0.063036</td>\n",
              "      <td id=\"T_790f5_row8_col5\" class=\"data row8 col5\" >0.125722</td>\n",
              "      <td id=\"T_790f5_row8_col6\" class=\"data row8 col6\" >-0.784064</td>\n",
              "      <td id=\"T_790f5_row8_col7\" class=\"data row8 col7\" >-0.496624</td>\n",
              "      <td id=\"T_790f5_row8_col8\" class=\"data row8 col8\" >1.000000</td>\n",
              "      <td id=\"T_790f5_row8_col9\" class=\"data row8 col9\" >-0.155660</td>\n",
              "    </tr>\n",
              "    <tr>\n",
              "      <th id=\"T_790f5_level0_row9\" class=\"row_heading level0 row9\" >Survived</th>\n",
              "      <td id=\"T_790f5_row9_col0\" class=\"data row9 col0\" >-0.338481</td>\n",
              "      <td id=\"T_790f5_row9_col1\" class=\"data row9 col1\" >-0.071470</td>\n",
              "      <td id=\"T_790f5_row9_col2\" class=\"data row9 col2\" >0.257307</td>\n",
              "      <td id=\"T_790f5_row9_col3\" class=\"data row9 col3\" >-0.035322</td>\n",
              "      <td id=\"T_790f5_row9_col4\" class=\"data row9 col4\" >0.081629</td>\n",
              "      <td id=\"T_790f5_row9_col5\" class=\"data row9 col5\" >-0.543351</td>\n",
              "      <td id=\"T_790f5_row9_col6\" class=\"data row9 col6\" >0.174718</td>\n",
              "      <td id=\"T_790f5_row9_col7\" class=\"data row9 col7\" >0.003650</td>\n",
              "      <td id=\"T_790f5_row9_col8\" class=\"data row9 col8\" >-0.155660</td>\n",
              "      <td id=\"T_790f5_row9_col9\" class=\"data row9 col9\" >1.000000</td>\n",
              "    </tr>\n",
              "  </tbody>\n",
              "</table>\n"
            ]
          },
          "metadata": {},
          "execution_count": 78
        }
      ]
    },
    {
      "cell_type": "code",
      "source": [
        "from matplotlib import pyplot as plt\n",
        "\n",
        "# A különböző oszlopokban megjelenő értékek darabszámai megjelenítve oszlopdiagrammok segítségével\n",
        "f,ax = plt.subplots(2,len(x_cols + y_cols)//2)\n",
        "f.set_size_inches(20,10)\n",
        "for i in range(len(x_cols + y_cols)):\n",
        "    row = i // (len(x_cols + y_cols) // 2)\n",
        "    col = i % (len(x_cols + y_cols) // 2)\n",
        "    column = (x_cols + y_cols)[i]\n",
        "    value_counts = df[column].value_counts()\n",
        "    #print(value_counts)\n",
        "    ax[row, col].bar(value_counts.index, value_counts.values)\n",
        "    ax[row, col].set_title(f'Count in {column}')\n",
        "    ax[row, col]\n",
        "plt.show()"
      ],
      "metadata": {
        "colab": {
          "base_uri": "https://localhost:8080/",
          "height": 843
        },
        "id": "kG3zKYxUXeCn",
        "outputId": "8cf832bf-6000-41c4-a1b5-3f4e57fa5d23"
      },
      "execution_count": null,
      "outputs": [
        {
          "output_type": "display_data",
          "data": {
            "text/plain": [
              "<Figure size 2000x1000 with 10 Axes>"
            ],
            "image/png": "[encoded data removed]"
          },
          "metadata": {}
        }
      ]
    },
    {
      "cell_type": "markdown",
      "source": [
        "## Passager Class vs Survival"
      ],
      "metadata": {
        "id": "Z8pzYGLVo_v0"
      }
    },
    {
      "cell_type": "code",
      "source": [
        "import pandas as pd\n",
        "import matplotlib.pyplot as plt\n",
        "import seaborn as sns\n",
        "\n",
        "# If not already loaded, you can load the dataset as follows:\n",
        "# titanic = pd.read_csv('titanic.csv')\n",
        "# Alternatively, for a quick example using seaborn's version:\n",
        "# titanic = sns.load_dataset(\"titanic\")\n",
        "\n",
        "plt.figure(figsize=(8,6))\n",
        "sns.countplot(x='Pclass', hue='Survived', data=df)\n",
        "plt.title('Passenger Count by Class and Survival Status')\n",
        "plt.xlabel('Passenger Class')\n",
        "plt.ylabel('Count')\n",
        "plt.legend(title='Survived', labels=['No', 'Yes'])\n",
        "plt.show()\n"
      ],
      "metadata": {
        "id": "P7uGakBgeWF4",
        "colab": {
          "base_uri": "https://localhost:8080/",
          "height": 573
        },
        "outputId": "0e662c1a-ded4-487a-aeab-cd45720aeccc"
      },
      "execution_count": null,
      "outputs": [
        {
          "output_type": "display_data",
          "data": {
            "text/plain": [
              "<Figure size 800x600 with 1 Axes>"
            ],
            "image/png": "[encoded data removed]"
          },
          "metadata": {}
        }
      ]
    },
    {
      "cell_type": "markdown",
      "source": [
        "## Age Histrogram"
      ],
      "metadata": {
        "id": "SyDrH3rUpSR_"
      }
    },
    {
      "cell_type": "code",
      "source": [
        "plt.figure(figsize=(8,6))\n",
        "plt.hist(df['Age'].dropna(), bins=20, edgecolor='black')\n",
        "plt.title('Distribution of Passenger Ages')\n",
        "plt.xlabel('Age')\n",
        "plt.ylabel('Frequency')\n",
        "plt.show()"
      ],
      "metadata": {
        "colab": {
          "base_uri": "https://localhost:8080/",
          "height": 573
        },
        "id": "QpibaH_5pTkB",
        "outputId": "51f446c6-36b1-4514-fec3-348abfae0db2"
      },
      "execution_count": null,
      "outputs": [
        {
          "output_type": "display_data",
          "data": {
            "text/plain": [
              "<Figure size 800x600 with 1 Axes>"
            ],
            "image/png": "[encoded data removed]"
          },
          "metadata": {}
        }
      ]
    },
    {
      "cell_type": "markdown",
      "source": [
        "##  Scatterplot with Linear Regression: Age vs. Fare"
      ],
      "metadata": {
        "id": "cTi6KsUUpcjx"
      }
    },
    {
      "cell_type": "code",
      "source": [
        "plt.figure(figsize=(8,6))\n",
        "sns.regplot(x='Age', y='Fare', data=df, scatter_kws={'alpha':0.5})\n",
        "plt.title('Scatterplot of Age vs Fare with Linear Regression')\n",
        "plt.xlabel('Age')\n",
        "plt.ylabel('Fare')\n",
        "plt.show()\n"
      ],
      "metadata": {
        "colab": {
          "base_uri": "https://localhost:8080/",
          "height": 573
        },
        "id": "stHaqBThpcRW",
        "outputId": "89c1499b-7420-4367-8532-1e6637e5fba3"
      },
      "execution_count": null,
      "outputs": [
        {
          "output_type": "display_data",
          "data": {
            "text/plain": [
              "<Figure size 800x600 with 1 Axes>"
            ],
            "image/png": "[encoded data removed]"
          },
          "metadata": {}
        }
      ]
    },
    {
      "cell_type": "markdown",
      "source": [
        "## Age vs. Survival Rate"
      ],
      "metadata": {
        "id": "mNedUUL7r4Bd"
      }
    },
    {
      "cell_type": "code",
      "source": [
        "import pandas as pd\n",
        "import matplotlib.pyplot as plt\n",
        "import seaborn as sns\n",
        "\n",
        "plt.figure(figsize=(8,6))\n",
        "sns.boxplot(x='Survived', y='Age', data=df)\n",
        "sns.swarmplot(x='Survived', y='Age', data=df, color='black', alpha=0.5)\n",
        "plt.title('Age Distribution by Survival Status')\n",
        "plt.xlabel('Survived')\n",
        "plt.ylabel('Age')\n",
        "plt.xticks([0, 1], ['No', 'Yes'])\n",
        "plt.show()"
      ],
      "metadata": {
        "colab": {
          "base_uri": "https://localhost:8080/",
          "height": 755
        },
        "id": "3Qo26jj3r3Oj",
        "outputId": "9370bbfa-2af4-4ba4-88ef-db4d3987d6fe"
      },
      "execution_count": null,
      "outputs": [
        {
          "output_type": "stream",
          "name": "stderr",
          "text": [
            "/usr/local/lib/python3.11/dist-packages/seaborn/categorical.py:3399: UserWarning: 25.9% of the points cannot be placed; you may want to decrease the size of the markers or use stripplot.\n",
            "  warnings.warn(msg, UserWarning)\n",
            "/usr/local/lib/python3.11/dist-packages/seaborn/categorical.py:3399: UserWarning: 12.3% of the points cannot be placed; you may want to decrease the size of the markers or use stripplot.\n",
            "  warnings.warn(msg, UserWarning)\n",
            "/usr/local/lib/python3.11/dist-packages/seaborn/categorical.py:3399: UserWarning: 25.7% of the points cannot be placed; you may want to decrease the size of the markers or use stripplot.\n",
            "  warnings.warn(msg, UserWarning)\n",
            "/usr/local/lib/python3.11/dist-packages/seaborn/categorical.py:3399: UserWarning: 12.3% of the points cannot be placed; you may want to decrease the size of the markers or use stripplot.\n",
            "  warnings.warn(msg, UserWarning)\n",
            "/usr/local/lib/python3.11/dist-packages/seaborn/categorical.py:3399: UserWarning: 26.0% of the points cannot be placed; you may want to decrease the size of the markers or use stripplot.\n",
            "  warnings.warn(msg, UserWarning)\n"
          ]
        },
        {
          "output_type": "display_data",
          "data": {
            "text/plain": [
              "<Figure size 800x600 with 1 Axes>"
            ],
            "image/png": "[encoded data removed]"
          },
          "metadata": {}
        }
      ]
    },
    {
      "cell_type": "markdown",
      "source": [
        "## Survival Rate by Sex"
      ],
      "metadata": {
        "id": "TQegB5InSjet"
      }
    },
    {
      "cell_type": "code",
      "source": [
        "print(df.columns)"
      ],
      "metadata": {
        "colab": {
          "base_uri": "https://localhost:8080/"
        },
        "id": "etA-_Kx9TgId",
        "outputId": "2155fe8f-82be-46a7-ec59-af594f9c4214"
      },
      "execution_count": null,
      "outputs": [
        {
          "output_type": "stream",
          "name": "stdout",
          "text": [
            "Index(['Survived', 'Pclass', 'Name', 'Sex', 'Age', 'SibSp', 'Parch', 'Fare',\n",
            "       'Embarked', 'Title', 'Sex_male', 'Embarked_C', 'Embarked_Q',\n",
            "       'Embarked_S'],\n",
            "      dtype='object')\n"
          ]
        }
      ]
    },
    {
      "cell_type": "code",
      "source": [
        "import pandas as pd\n",
        "import seaborn as sns\n",
        "import matplotlib.pyplot as plt\n",
        "\n",
        "\n",
        "# Set plot style\n",
        "sns.set(style=\"whitegrid\")\n",
        "\n",
        "# 1. Survival Rate by Sex\n",
        "survival_by_sex = df.groupby(\"Sex_male\")[\"Survived\"].mean().reset_index()\n",
        "\n",
        "plt.figure(figsize=(6, 4))\n",
        "sns.barplot(x=\"Sex_male\", y=\"Survived\", data=survival_by_sex)\n",
        "plt.title(\"Survival Rate by Sex\")\n",
        "plt.ylabel(\"Survival Rate\")\n",
        "plt.xlabel(\"Sex_male\")\n",
        "plt.ylim(0, 1)\n",
        "plt.tight_layout()\n",
        "plt.show()\n",
        "\n"
      ],
      "metadata": {
        "colab": {
          "base_uri": "https://localhost:8080/",
          "height": 401
        },
        "id": "Yph-0qeURN6M",
        "outputId": "0b740e23-1ec3-4294-b91b-05499e0c35d8"
      },
      "execution_count": null,
      "outputs": [
        {
          "output_type": "display_data",
          "data": {
            "text/plain": [
              "<Figure size 600x400 with 1 Axes>"
            ],
            "image/png": "[encoded data removed]"
          },
          "metadata": {}
        }
      ]
    },
    {
      "cell_type": "markdown",
      "source": [
        "## Survival Rate by Fare"
      ],
      "metadata": {
        "id": "Gkp5g37ESuC5"
      }
    },
    {
      "cell_type": "code",
      "source": [
        "# 2. Fare vs Survival (Boxplot)\n",
        "plt.figure(figsize=(6, 4))\n",
        "sns.boxplot(x=\"Survived\", y=\"Fare\", data=df)\n",
        "plt.title(\"Survival Rate by Fare\")\n",
        "plt.xlabel(\"Survived\")\n",
        "plt.ylabel(\"Fare\")\n",
        "plt.tight_layout()\n",
        "plt.show()"
      ],
      "metadata": {
        "colab": {
          "base_uri": "https://localhost:8080/",
          "height": 401
        },
        "id": "bxWMMnxlSJzq",
        "outputId": "fe5a9fd0-58be-4b16-c34e-5cc20c8abd86"
      },
      "execution_count": null,
      "outputs": [
        {
          "output_type": "display_data",
          "data": {
            "text/plain": [
              "<Figure size 600x400 with 1 Axes>"
            ],
            "image/png": "[encoded data removed]"
          },
          "metadata": {}
        }
      ]
    },
    {
      "cell_type": "markdown",
      "source": [
        "## Survival Rate by Embarked Port"
      ],
      "metadata": {
        "id": "ljks_yF-SxN7"
      }
    },
    {
      "cell_type": "code",
      "source": [
        "# 3. Survival Rate by Embarked Port\n",
        "survival_by_embarked = df.groupby(\"Embarked\")[\"Survived\"].mean().reset_index()\n",
        "\n",
        "plt.figure(figsize=(6, 4))\n",
        "sns.barplot(x=\"Embarked\", y=\"Survived\", data=survival_by_embarked)\n",
        "plt.title(\"Survival Rate by Embarked Port\")\n",
        "plt.ylabel(\"Survival Rate\")\n",
        "plt.xlabel(\"Port of Embarkation\")\n",
        "plt.ylim(0, 1)\n",
        "plt.tight_layout()\n",
        "plt.show()"
      ],
      "metadata": {
        "colab": {
          "base_uri": "https://localhost:8080/",
          "height": 401
        },
        "id": "8Fi-UNmJSMAC",
        "outputId": "8aff3a2b-2d93-46e4-b138-8566797fc390"
      },
      "execution_count": null,
      "outputs": [
        {
          "output_type": "display_data",
          "data": {
            "text/plain": [
              "<Figure size 600x400 with 1 Axes>"
            ],
            "image/png": "[encoded data removed]"
          },
          "metadata": {}
        }
      ]
    },
    {
      "cell_type": "markdown",
      "source": [
        "# Models"
      ],
      "metadata": {
        "id": "pH4ZEfSkUqWR"
      }
    },
    {
      "cell_type": "markdown",
      "source": [
        "## Random Forest"
      ],
      "metadata": {
        "id": "jN49-nlbUsqp"
      }
    },
    {
      "cell_type": "code",
      "source": [
        "# numerical cols are separated earlier, called x_cols\n",
        "x_cols"
      ],
      "metadata": {
        "colab": {
          "base_uri": "https://localhost:8080/"
        },
        "id": "tAZHq4NM1YhI",
        "outputId": "3539a5aa-396f-4736-8797-8b76b63d6447",
        "collapsed": true
      },
      "execution_count": null,
      "outputs": [
        {
          "output_type": "execute_result",
          "data": {
            "text/plain": [
              "['Pclass',\n",
              " 'Age',\n",
              " 'Fare',\n",
              " 'SibSp',\n",
              " 'Parch',\n",
              " 'Sex_male',\n",
              " 'Embarked_C',\n",
              " 'Embarked_Q',\n",
              " 'Embarked_S']"
            ]
          },
          "metadata": {},
          "execution_count": 88
        }
      ]
    },
    {
      "cell_type": "code",
      "source": [
        "from sklearn.ensemble import RandomForestClassifier\n",
        "from sklearn.metrics import accuracy_score, classification_report, confusion_matrix\n",
        "from sklearn.model_selection import train_test_split\n",
        "\n",
        "# Prepare X and y\n",
        "X = train_df[x_cols]\n",
        "y = train_df['Survived']\n",
        "\n",
        "# Optional: create a validation set to evaluate performance\n",
        "X_train, X_val, y_train, y_val = train_test_split(X, y, test_size=0.2, random_state=42)\n",
        "\n",
        "# Train Random Forest\n",
        "rf = RandomForestClassifier(n_estimators=100, random_state=42)\n",
        "rf.fit(X_train, y_train)\n",
        "\n",
        "# Evaluate base model\n",
        "y_val_pred = rf.predict(X_val)\n",
        "print(\"Validation Accuracy:\", accuracy_score(y_val, y_val_pred))\n",
        "print(\"\\nClassification Report:\\n\", classification_report(y_val, y_val_pred))\n",
        "print(\"\\nConfusion Matrix:\\n\", confusion_matrix(y_val, y_val_pred))"
      ],
      "metadata": {
        "id": "iK7P7CsWUzt6",
        "colab": {
          "base_uri": "https://localhost:8080/"
        },
        "outputId": "8a7a1828-9391-40fa-9671-f9bbc0c1d718",
        "collapsed": true
      },
      "execution_count": null,
      "outputs": [
        {
          "output_type": "stream",
          "name": "stdout",
          "text": [
            "Validation Accuracy: 0.8268156424581006\n",
            "\n",
            "Classification Report:\n",
            "               precision    recall  f1-score   support\n",
            "\n",
            "         0.0       0.84      0.88      0.86       105\n",
            "         1.0       0.81      0.76      0.78        74\n",
            "\n",
            "    accuracy                           0.83       179\n",
            "   macro avg       0.82      0.82      0.82       179\n",
            "weighted avg       0.83      0.83      0.83       179\n",
            "\n",
            "\n",
            "Confusion Matrix:\n",
            " [[92 13]\n",
            " [18 56]]\n"
          ]
        }
      ]
    },
    {
      "cell_type": "markdown",
      "source": [
        "### GridSearch\n",
        "\n",
        "Don't run, best parameters are already set"
      ],
      "metadata": {
        "id": "86yuE0ipcNKd"
      }
    },
    {
      "cell_type": "code",
      "source": [
        "from sklearn.model_selection import GridSearchCV\n",
        "\n",
        "param_grid = {\n",
        "    'n_estimators': [100, 200, 300, 500],\n",
        "    'max_depth': [5, 10, 20, 30, None],\n",
        "    'min_samples_split': [2, 5, 10],\n",
        "    'min_samples_leaf': [1, 2, 4],\n",
        "    'max_features': ['sqrt', 'log2', None],\n",
        "    'bootstrap': [True, False]\n",
        "}\n",
        "\n",
        "\n",
        "grid_search = GridSearchCV(RandomForestClassifier(random_state=42), param_grid, cv=5, n_jobs=-1, verbose=1)\n",
        "grid_search.fit(X, y)\n",
        "\n",
        "best_rf = grid_search.best_estimator_\n",
        "print(\"Best params:\", grid_search.best_params_)\n"
      ],
      "metadata": {
        "colab": {
          "base_uri": "https://localhost:8080/",
          "height": 389
        },
        "id": "35gXSh4r3BRT",
        "outputId": "a1cc643b-1e94-4fbe-c81a-e8d6a8e5f697"
      },
      "execution_count": null,
      "outputs": [
        {
          "output_type": "stream",
          "name": "stdout",
          "text": [
            "Fitting 5 folds for each of 1080 candidates, totalling 5400 fits\n"
          ]
        },
        {
          "output_type": "error",
          "ename": "KeyboardInterrupt",
          "evalue": "",
          "traceback": [
            "\u001b[0;31m---------------------------------------------------------------------------\u001b[0m",
            "\u001b[0;31mKeyboardInterrupt\u001b[0m                         Traceback (most recent call last)",
            "\u001b[0;32m<ipython-input-35-6754a3b9524d>\u001b[0m in \u001b[0;36m<cell line: 0>\u001b[0;34m()\u001b[0m\n\u001b[1;32m     12\u001b[0m \u001b[0;34m\u001b[0m\u001b[0m\n\u001b[1;32m     13\u001b[0m \u001b[0mgrid_search\u001b[0m \u001b[0;34m=\u001b[0m \u001b[0mGridSearchCV\u001b[0m\u001b[0;34m(\u001b[0m\u001b[0mRandomForestClassifier\u001b[0m\u001b[0;34m(\u001b[0m\u001b[0mrandom_state\u001b[0m\u001b[0;34m=\u001b[0m\u001b[0;36m42\u001b[0m\u001b[0;34m)\u001b[0m\u001b[0;34m,\u001b[0m \u001b[0mparam_grid\u001b[0m\u001b[0;34m,\u001b[0m \u001b[0mcv\u001b[0m\u001b[0;34m=\u001b[0m\u001b[0;36m5\u001b[0m\u001b[0;34m,\u001b[0m \u001b[0mn_jobs\u001b[0m\u001b[0;34m=\u001b[0m\u001b[0;34m-\u001b[0m\u001b[0;36m1\u001b[0m\u001b[0;34m,\u001b[0m \u001b[0mverbose\u001b[0m\u001b[0;34m=\u001b[0m\u001b[0;36m1\u001b[0m\u001b[0;34m)\u001b[0m\u001b[0;34m\u001b[0m\u001b[0;34m\u001b[0m\u001b[0m\n\u001b[0;32m---> 14\u001b[0;31m \u001b[0mgrid_search\u001b[0m\u001b[0;34m.\u001b[0m\u001b[0mfit\u001b[0m\u001b[0;34m(\u001b[0m\u001b[0mX\u001b[0m\u001b[0;34m,\u001b[0m \u001b[0my\u001b[0m\u001b[0;34m)\u001b[0m\u001b[0;34m\u001b[0m\u001b[0;34m\u001b[0m\u001b[0m\n\u001b[0m\u001b[1;32m     15\u001b[0m \u001b[0;34m\u001b[0m\u001b[0m\n\u001b[1;32m     16\u001b[0m \u001b[0mbest_rf\u001b[0m \u001b[0;34m=\u001b[0m \u001b[0mgrid_search\u001b[0m\u001b[0;34m.\u001b[0m\u001b[0mbest_estimator_\u001b[0m\u001b[0;34m\u001b[0m\u001b[0;34m\u001b[0m\u001b[0m\n",
            "\u001b[0;32m/usr/local/lib/python3.11/dist-packages/sklearn/base.py\u001b[0m in \u001b[0;36mwrapper\u001b[0;34m(estimator, *args, **kwargs)\u001b[0m\n\u001b[1;32m   1387\u001b[0m                 )\n\u001b[1;32m   1388\u001b[0m             ):\n\u001b[0;32m-> 1389\u001b[0;31m                 \u001b[0;32mreturn\u001b[0m \u001b[0mfit_method\u001b[0m\u001b[0;34m(\u001b[0m\u001b[0mestimator\u001b[0m\u001b[0;34m,\u001b[0m \u001b[0;34m*\u001b[0m\u001b[0margs\u001b[0m\u001b[0;34m,\u001b[0m \u001b[0;34m**\u001b[0m\u001b[0mkwargs\u001b[0m\u001b[0;34m)\u001b[0m\u001b[0;34m\u001b[0m\u001b[0;34m\u001b[0m\u001b[0m\n\u001b[0m\u001b[1;32m   1390\u001b[0m \u001b[0;34m\u001b[0m\u001b[0m\n\u001b[1;32m   1391\u001b[0m         \u001b[0;32mreturn\u001b[0m \u001b[0mwrapper\u001b[0m\u001b[0;34m\u001b[0m\u001b[0;34m\u001b[0m\u001b[0m\n",
            "\u001b[0;32m/usr/local/lib/python3.11/dist-packages/sklearn/model_selection/_search.py\u001b[0m in \u001b[0;36mfit\u001b[0;34m(self, X, y, **params)\u001b[0m\n\u001b[1;32m   1022\u001b[0m                 \u001b[0;32mreturn\u001b[0m \u001b[0mresults\u001b[0m\u001b[0;34m\u001b[0m\u001b[0;34m\u001b[0m\u001b[0m\n\u001b[1;32m   1023\u001b[0m \u001b[0;34m\u001b[0m\u001b[0m\n\u001b[0;32m-> 1024\u001b[0;31m             \u001b[0mself\u001b[0m\u001b[0;34m.\u001b[0m\u001b[0m_run_search\u001b[0m\u001b[0;34m(\u001b[0m\u001b[0mevaluate_candidates\u001b[0m\u001b[0;34m)\u001b[0m\u001b[0;34m\u001b[0m\u001b[0;34m\u001b[0m\u001b[0m\n\u001b[0m\u001b[1;32m   1025\u001b[0m \u001b[0;34m\u001b[0m\u001b[0m\n\u001b[1;32m   1026\u001b[0m             \u001b[0;31m# multimetric is determined here because in the case of a callable\u001b[0m\u001b[0;34m\u001b[0m\u001b[0;34m\u001b[0m\u001b[0m\n",
            "\u001b[0;32m/usr/local/lib/python3.11/dist-packages/sklearn/model_selection/_search.py\u001b[0m in \u001b[0;36m_run_search\u001b[0;34m(self, evaluate_candidates)\u001b[0m\n\u001b[1;32m   1569\u001b[0m     \u001b[0;32mdef\u001b[0m \u001b[0m_run_search\u001b[0m\u001b[0;34m(\u001b[0m\u001b[0mself\u001b[0m\u001b[0;34m,\u001b[0m \u001b[0mevaluate_candidates\u001b[0m\u001b[0;34m)\u001b[0m\u001b[0;34m:\u001b[0m\u001b[0;34m\u001b[0m\u001b[0;34m\u001b[0m\u001b[0m\n\u001b[1;32m   1570\u001b[0m         \u001b[0;34m\"\"\"Search all candidates in param_grid\"\"\"\u001b[0m\u001b[0;34m\u001b[0m\u001b[0;34m\u001b[0m\u001b[0m\n\u001b[0;32m-> 1571\u001b[0;31m         \u001b[0mevaluate_candidates\u001b[0m\u001b[0;34m(\u001b[0m\u001b[0mParameterGrid\u001b[0m\u001b[0;34m(\u001b[0m\u001b[0mself\u001b[0m\u001b[0;34m.\u001b[0m\u001b[0mparam_grid\u001b[0m\u001b[0;34m)\u001b[0m\u001b[0;34m)\u001b[0m\u001b[0;34m\u001b[0m\u001b[0;34m\u001b[0m\u001b[0m\n\u001b[0m\u001b[1;32m   1572\u001b[0m \u001b[0;34m\u001b[0m\u001b[0m\n\u001b[1;32m   1573\u001b[0m \u001b[0;34m\u001b[0m\u001b[0m\n",
            "\u001b[0;32m/usr/local/lib/python3.11/dist-packages/sklearn/model_selection/_search.py\u001b[0m in \u001b[0;36mevaluate_candidates\u001b[0;34m(candidate_params, cv, more_results)\u001b[0m\n\u001b[1;32m    968\u001b[0m                     )\n\u001b[1;32m    969\u001b[0m \u001b[0;34m\u001b[0m\u001b[0m\n\u001b[0;32m--> 970\u001b[0;31m                 out = parallel(\n\u001b[0m\u001b[1;32m    971\u001b[0m                     delayed(_fit_and_score)(\n\u001b[1;32m    972\u001b[0m                         \u001b[0mclone\u001b[0m\u001b[0;34m(\u001b[0m\u001b[0mbase_estimator\u001b[0m\u001b[0;34m)\u001b[0m\u001b[0;34m,\u001b[0m\u001b[0;34m\u001b[0m\u001b[0;34m\u001b[0m\u001b[0m\n",
            "\u001b[0;32m/usr/local/lib/python3.11/dist-packages/sklearn/utils/parallel.py\u001b[0m in \u001b[0;36m__call__\u001b[0;34m(self, iterable)\u001b[0m\n\u001b[1;32m     75\u001b[0m             \u001b[0;32mfor\u001b[0m \u001b[0mdelayed_func\u001b[0m\u001b[0;34m,\u001b[0m \u001b[0margs\u001b[0m\u001b[0;34m,\u001b[0m \u001b[0mkwargs\u001b[0m \u001b[0;32min\u001b[0m \u001b[0miterable\u001b[0m\u001b[0;34m\u001b[0m\u001b[0;34m\u001b[0m\u001b[0m\n\u001b[1;32m     76\u001b[0m         )\n\u001b[0;32m---> 77\u001b[0;31m         \u001b[0;32mreturn\u001b[0m \u001b[0msuper\u001b[0m\u001b[0;34m(\u001b[0m\u001b[0;34m)\u001b[0m\u001b[0;34m.\u001b[0m\u001b[0m__call__\u001b[0m\u001b[0;34m(\u001b[0m\u001b[0miterable_with_config\u001b[0m\u001b[0;34m)\u001b[0m\u001b[0;34m\u001b[0m\u001b[0;34m\u001b[0m\u001b[0m\n\u001b[0m\u001b[1;32m     78\u001b[0m \u001b[0;34m\u001b[0m\u001b[0m\n\u001b[1;32m     79\u001b[0m \u001b[0;34m\u001b[0m\u001b[0m\n",
            "\u001b[0;32m/usr/local/lib/python3.11/dist-packages/joblib/parallel.py\u001b[0m in \u001b[0;36m__call__\u001b[0;34m(self, iterable)\u001b[0m\n\u001b[1;32m   2005\u001b[0m         \u001b[0mnext\u001b[0m\u001b[0;34m(\u001b[0m\u001b[0moutput\u001b[0m\u001b[0;34m)\u001b[0m\u001b[0;34m\u001b[0m\u001b[0;34m\u001b[0m\u001b[0m\n\u001b[1;32m   2006\u001b[0m \u001b[0;34m\u001b[0m\u001b[0m\n\u001b[0;32m-> 2007\u001b[0;31m         \u001b[0;32mreturn\u001b[0m \u001b[0moutput\u001b[0m \u001b[0;32mif\u001b[0m \u001b[0mself\u001b[0m\u001b[0;34m.\u001b[0m\u001b[0mreturn_generator\u001b[0m \u001b[0;32melse\u001b[0m \u001b[0mlist\u001b[0m\u001b[0;34m(\u001b[0m\u001b[0moutput\u001b[0m\u001b[0;34m)\u001b[0m\u001b[0;34m\u001b[0m\u001b[0;34m\u001b[0m\u001b[0m\n\u001b[0m\u001b[1;32m   2008\u001b[0m \u001b[0;34m\u001b[0m\u001b[0m\n\u001b[1;32m   2009\u001b[0m     \u001b[0;32mdef\u001b[0m \u001b[0m__repr__\u001b[0m\u001b[0;34m(\u001b[0m\u001b[0mself\u001b[0m\u001b[0;34m)\u001b[0m\u001b[0;34m:\u001b[0m\u001b[0;34m\u001b[0m\u001b[0;34m\u001b[0m\u001b[0m\n",
            "\u001b[0;32m/usr/local/lib/python3.11/dist-packages/joblib/parallel.py\u001b[0m in \u001b[0;36m_get_outputs\u001b[0;34m(self, iterator, pre_dispatch)\u001b[0m\n\u001b[1;32m   1648\u001b[0m \u001b[0;34m\u001b[0m\u001b[0m\n\u001b[1;32m   1649\u001b[0m             \u001b[0;32mwith\u001b[0m \u001b[0mself\u001b[0m\u001b[0;34m.\u001b[0m\u001b[0m_backend\u001b[0m\u001b[0;34m.\u001b[0m\u001b[0mretrieval_context\u001b[0m\u001b[0;34m(\u001b[0m\u001b[0;34m)\u001b[0m\u001b[0;34m:\u001b[0m\u001b[0;34m\u001b[0m\u001b[0;34m\u001b[0m\u001b[0m\n\u001b[0;32m-> 1650\u001b[0;31m                 \u001b[0;32myield\u001b[0m \u001b[0;32mfrom\u001b[0m \u001b[0mself\u001b[0m\u001b[0;34m.\u001b[0m\u001b[0m_retrieve\u001b[0m\u001b[0;34m(\u001b[0m\u001b[0;34m)\u001b[0m\u001b[0;34m\u001b[0m\u001b[0;34m\u001b[0m\u001b[0m\n\u001b[0m\u001b[1;32m   1651\u001b[0m \u001b[0;34m\u001b[0m\u001b[0m\n\u001b[1;32m   1652\u001b[0m         \u001b[0;32mexcept\u001b[0m \u001b[0mGeneratorExit\u001b[0m\u001b[0;34m:\u001b[0m\u001b[0;34m\u001b[0m\u001b[0;34m\u001b[0m\u001b[0m\n",
            "\u001b[0;32m/usr/local/lib/python3.11/dist-packages/joblib/parallel.py\u001b[0m in \u001b[0;36m_retrieve\u001b[0;34m(self)\u001b[0m\n\u001b[1;32m   1760\u001b[0m                 (self._jobs[0].get_status(\n\u001b[1;32m   1761\u001b[0m                     timeout=self.timeout) == TASK_PENDING)):\n\u001b[0;32m-> 1762\u001b[0;31m                 \u001b[0mtime\u001b[0m\u001b[0;34m.\u001b[0m\u001b[0msleep\u001b[0m\u001b[0;34m(\u001b[0m\u001b[0;36m0.01\u001b[0m\u001b[0;34m)\u001b[0m\u001b[0;34m\u001b[0m\u001b[0;34m\u001b[0m\u001b[0m\n\u001b[0m\u001b[1;32m   1763\u001b[0m                 \u001b[0;32mcontinue\u001b[0m\u001b[0;34m\u001b[0m\u001b[0;34m\u001b[0m\u001b[0m\n\u001b[1;32m   1764\u001b[0m \u001b[0;34m\u001b[0m\u001b[0m\n",
            "\u001b[0;31mKeyboardInterrupt\u001b[0m: "
          ]
        }
      ]
    },
    {
      "cell_type": "markdown",
      "source": [
        "### Eval"
      ],
      "metadata": {
        "id": "R3rjmJZxcXTF"
      }
    },
    {
      "cell_type": "code",
      "source": [
        "from sklearn.metrics import (\n",
        "    accuracy_score,\n",
        "    classification_report,\n",
        "    confusion_matrix,\n",
        "    roc_auc_score,\n",
        "    ConfusionMatrixDisplay,\n",
        "    RocCurveDisplay,\n",
        "    PrecisionRecallDisplay\n",
        ")\n",
        "import matplotlib.pyplot as plt\n",
        "\n",
        "# The best model is already trained\n",
        "# Best params: {'bootstrap': True, 'max_depth': 10, 'max_features': None, 'min_samples_leaf': 2, 'min_samples_split': 5, 'n_estimators': 100}\n",
        "\n",
        "rf_final = RandomForestClassifier(bootstrap=True, max_depth=10, max_features=None, min_samples_leaf=2, min_samples_split=5, n_estimators=100, random_state=42)\n",
        "rf_final.fit(X, y)\n",
        "\n",
        "# 1) Get predictions and prediction-probabilities\n",
        "y_val_pred  = rf_final.predict(X_val)\n",
        "y_val_probs = rf_final.predict_proba(X_val)[:, 1]\n",
        "\n",
        "# 2) Print scalar metrics\n",
        "acc   = accuracy_score(y_val, y_val_pred)\n",
        "auc   = roc_auc_score(y_val, y_val_probs)\n",
        "print(f\"Accuracy : {acc:.4f}\")\n",
        "print(f\"AUROC    : {auc:.4f}\\n\")\n",
        "print(\"Classification Report:\")\n",
        "print(classification_report(y_val, y_val_pred, digits=4))\n",
        "\n",
        "# 3) Plot Confusion Matrix\n",
        "ConfusionMatrixDisplay.from_predictions(y_val, y_val_pred, cmap=\"Blues\", display_labels=rf_final.classes_)\n",
        "plt.title(\"Confusion Matrix\")\n",
        "plt.show()\n",
        "\n",
        "# 4) Plot ROC Curve\n",
        "RocCurveDisplay.from_predictions(y_val, y_val_probs)\n",
        "plt.title(f\"ROC Curve (AUROC = {auc:.4f})\")\n",
        "plt.show()\n",
        "\n",
        "# 5) Plot Precision–Recall Curve\n",
        "PrecisionRecallDisplay.from_predictions(y_val, y_val_probs)\n",
        "plt.title(\"Precision–Recall Curve\")\n",
        "plt.show()"
      ],
      "metadata": {
        "colab": {
          "base_uri": "https://localhost:8080/",
          "height": 1000
        },
        "id": "ZFORRcWUDAkf",
        "outputId": "b89d4dde-c8ef-434c-b619-4b29b3436ad0"
      },
      "execution_count": null,
      "outputs": [
        {
          "output_type": "stream",
          "name": "stdout",
          "text": [
            "Accuracy : 0.9218\n",
            "AUROC    : 0.9807\n",
            "\n",
            "Classification Report:\n",
            "              precision    recall  f1-score   support\n",
            "\n",
            "         0.0     0.9252    0.9429    0.9340       105\n",
            "         1.0     0.9167    0.8919    0.9041        74\n",
            "\n",
            "    accuracy                         0.9218       179\n",
            "   macro avg     0.9210    0.9174    0.9190       179\n",
            "weighted avg     0.9217    0.9218    0.9216       179\n",
            "\n"
          ]
        },
        {
          "output_type": "display_data",
          "data": {
            "text/plain": [
              "<Figure size 640x480 with 2 Axes>"
            ],
            "image/png": "[encoded data removed]"
          },
          "metadata": {}
        },
        {
          "output_type": "display_data",
          "data": {
            "text/plain": [
              "<Figure size 640x480 with 1 Axes>"
            ],
            "image/png": "[encoded data removed]"
          },
          "metadata": {}
        },
        {
          "output_type": "display_data",
          "data": {
            "text/plain": [
              "<Figure size 640x480 with 1 Axes>"
            ],
            "image/png": "[encoded data removed]"
          },
          "metadata": {}
        }
      ]
    },
    {
      "cell_type": "markdown",
      "source": [
        "## Gradient Boosting"
      ],
      "metadata": {
        "id": "PC7liPi5UvNq"
      }
    },
    {
      "cell_type": "code",
      "source": [
        "from sklearn.ensemble import GradientBoostingClassifier\n",
        "from sklearn.metrics import accuracy_score, classification_report, confusion_matrix\n",
        "from sklearn.model_selection import train_test_split\n",
        "\n",
        "# Prepare X and y\n",
        "X = train_df[x_cols]\n",
        "y = train_df['Survived']\n",
        "\n",
        "# Train-test split\n",
        "X_train, X_val, y_train, y_val = train_test_split(X, y, test_size=0.2, random_state=42)\n",
        "\n",
        "# Train Gradient Boosting Classifier\n",
        "gbm = GradientBoostingClassifier(random_state=42)\n",
        "gbm.fit(X_train, y_train)\n",
        "\n",
        "# Evaluate base model\n",
        "y_val_pred = gbm.predict(X_val)\n",
        "print(\"Validation Accuracy:\", accuracy_score(y_val, y_val_pred))\n",
        "print(\"\\nClassification Report:\\n\", classification_report(y_val, y_val_pred))\n",
        "print(\"\\nConfusion Matrix:\\n\", confusion_matrix(y_val, y_val_pred))"
      ],
      "metadata": {
        "colab": {
          "base_uri": "https://localhost:8080/"
        },
        "id": "e_3RrUy2UpRI",
        "outputId": "9290ba33-61e9-4edd-9679-05734c8ea2fa",
        "collapsed": true
      },
      "execution_count": null,
      "outputs": [
        {
          "output_type": "stream",
          "name": "stdout",
          "text": [
            "Validation Accuracy: 0.8212290502793296\n",
            "\n",
            "Classification Report:\n",
            "               precision    recall  f1-score   support\n",
            "\n",
            "         0.0       0.82      0.89      0.85       105\n",
            "         1.0       0.82      0.73      0.77        74\n",
            "\n",
            "    accuracy                           0.82       179\n",
            "   macro avg       0.82      0.81      0.81       179\n",
            "weighted avg       0.82      0.82      0.82       179\n",
            "\n",
            "\n",
            "Confusion Matrix:\n",
            " [[93 12]\n",
            " [20 54]]\n"
          ]
        }
      ]
    },
    {
      "cell_type": "markdown",
      "source": [
        "### GridSearch\n",
        "\n",
        "Don't run, best parameters are already set"
      ],
      "metadata": {
        "id": "9EMbpCqDcFvd"
      }
    },
    {
      "cell_type": "code",
      "source": [
        "from sklearn.model_selection import GridSearchCV\n",
        "\n",
        "param_grid = {\n",
        "    'n_estimators': [100, 200],\n",
        "    'max_depth': [5, 10],\n",
        "    'min_samples_split': [2, 5],\n",
        "    'min_samples_leaf': [1, 2],\n",
        "    'max_features': ['sqrt', 'log2', None],\n",
        "}\n",
        "\n",
        "\n",
        "# Perform grid search\n",
        "grid_search = GridSearchCV(\n",
        "    GradientBoostingClassifier(random_state=42),\n",
        "    param_grid,\n",
        "    cv=5,\n",
        "    n_jobs=-1,\n",
        "    verbose=1\n",
        ")\n",
        "grid_search.fit(X_train, y_train)\n",
        "\n",
        "# Best model and parameters\n",
        "best_gbm = grid_search.best_estimator_\n",
        "print(\"Best Parameters from GridSearchCV:\", grid_search.best_params_)"
      ],
      "metadata": {
        "id": "vPxzqKMRE2k0"
      },
      "execution_count": null,
      "outputs": []
    },
    {
      "cell_type": "markdown",
      "source": [
        "### Eval"
      ],
      "metadata": {
        "id": "UWf9OPy6cUtM"
      }
    },
    {
      "cell_type": "code",
      "source": [
        "from sklearn.metrics import (\n",
        "    accuracy_score,\n",
        "    classification_report,\n",
        "    confusion_matrix,\n",
        "    roc_auc_score,\n",
        "    ConfusionMatrixDisplay,\n",
        "    RocCurveDisplay,\n",
        "    PrecisionRecallDisplay\n",
        ")\n",
        "import matplotlib.pyplot as plt\n",
        "\n",
        "# Best Parameters from GridSearchCV: {'max_depth': 5, 'max_features': 'sqrt', 'min_samples_leaf': 1, 'min_samples_split': 5, 'n_estimators': 100}\n",
        "# Final model trained on full training data\n",
        "gbm_final = GradientBoostingClassifier(random_state=42, max_depth=5, max_features='sqrt', min_samples_leaf=1, min_samples_split=5,  n_estimators=100   )\n",
        "gbm_final.fit(X, y)\n",
        "\n",
        "# 1) Get predictions and prediction-probabilities\n",
        "y_val_pred  = gbm_final.predict(X_val)\n",
        "y_val_probs = gbm_final.predict_proba(X_val)[:, 1]\n",
        "\n",
        "# 2) Print scalar metrics\n",
        "acc   = accuracy_score(y_val, y_val_pred)\n",
        "auc   = roc_auc_score(y_val, y_val_probs)\n",
        "print(f\"Accuracy : {acc:.4f}\")\n",
        "print(f\"AUROC    : {auc:.4f}\\n\")\n",
        "print(\"Classification Report:\")\n",
        "print(classification_report(y_val, y_val_pred, digits=4))\n",
        "\n",
        "# 3) Plot Confusion Matrix\n",
        "ConfusionMatrixDisplay.from_predictions(y_val, y_val_pred, cmap=\"Blues\", display_labels=rf_final.classes_)\n",
        "plt.title(\"Confusion Matrix\")\n",
        "plt.show()\n",
        "\n",
        "# 4) Plot ROC Curve\n",
        "RocCurveDisplay.from_predictions(y_val, y_val_probs)\n",
        "plt.title(f\"ROC Curve (AUROC = {auc:.4f})\")\n",
        "plt.show()\n",
        "\n",
        "# 5) Plot Precision–Recall Curve\n",
        "PrecisionRecallDisplay.from_predictions(y_val, y_val_probs)\n",
        "plt.title(\"Precision–Recall Curve\")\n",
        "plt.show()"
      ],
      "metadata": {
        "colab": {
          "base_uri": "https://localhost:8080/",
          "height": 1000
        },
        "id": "QOeSwVDDGSMY",
        "outputId": "a6742b16-34c5-4891-8ac0-7a0d9335ceca"
      },
      "execution_count": null,
      "outputs": [
        {
          "output_type": "stream",
          "name": "stdout",
          "text": [
            "Accuracy : 0.9441\n",
            "AUROC    : 0.9843\n",
            "\n",
            "Classification Report:\n",
            "              precision    recall  f1-score   support\n",
            "\n",
            "         0.0     0.9524    0.9524    0.9524       105\n",
            "         1.0     0.9324    0.9324    0.9324        74\n",
            "\n",
            "    accuracy                         0.9441       179\n",
            "   macro avg     0.9424    0.9424    0.9424       179\n",
            "weighted avg     0.9441    0.9441    0.9441       179\n",
            "\n"
          ]
        },
        {
          "output_type": "display_data",
          "data": {
            "text/plain": [
              "<Figure size 640x480 with 2 Axes>"
            ],
            "image/png": "[encoded data removed]"
          },
          "metadata": {}
        },
        {
          "output_type": "display_data",
          "data": {
            "text/plain": [
              "<Figure size 640x480 with 1 Axes>"
            ],
            "image/png": "[encoded data removed]"
          },
          "metadata": {}
        },
        {
          "output_type": "display_data",
          "data": {
            "text/plain": [
              "<Figure size 640x480 with 1 Axes>"
            ],
            "image/png": "[encoded data removed]"
          },
          "metadata": {}
        }
      ]
    },
    {
      "cell_type": "markdown",
      "source": [
        "## Extreme GB"
      ],
      "metadata": {
        "id": "S3jM_Y2FU3en"
      }
    },
    {
      "cell_type": "code",
      "source": [
        "from sklearn.metrics import accuracy_score, classification_report, confusion_matrix, roc_auc_score\n",
        "from sklearn.model_selection import train_test_split\n",
        "from xgboost import XGBClassifier\n",
        "\n",
        "# Prepare X and y\n",
        "X = train_df[x_cols]\n",
        "y = train_df['Survived']\n",
        "\n",
        "# Train-test split (val)\n",
        "X_train, X_val, y_train, y_val = train_test_split(X, y, test_size=0.2, random_state=42)\n",
        "\n",
        "# Train Extreme Gradient Boosting Classifier model\n",
        "xgb = XGBClassifier(n_estimators=10, objective='binary:logistic', random_state=42)\n",
        "#xgb = XGBClassifier(n_estimators=10, max_depth=2, learning_rate=1, objective='binary:logistic', random_state=42)\n",
        "xgb.fit(X_train, y_train)\n",
        "\n",
        "# Evaluate base model\n",
        "y_val_pred = xgb.predict(X_val)\n",
        "print(\"Validation Accuracy:\", accuracy_score(y_val, y_val_pred))\n",
        "print(\"\\nClassification Report:\\n\", classification_report(y_val, y_val_pred))\n",
        "print(\"\\nConfusion Matrix:\\n\", confusion_matrix(y_val, y_val_pred))\n",
        "\n",
        "# Final model trained on full data\n",
        "xgb_all = XGBClassifier(n_estimators=100, random_state=40)\n",
        "xgb_all.fit(X, y)\n",
        "\n",
        "# Predict on test_df\n",
        "X_test = test_df[x_cols]\n",
        "test_predictions = xgb_all.predict(X_test)\n",
        "\n",
        "# Attaching predictions to test.df\n",
        "test_df['Survived_pred_xgb'] = test_predictions"
      ],
      "metadata": {
        "id": "0vt4NQWFU3z7",
        "colab": {
          "base_uri": "https://localhost:8080/"
        },
        "outputId": "b5b7e0c3-11ee-47b2-a7b0-10be0167ca45",
        "collapsed": true
      },
      "execution_count": null,
      "outputs": [
        {
          "output_type": "stream",
          "name": "stdout",
          "text": [
            "Validation Accuracy: 0.8379888268156425\n",
            "\n",
            "Classification Report:\n",
            "               precision    recall  f1-score   support\n",
            "\n",
            "         0.0       0.83      0.91      0.87       105\n",
            "         1.0       0.86      0.73      0.79        74\n",
            "\n",
            "    accuracy                           0.84       179\n",
            "   macro avg       0.84      0.82      0.83       179\n",
            "weighted avg       0.84      0.84      0.84       179\n",
            "\n",
            "\n",
            "Confusion Matrix:\n",
            " [[96  9]\n",
            " [20 54]]\n"
          ]
        },
        {
          "output_type": "stream",
          "name": "stderr",
          "text": [
            "<ipython-input-91-93fc33d26e71>:32: SettingWithCopyWarning: \n",
            "A value is trying to be set on a copy of a slice from a DataFrame.\n",
            "Try using .loc[row_indexer,col_indexer] = value instead\n",
            "\n",
            "See the caveats in the documentation: https://pandas.pydata.org/pandas-docs/stable/user_guide/indexing.html#returning-a-view-versus-a-copy\n",
            "  test_df['Survived_pred_xgb'] = test_predictions\n"
          ]
        }
      ]
    },
    {
      "cell_type": "markdown",
      "source": [
        "### GridSearch\n",
        "\n",
        "Don't run, best parameters are already set"
      ],
      "metadata": {
        "id": "WbcyRCXbcPAA"
      }
    },
    {
      "cell_type": "code",
      "source": [
        "from sklearn.model_selection import GridSearchCV\n",
        "\n",
        "rerun_search = False\n",
        "if rerun_search:\n",
        "    # Define the parameter grid\n",
        "    param_grid = {\n",
        "        'n_estimators': [50, 100, 200, 300],        # 10, 200, 300 aren't in the best ever\n",
        "        'max_depth': [3, 5, 7, None],\n",
        "        'learning_rate': [0.05, 0.1, 0.2, 0.5],     # 1 is far too high\n",
        "        'subsample': [0.3, 0.6, 1],\n",
        "        'tree_method': ['exact', 'approx', 'hist'],\n",
        "        #'grow_policy': ['depthwise', 'lossguide'],  # lossguide doesn't work with exact, but it isn't better than depthwise anyways\n",
        "    }\n",
        "\n",
        "\n",
        "    # Perform grid search\n",
        "    grid_search = GridSearchCV(\n",
        "        XGBClassifier(random_state=42),\n",
        "        param_grid,\n",
        "        cv=5,\n",
        "        n_jobs=-1,\n",
        "        verbose=1,\n",
        "        error_score='raise'\n",
        "    )\n",
        "    grid_search.fit(X_train, y_train)\n",
        "\n",
        "    # Best model and parameters\n",
        "    best_xgb = grid_search.best_estimator_\n",
        "    print(\"Best Parameters from GridSearchCV:\", grid_search.best_params_)"
      ],
      "metadata": {
        "id": "GslwhhQuDmmq"
      },
      "execution_count": null,
      "outputs": []
    },
    {
      "cell_type": "markdown",
      "source": [
        "### Eval"
      ],
      "metadata": {
        "id": "0m3MLZ3ocRmS"
      }
    },
    {
      "cell_type": "code",
      "source": [
        "from sklearn.metrics import ConfusionMatrixDisplay, RocCurveDisplay, PrecisionRecallDisplay\n",
        "import matplotlib.pyplot as plt\n",
        "\n",
        "# Best Parameters from GridSearchCV and manual testing: {'learning_rate': 0.1, 'max_depth': 7, 'n_estimators': 50, 'subsample': 1, 'tree_method': 'approx'}\n",
        "\n",
        "# Final model trained on full data\n",
        "xgb_final_eval = XGBClassifier(learning_rate=0.1, max_depth=7, subsample=1, tree_method='approx', n_estimators=50, random_state=42)\n",
        "xgb_final_eval.fit(X_train, y_train)\n",
        "\n",
        "# Evaluate\n",
        "y_val_pred = xgb_final_eval.predict(X_val)\n",
        "print(\"Validation Accuracy:\", accuracy_score(y_val, y_val_pred))\n",
        "print(\"\\nClassification Report:\\n\", classification_report(y_val, y_val_pred))\n",
        "#print(\"\\nConfusion Matrix:\\n\", confusion_matrix(y_val, y_val_pred))\n",
        "#print(\"\\nAUROC Score:\", roc_auc_score(y_val, y_val_pred), \"\\n\")"
      ],
      "metadata": {
        "id": "vc-jWPMLEoCb",
        "colab": {
          "base_uri": "https://localhost:8080/"
        },
        "outputId": "1dd63be3-c75e-43e4-d86b-7419f8c11de9"
      },
      "execution_count": null,
      "outputs": [
        {
          "output_type": "stream",
          "name": "stdout",
          "text": [
            "Validation Accuracy: 0.8547486033519553\n",
            "\n",
            "Classification Report:\n",
            "               precision    recall  f1-score   support\n",
            "\n",
            "         0.0       0.87      0.89      0.88       105\n",
            "         1.0       0.83      0.81      0.82        74\n",
            "\n",
            "    accuracy                           0.85       179\n",
            "   macro avg       0.85      0.85      0.85       179\n",
            "weighted avg       0.85      0.85      0.85       179\n",
            "\n"
          ]
        }
      ]
    },
    {
      "cell_type": "code",
      "source": [
        "# Confusion matrix display\n",
        "ConfusionMatrixDisplay.from_estimator(xgb_final_eval, X_val, y_val, cmap='Blues')\n",
        "plt.title(\"Confusion Matrix\")\n",
        "plt.show()\n",
        "\n",
        "# ROC Curve display\n",
        "y_val_probs = xgb_final_eval.predict_proba(X_val)[:, 1]\n",
        "\n",
        "RocCurveDisplay.from_predictions(y_val, y_val_probs)\n",
        "plt.title(f\"ROC Curve (AUROC Score = {roc_auc_score(y_val, y_val_pred):.6f})\")\n",
        "plt.show()\n"
      ],
      "metadata": {
        "id": "rvYN21PgDPM0",
        "colab": {
          "base_uri": "https://localhost:8080/",
          "height": 943
        },
        "outputId": "0237c9e9-c934-4678-8d5e-05322fb6a03e"
      },
      "execution_count": null,
      "outputs": [
        {
          "output_type": "display_data",
          "data": {
            "text/plain": [
              "<Figure size 640x480 with 2 Axes>"
            ],
            "image/png": "[encoded data removed]"
          },
          "metadata": {}
        },
        {
          "output_type": "display_data",
          "data": {
            "text/plain": [
              "<Figure size 640x480 with 1 Axes>"
            ],
            "image/png": "[encoded data removed]"
          },
          "metadata": {}
        }
      ]
    },
    {
      "cell_type": "markdown",
      "source": [
        "### Final model and results"
      ],
      "metadata": {
        "id": "Hr_WEsuMDS2J"
      }
    },
    {
      "cell_type": "code",
      "source": [
        "# Final model trained on full data\n",
        "xgb_final = XGBClassifier(learning_rate=0.1, max_depth=3, subsample=1, tree_method='approx', n_estimators=100, random_state=42)\n",
        "xgb_final.fit(X, y)\n",
        "\n",
        "# Predict on test_df\n",
        "X_test = test_df[x_cols]\n",
        "test_predictions = xgb_final.predict(X_test)\n",
        "\n",
        "# Attaching predictions to test.df\n",
        "test_df['Survived_pred_xgb'] = test_predictions"
      ],
      "metadata": {
        "id": "vL1V6WNC7GC7",
        "colab": {
          "base_uri": "https://localhost:8080/"
        },
        "outputId": "b321d81c-fd51-40c5-935f-2c8730bb0626"
      },
      "execution_count": null,
      "outputs": [
        {
          "output_type": "stream",
          "name": "stderr",
          "text": [
            "<ipython-input-94-0bf0eafd055a>:10: SettingWithCopyWarning: \n",
            "A value is trying to be set on a copy of a slice from a DataFrame.\n",
            "Try using .loc[row_indexer,col_indexer] = value instead\n",
            "\n",
            "See the caveats in the documentation: https://pandas.pydata.org/pandas-docs/stable/user_guide/indexing.html#returning-a-view-versus-a-copy\n",
            "  test_df['Survived_pred_xgb'] = test_predictions\n"
          ]
        }
      ]
    },
    {
      "cell_type": "markdown",
      "source": [
        "# Összehasonlítás"
      ],
      "metadata": {
        "id": "rhCDRbkbAjua"
      }
    },
    {
      "cell_type": "markdown",
      "source": [
        "Random Forest: Pontosság: 0.9218. Összesen 8db FN és 6db FP klasszifikáció történt. A ROC görbe közel halad el a bal felső sarokhoz, ami jó teljesítményt jelent. A PRC sokáig egyenesen és magasan halad, megközelíti a jobb felső sarkot, ezzel szintés nagyon jó teljesítményt jelezve.  \n",
        "\n",
        "Gradient Boosting: Pontosság 0.9441. Összesen 5db FN és 5db FP érték van, ez 37.5% és 16.6%-os javulást jelent, ami nagyon jónak mondható. A ROC és PRC közelebb haladnak a megfelelő sarkokhoz, mint az RF esetében.\n",
        "\n",
        "Extreme Gradient Boosting: Pontosság: 0.8547, ez lényegesen elmaradt a RF és GBM eredményétől. 12db FN és 14FP értéket kaptunk, ami 140% és 180% romlás a GBM-hez képest. A ROC és PRC görbékről is hasonló adatok olvashatók le, nem közelíti meg olyan mértékben az ideális modelt, mint az előző kettő."
      ],
      "metadata": {
        "id": "DLs95jr-AphU"
      }
    },
    {
      "cell_type": "markdown",
      "source": [
        "# Applikáció Terv\n",
        "\n",
        "Gradios felület, ahol inputként megadhatjuk karakterünk adatait és a model megadja, hogy túléltük volna vagy sem."
      ],
      "metadata": {
        "id": "dGy2fJpMAmJP"
      }
    }
  ]
}